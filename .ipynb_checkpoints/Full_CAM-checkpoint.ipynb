{
 "cells": [
  {
   "cell_type": "code",
   "execution_count": 1,
   "metadata": {},
   "outputs": [],
   "source": [
    "import re\n",
    "import numpy as np\n",
    "import pandas as pd\n",
    "import os\n",
    "from os import walk\n",
    "import math\n",
    "\n",
    "import cv2 as cv\n",
    "import networkx as nx\n",
    "\n",
    "import chart_studio.plotly as py\n",
    "import plotly.offline as py\n",
    "import plotly.graph_objects as go\n",
    "import matplotlib.pyplot as plt\n",
    "#from Shapes import shapes\n",
    "#from Lines import lines\n"
   ]
  },
  {
   "cell_type": "code",
   "execution_count": 2,
   "metadata": {},
   "outputs": [],
   "source": [
    "from ipywidgets import interact"
   ]
  },
  {
   "cell_type": "markdown",
   "metadata": {},
   "source": [
    "### Pulling in Data"
   ]
  },
  {
   "cell_type": "code",
   "execution_count": 19,
   "metadata": {},
   "outputs": [],
   "source": [
    "#Path to adrienne's data\n",
    "file_path = '/Users/agetecza/CAM_Data/AT_CAM/Data/Clean'"
   ]
  },
  {
   "cell_type": "code",
   "execution_count": 9,
   "metadata": {},
   "outputs": [],
   "source": [
    "file_path = '/home/carterrhea/Dropbox/APLS-CAM-Proposal/DataFinal/Clean/' #path to data on local computer"
   ]
  },
  {
   "cell_type": "code",
   "execution_count": 15,
   "metadata": {},
   "outputs": [],
   "source": [
    "#Function to get unique elements from a list\n",
    "def list_unique(list1): \n",
    "  \n",
    "    # intilize a null list \n",
    "    unique_list = [] \n",
    "      \n",
    "    # traverse for all elements \n",
    "    for x in list1: \n",
    "        # check if exists in unique_list or not \n",
    "        if x not in unique_list: \n",
    "            unique_list.append(x) \n",
    "            \n",
    "    return unique_list"
   ]
  },
  {
   "cell_type": "code",
   "execution_count": 16,
   "metadata": {},
   "outputs": [],
   "source": [
    "def make_id_list(my_file_path):\n",
    "\n",
    "    #pull all filenames in your data directory\n",
    "    _, _, filenames = next(walk(my_file_path))\n",
    "\n",
    "    #grab only the id from the filenames to feed to the function\n",
    "    id_list = []\n",
    "    for filename in filenames:\n",
    "        filename_split = filename.rsplit('_', 1)\n",
    "        id_list.append(filename_split[0])\n",
    "    \n",
    "    unique_id = list_unique(id_list) #drop duplicate ids, since they are the same for _blocks & _links\n",
    "        \n",
    "    \n",
    "    \n",
    "    return unique_id"
   ]
  },
  {
   "cell_type": "code",
   "execution_count": 20,
   "metadata": {},
   "outputs": [],
   "source": [
    "#Get an id_list from your specific file path\n",
    "my_id_list = make_id_list(file_path)"
   ]
  },
  {
   "cell_type": "code",
   "execution_count": 21,
   "metadata": {},
   "outputs": [
    {
     "data": {
      "text/plain": [
       "159"
      ]
     },
     "execution_count": 21,
     "metadata": {},
     "output_type": "execute_result"
    }
   ],
   "source": [
    "#Look at total number of cams\n",
    "len(my_id_list)"
   ]
  },
  {
   "cell_type": "markdown",
   "metadata": {},
   "source": [
    "### Looking at a single CAM"
   ]
  },
  {
   "cell_type": "code",
   "execution_count": 22,
   "metadata": {},
   "outputs": [
    {
     "data": {
      "text/html": [
       "<div>\n",
       "<style scoped>\n",
       "    .dataframe tbody tr th:only-of-type {\n",
       "        vertical-align: middle;\n",
       "    }\n",
       "\n",
       "    .dataframe tbody tr th {\n",
       "        vertical-align: top;\n",
       "    }\n",
       "\n",
       "    .dataframe thead th {\n",
       "        text-align: right;\n",
       "    }\n",
       "</style>\n",
       "<table border=\"1\" class=\"dataframe\">\n",
       "  <thead>\n",
       "    <tr style=\"text-align: right;\">\n",
       "      <th></th>\n",
       "      <th>id</th>\n",
       "      <th>title</th>\n",
       "      <th>x_pos</th>\n",
       "      <th>y_pos</th>\n",
       "      <th>width</th>\n",
       "      <th>height</th>\n",
       "      <th>shape</th>\n",
       "      <th>creator</th>\n",
       "      <th>num</th>\n",
       "      <th>comment</th>\n",
       "      <th>timestamp</th>\n",
       "      <th>modifiable</th>\n",
       "      <th>CAM</th>\n",
       "    </tr>\n",
       "  </thead>\n",
       "  <tbody>\n",
       "    <tr>\n",
       "      <th>0</th>\n",
       "      <td>14076</td>\n",
       "      <td>economic growth</td>\n",
       "      <td>650.0</td>\n",
       "      <td>168.0</td>\n",
       "      <td>160.0</td>\n",
       "      <td>120.0</td>\n",
       "      <td>negative strong</td>\n",
       "      <td>789</td>\n",
       "      <td>5.0</td>\n",
       "      <td>A carbon tax by design raises the cost of ener...</td>\n",
       "      <td>18:30:59</td>\n",
       "      <td>1</td>\n",
       "      <td>903</td>\n",
       "    </tr>\n",
       "    <tr>\n",
       "      <th>1</th>\n",
       "      <td>14092</td>\n",
       "      <td>environment</td>\n",
       "      <td>731.0</td>\n",
       "      <td>373.0</td>\n",
       "      <td>160.0</td>\n",
       "      <td>120.0</td>\n",
       "      <td>positive strong</td>\n",
       "      <td>789</td>\n",
       "      <td>6.0</td>\n",
       "      <td>NaN</td>\n",
       "      <td>18:39:59</td>\n",
       "      <td>1</td>\n",
       "      <td>903</td>\n",
       "    </tr>\n",
       "    <tr>\n",
       "      <th>2</th>\n",
       "      <td>14157</td>\n",
       "      <td>CARBON TAX</td>\n",
       "      <td>426.0</td>\n",
       "      <td>330.0</td>\n",
       "      <td>160.0</td>\n",
       "      <td>120.0</td>\n",
       "      <td>neutral</td>\n",
       "      <td>789</td>\n",
       "      <td>7.0</td>\n",
       "      <td>NaN</td>\n",
       "      <td>NaN</td>\n",
       "      <td>1</td>\n",
       "      <td>903</td>\n",
       "    </tr>\n",
       "    <tr>\n",
       "      <th>3</th>\n",
       "      <td>14059</td>\n",
       "      <td>Tax</td>\n",
       "      <td>273.0</td>\n",
       "      <td>91.0</td>\n",
       "      <td>160.0</td>\n",
       "      <td>120.0</td>\n",
       "      <td>ambivalent</td>\n",
       "      <td>789</td>\n",
       "      <td>1.0</td>\n",
       "      <td>NaN</td>\n",
       "      <td>18:59:32</td>\n",
       "      <td>1</td>\n",
       "      <td>903</td>\n",
       "    </tr>\n",
       "    <tr>\n",
       "      <th>4</th>\n",
       "      <td>14317</td>\n",
       "      <td>tax credit</td>\n",
       "      <td>50.0</td>\n",
       "      <td>72.0</td>\n",
       "      <td>160.0</td>\n",
       "      <td>120.0</td>\n",
       "      <td>positive weak</td>\n",
       "      <td>789</td>\n",
       "      <td>8.0</td>\n",
       "      <td>NaN</td>\n",
       "      <td>NaN</td>\n",
       "      <td>1</td>\n",
       "      <td>903</td>\n",
       "    </tr>\n",
       "  </tbody>\n",
       "</table>\n",
       "</div>"
      ],
      "text/plain": [
       "      id            title  x_pos  y_pos  width  height            shape  \\\n",
       "0  14076  economic growth  650.0  168.0  160.0   120.0  negative strong   \n",
       "1  14092      environment  731.0  373.0  160.0   120.0  positive strong   \n",
       "2  14157       CARBON TAX  426.0  330.0  160.0   120.0          neutral   \n",
       "3  14059              Tax  273.0   91.0  160.0   120.0       ambivalent   \n",
       "4  14317       tax credit   50.0   72.0  160.0   120.0    positive weak   \n",
       "\n",
       "   creator  num                                            comment timestamp  \\\n",
       "0      789  5.0  A carbon tax by design raises the cost of ener...  18:30:59   \n",
       "1      789  6.0                                                NaN  18:39:59   \n",
       "2      789  7.0                                                NaN       NaN   \n",
       "3      789  1.0                                                NaN  18:59:32   \n",
       "4      789  8.0                                                NaN       NaN   \n",
       "\n",
       "   modifiable  CAM  \n",
       "0           1  903  \n",
       "1           1  903  \n",
       "2           1  903  \n",
       "3           1  903  \n",
       "4           1  903  "
      ]
     },
     "metadata": {},
     "output_type": "display_data"
    },
    {
     "data": {
      "text/html": [
       "<div>\n",
       "<style scoped>\n",
       "    .dataframe tbody tr th:only-of-type {\n",
       "        vertical-align: middle;\n",
       "    }\n",
       "\n",
       "    .dataframe tbody tr th {\n",
       "        vertical-align: top;\n",
       "    }\n",
       "\n",
       "    .dataframe thead th {\n",
       "        text-align: right;\n",
       "    }\n",
       "</style>\n",
       "<table border=\"1\" class=\"dataframe\">\n",
       "  <thead>\n",
       "    <tr style=\"text-align: right;\">\n",
       "      <th></th>\n",
       "      <th>id</th>\n",
       "      <th>starting_block</th>\n",
       "      <th>ending_block</th>\n",
       "      <th>line_style</th>\n",
       "      <th>creator</th>\n",
       "      <th>num</th>\n",
       "      <th>arrow_type</th>\n",
       "      <th>timestamp</th>\n",
       "      <th>CAM</th>\n",
       "    </tr>\n",
       "  </thead>\n",
       "  <tbody>\n",
       "    <tr>\n",
       "      <th>0</th>\n",
       "      <td>8511</td>\n",
       "      <td>14076</td>\n",
       "      <td>14157</td>\n",
       "      <td>Dashed</td>\n",
       "      <td>789</td>\n",
       "      <td>0</td>\n",
       "      <td>none</td>\n",
       "      <td>18:42:42</td>\n",
       "      <td>903</td>\n",
       "    </tr>\n",
       "    <tr>\n",
       "      <th>1</th>\n",
       "      <td>8488</td>\n",
       "      <td>14092</td>\n",
       "      <td>14157</td>\n",
       "      <td>Solid</td>\n",
       "      <td>789</td>\n",
       "      <td>0</td>\n",
       "      <td>none</td>\n",
       "      <td>18:42:22</td>\n",
       "      <td>903</td>\n",
       "    </tr>\n",
       "    <tr>\n",
       "      <th>2</th>\n",
       "      <td>8549</td>\n",
       "      <td>14059</td>\n",
       "      <td>14157</td>\n",
       "      <td>Solid-Weak</td>\n",
       "      <td>789</td>\n",
       "      <td>0</td>\n",
       "      <td>none</td>\n",
       "      <td>18:44:27</td>\n",
       "      <td>903</td>\n",
       "    </tr>\n",
       "    <tr>\n",
       "      <th>3</th>\n",
       "      <td>8623</td>\n",
       "      <td>14059</td>\n",
       "      <td>14317</td>\n",
       "      <td>Solid-Weak</td>\n",
       "      <td>789</td>\n",
       "      <td>0</td>\n",
       "      <td>none</td>\n",
       "      <td>18:46:00</td>\n",
       "      <td>903</td>\n",
       "    </tr>\n",
       "    <tr>\n",
       "      <th>4</th>\n",
       "      <td>8676</td>\n",
       "      <td>14092</td>\n",
       "      <td>14338</td>\n",
       "      <td>Solid-Weak</td>\n",
       "      <td>789</td>\n",
       "      <td>0</td>\n",
       "      <td>none</td>\n",
       "      <td>18:49:01</td>\n",
       "      <td>903</td>\n",
       "    </tr>\n",
       "  </tbody>\n",
       "</table>\n",
       "</div>"
      ],
      "text/plain": [
       "     id  starting_block  ending_block  line_style  creator  num arrow_type  \\\n",
       "0  8511           14076         14157      Dashed      789    0       none   \n",
       "1  8488           14092         14157       Solid      789    0       none   \n",
       "2  8549           14059         14157  Solid-Weak      789    0       none   \n",
       "3  8623           14059         14317  Solid-Weak      789    0       none   \n",
       "4  8676           14092         14338  Solid-Weak      789    0       none   \n",
       "\n",
       "  timestamp  CAM  \n",
       "0  18:42:42  903  \n",
       "1  18:42:22  903  \n",
       "2  18:44:27  903  \n",
       "3  18:46:00  903  \n",
       "4  18:49:01  903  "
      ]
     },
     "metadata": {},
     "output_type": "display_data"
    }
   ],
   "source": [
    "cam_id = my_id_list[2] #grab a single id to just look through code\n",
    "\n",
    "blocks = pd.read_csv(f'{file_path}/{cam_id}_blocks.csv')\n",
    "links = pd.read_csv(f'{file_path}/{cam_id}_links.csv')\n",
    "\n",
    "display(blocks.head())\n",
    "display(links.head())"
   ]
  },
  {
   "cell_type": "markdown",
   "metadata": {},
   "source": [
    "## Create A Graph Using Networkx"
   ]
  },
  {
   "cell_type": "markdown",
   "metadata": {},
   "source": [
    "### Create a function to build most basic graph"
   ]
  },
  {
   "cell_type": "code",
   "execution_count": 23,
   "metadata": {},
   "outputs": [],
   "source": [
    "def graph_from_df(node_df, edge_df):\n",
    "    # Get nodes\n",
    "    nodes = node_df['id'].to_list()\n",
    "    \n",
    "    # Get edges\n",
    "    edge_start = edge_df['starting_block'].to_list()\n",
    "    edge_end = edge_df['ending_block'].to_list()\n",
    "    edges = tuple(zip(edge_start, edge_end))\n",
    "    \n",
    "    # Create Graph\n",
    "    G = nx.Graph()\n",
    "    G.add_nodes_from(nodes)\n",
    "    G.add_edges_from(edges)\n",
    "    \n",
    "    return G"
   ]
  },
  {
   "cell_type": "code",
   "execution_count": 24,
   "metadata": {},
   "outputs": [],
   "source": [
    "G = graph_from_df(blocks,links)"
   ]
  },
  {
   "cell_type": "markdown",
   "metadata": {},
   "source": [
    "### Create a function to add attributes "
   ]
  },
  {
   "cell_type": "code",
   "execution_count": 25,
   "metadata": {},
   "outputs": [],
   "source": [
    "def add_node_attributes(graph_name, node_df, attr_name): #attr_column_name must be in quotes\n",
    "    \n",
    "    blocks_dict = node_df[['id', attr_name]].set_index('id').to_dict()[attr_name]\n",
    "    \n",
    "    nx.set_node_attributes(graph_name, blocks_dict, attr_name)\n",
    "    "
   ]
  },
  {
   "cell_type": "code",
   "execution_count": 26,
   "metadata": {},
   "outputs": [],
   "source": [
    "def add_link_attributes(graph_name, edge_df, attr_name):\n",
    "    attr_full_dict = {}\n",
    "    \n",
    "    edge_df['unique_link']= list(zip(edge_df['starting_block'], edge_df['ending_block']))\n",
    "        \n",
    "    for idx, row in edge_df.iterrows():\n",
    "        \n",
    "        attr_dict = {attr_name: row[attr_name]}\n",
    "        \n",
    "        attr_full_dict.update({row['unique_link']:attr_dict})\n",
    "    \n",
    "    nx.set_edge_attributes(G, attr_full_dict)\n",
    "    \n",
    "    \n",
    "    "
   ]
  },
  {
   "cell_type": "markdown",
   "metadata": {},
   "source": [
    "### Make all the Graphs\n",
    "#### Store all graphs with attributes in a list"
   ]
  },
  {
   "cell_type": "code",
   "execution_count": 27,
   "metadata": {},
   "outputs": [
    {
     "name": "stdout",
     "output_type": "stream",
     "text": [
      "CAM 575ec4be3fc3ac000611df4c__771 does not exist\n",
      "Summary Info:\n",
      "number of missing cams: 1\n",
      "number of cams with no links: 32\n",
      "number of complete cams: 126\n"
     ]
    }
   ],
   "source": [
    "graph_list = []\n",
    "working_id = []\n",
    "no_data = []\n",
    "missing_cam = []\n",
    "\n",
    "for i in my_id_list:\n",
    "    \n",
    "    \n",
    "    try:\n",
    "        blocks_df = pd.read_csv(f'{file_path}/{i}_blocks.csv')\n",
    "\n",
    "        links_df = pd.read_csv(f'{file_path}/{i}_links.csv')\n",
    "        \n",
    "        if len(links_df)>0:\n",
    "\n",
    "            G = graph_from_df(blocks_df, links_df)\n",
    "\n",
    "            add_node_attributes(G,blocks_df,'title')\n",
    "\n",
    "            add_node_attributes(G,blocks_df,'shape')\n",
    "\n",
    "            add_link_attributes(G, links_df, 'line_style')\n",
    "\n",
    "            graph_list.append(G)\n",
    "            \n",
    "            working_id.append(i)\n",
    "\n",
    "        \n",
    "        else:\n",
    "            no_data.append(i)\n",
    "    \n",
    "    except:\n",
    "        \n",
    "        missing_cam.append(i)\n",
    "        print(f'CAM {i} does not exist')\n",
    "\n",
    "print('Summary Info:')\n",
    "print(f'number of missing cams: {len(missing_cam)}')\n",
    "print(f'number of cams with no links: {len(no_data)}')\n",
    "print(f'number of complete cams: {len(working_id)}')\n"
   ]
  },
  {
   "cell_type": "markdown",
   "metadata": {},
   "source": [
    "#### Look at one of the graphs stored in your graph list"
   ]
  },
  {
   "cell_type": "code",
   "execution_count": 28,
   "metadata": {},
   "outputs": [
    {
     "name": "stdout",
     "output_type": "stream",
     "text": [
      "[(13488, 13519, {'line_style': 'Solid-Strong'}), (13488, 13480, {'line_style': 'Dashed'}), (13480, 13510, {'line_style': 'Solid-Weak'}), (13480, 13485, {'line_style': 'Solid-Weak'}), (13480, 13519, {'line_style': 'Solid'}), (13480, 13537, {'line_style': 'Solid-Strong'}), (13480, 13545, {'line_style': 'Solid-Weak'}), (13480, 13558, {'line_style': 'Solid-Weak'}), (13485, 13510, {'line_style': 'Solid-Strong'}), (13485, 13558, {'line_style': 'Solid'}), (13545, 13537, {'line_style': 'Solid-Strong'})]\n",
      "-------------------------\n",
      "[(13488, {'title': 'Backlash from scary conservatives', 'shape': 'negative weak'}), (13480, {'title': 'Carbon Tax', 'shape': 'neutral'}), (13485, {'title': 'makes people more enviromentally concious', 'shape': 'positive weak'}), (13510, {'title': 'Fresher air', 'shape': 'positive strong'}), (13519, {'title': 'Price of goods could go up', 'shape': 'negative weak'}), (13545, {'title': 'More social service/ environment jobs', 'shape': 'positive weak'}), (13537, {'title': 'More tax = more money for social services', 'shape': 'positive strong'}), (13558, {'title': 'Catching up to other countries who are already lessening their environment footprint', 'shape': 'positive weak'})]\n"
     ]
    },
    {
     "data": {
      "image/png": "[encoded data removed]",
      "text/plain": [
       "<Figure size 432x288 with 1 Axes>"
      ]
     },
     "metadata": {},
     "output_type": "display_data"
    }
   ],
   "source": [
    "my_graph = graph_list[1]\n",
    "\n",
    "nx.draw(my_graph)\n",
    "print(my_graph.edges(data = True))\n",
    "print('-------------------------')\n",
    "print(my_graph.nodes(data = True))\n"
   ]
  },
  {
   "cell_type": "markdown",
   "metadata": {},
   "source": [
    "### Diversity Measure\n",
    "Carter 02/19/21 \n",
    "\n",
    "This comes from pg 5 of the following paper: https://arxiv.org/pdf/0901.1380.pdf\n",
    "\n"
   ]
  },
  {
   "cell_type": "code",
   "execution_count": 29,
   "metadata": {},
   "outputs": [],
   "source": [
    "\n",
    "def calculate_diversity(D, probs):\n",
    "    \"\"\"\n",
    "    Calculate Stirling Diversity measure with alpha = beta = 1\n",
    "    Args:\n",
    "        param: D - Distance Matrix\n",
    "        param: probs - list of probabilities in order of Strong Negative, Negative, Weak Negative, Neutral, Weak Positive, Positive, Strong Positive\n",
    "    \"\"\"\n",
    "    S = 0\n",
    "    for i in range(7):\n",
    "        for j in range(7):\n",
    "            S += D[i, j]*probs[i]*probs[j]\n",
    "    return S"
   ]
  },
  {
   "cell_type": "markdown",
   "metadata": {},
   "source": [
    "## Coherence Calculations\n",
    "\n",
    "Carter 03/17/21\n",
    "\n",
    "We want to calculate proxies for Coherence. To do this we will calculate:\n",
    "    1 - How many nodes are connected to a node of different/similar valence? We will ignore strength of the valence.\n",
    "    2 - Are all the nodes connected to a node of different valence and count how many of those have dashed connections?"
   ]
  },
  {
   "cell_type": "markdown",
   "metadata": {},
   "source": [
    "# Simulations"
   ]
  },
  {
   "cell_type": "code",
   "execution_count": 176,
   "metadata": {},
   "outputs": [],
   "source": [
    "#Get probabilities of each type of node -- used for diversity calculation\n",
    "#I generalized this to make it easier if people name their nodes differently\n",
    "\n",
    "\n",
    "# neg_strong = df[df['shape']=='negative strong'].count()\n",
    "# neg = df[df['shape']=='negative'].count()\n",
    "# neg_weak = df[df['shape']=='negative weak'].count()\n",
    "# neutral = df[(df['shape']=='neutral') & (df['shape']=='ambivalent')].count()\n",
    "# pos_weak = df[df['shape']=='psoti'].count()\n",
    "# pos = df[df['shape']=='negative strong'].count()\n",
    "# pos_strong = df[df['shape']=='negative strong'].count()\n",
    "\n"
   ]
  },
  {
   "cell_type": "code",
   "execution_count": 30,
   "metadata": {},
   "outputs": [],
   "source": [
    "positive_list = ['positive strong', 'positive','positive weak']\n",
    "negative_list = ['negative strong','negative','negative weak']\n",
    "neutral_list = ['neutral','ambivalent']\n",
    "node_val_list = negative_list + neutral_list[:-1] + positive_list"
   ]
  },
  {
   "cell_type": "code",
   "execution_count": 31,
   "metadata": {},
   "outputs": [],
   "source": [
    "# Create distance matrix\n",
    "D = np.zeros((7,7))  # We have seven node types hence 7 (note that we consider ambivalent as the same as neutral in this calculation)\n",
    "dist_ = np.arange(7)\n",
    "for i in range(7):\n",
    "    D[i,i:] = dist_\n",
    "    D[i:,i] = dist_\n",
    "    dist_ = dist_[:-1]"
   ]
  },
  {
   "cell_type": "markdown",
   "metadata": {},
   "source": [
    "### Calculate Valence "
   ]
  },
  {
   "cell_type": "code",
   "execution_count": 32,
   "metadata": {},
   "outputs": [],
   "source": [
    "def valenceCalc(dataframe):\n",
    "    \n",
    "#     Calculate average valence using two methods\n",
    "#     1 - counting ambivalent nodes once\n",
    "#     2 - counting ambivalent nodes twice\n",
    "    \n",
    "    valence_avg = 0\n",
    "    if len(dataframe['shape']) > 0:  # If there are any concepts!!\n",
    "        for valence in dataframe['shape']:\n",
    "            if valence == 'neutral':\n",
    "                valence_avg += 0\n",
    "            elif 'positive' in valence:\n",
    "                if 'weak' in valence:\n",
    "                    valence_avg += 1\n",
    "                elif valence == 'positive':\n",
    "                    valence_avg += 2\n",
    "                elif 'strong' in valence:\n",
    "                    valence_avg += 3\n",
    "            elif 'negative' in valence:\n",
    "                if 'weak' in valence:\n",
    "                    valence_avg -= 1\n",
    "                elif valence == 'negative':\n",
    "                    valence_avg -= 2\n",
    "                elif 'strong' in valence:\n",
    "                    valence_avg -= 3\n",
    "        option1 = np.round(valence_avg/len(dataframe['shape']), 2)\n",
    "        option2 = np.round(valence_avg/(len(dataframe['shape'])+len(dataframe[dataframe['shape'] == 'ambivalent'])), 2)\n",
    "        return option1, option2\n",
    "    else:\n",
    "        return 0, 0"
   ]
  },
  {
   "cell_type": "code",
   "execution_count": 103,
   "metadata": {},
   "outputs": [
    {
     "ename": "IndentationError",
     "evalue": "expected an indented block (<ipython-input-103-3bd57470d9a4>, line 28)",
     "output_type": "error",
     "traceback": [
      "\u001b[0;36m  File \u001b[0;32m\"<ipython-input-103-3bd57470d9a4>\"\u001b[0;36m, line \u001b[0;32m28\u001b[0m\n\u001b[0;31m    except:\u001b[0m\n\u001b[0m    ^\u001b[0m\n\u001b[0;31mIndentationError\u001b[0m\u001b[0;31m:\u001b[0m expected an indented block\n"
     ]
    }
   ],
   "source": [
    "def calc_CAM_GLI(id_list):\n",
    "    \n",
    "    solid_list = ['Solid', 'Solid-Strong', 'Solid-Weak']  # Solid link types\n",
    "    dashed_list = ['Dashed', 'Dashed-Strong', 'Dashed-Weak']  # Dashed link types\n",
    "    \n",
    "    block_neg = 0\n",
    "    block_pos = 0\n",
    "    block_neut = 0\n",
    "    \n",
    "    dictionary_list = []\n",
    "    \n",
    "    for cam_id in id_list:\n",
    "        \n",
    "        link_solid = 0\n",
    "        link_dashed = 0\n",
    "        \n",
    "        try:\n",
    "            df_blocks = pd.read_csv(f'{file_path}/{cam_id}_blocks.csv')\n",
    "            df_links = pd.read_csv(f'{file_path}/{cam_id}_links.csv')\n",
    "\n",
    "#             #Get proportion of positive and negative nodes\n",
    "            for i in range(len(df_blocks)):\n",
    "                if df_blocks['shape'][i] in negative_list:\n",
    "                    block_neg = block_neg + 1\n",
    "                elif df_blocks['shape'][i] in positive_list:\n",
    "                    block_pos = block_pos + 1\n",
    "                else:\n",
    "                    block_neut = block_neut + 1\n",
    "        except:\n",
    "            print('fuck')\n",
    "    return print('done')"
   ]
  },
  {
   "cell_type": "markdown",
   "metadata": {},
   "source": [
    "## Function to make data frame of GLI for all CAMs"
   ]
  },
  {
   "cell_type": "code",
   "execution_count": 100,
   "metadata": {},
   "outputs": [],
   "source": [
    "def calc_CAM_GLI(id_list):\n",
    "    \n",
    "    solid_list = ['Solid', 'Solid-Strong', 'Solid-Weak']  # Solid link types\n",
    "    dashed_list = ['Dashed', 'Dashed-Strong', 'Dashed-Weak']  # Dashed link types\n",
    "    \n",
    "    block_neg = 0\n",
    "    block_pos = 0\n",
    "    block_neut = 0\n",
    "    \n",
    "    dictionary_list = []\n",
    "    \n",
    "    for cam_id in id_list:\n",
    "        \n",
    "        link_solid = 0\n",
    "        link_dashed = 0\n",
    "        \n",
    "        try:\n",
    "            df_blocks = pd.read_csv(f'{file_path}/{cam_id}_blocks.csv')\n",
    "            df_links = pd.read_csv(f'{file_path}/{cam_id}_links.csv')\n",
    "\n",
    "#             #Get proportion of positive and negative nodes\n",
    "            for i in range(len(df_blocks)):\n",
    "                if df_blocks['shape'][i] in negative_list:\n",
    "                    block_neg = block_neg + 1\n",
    "                elif df_blocks['shape'][i] in positive_list:\n",
    "                    block_pos = block_pos + 1\n",
    "                else:\n",
    "                    block_neut = block_neut + 1\n",
    "\n",
    "            # Get proportion of solid and dashed lines\n",
    "            for i in range(len(df_links)):\n",
    "                if df_links['line_style'][i] in solid_list:\n",
    "                    link_solid += 1\n",
    "                else:\n",
    "                    link_dashed += 1\n",
    "\n",
    "            # Get probabilities of each type of node -- used for diversity calculation\n",
    "            neg_strong = df_blocks[df_blocks['shape']=='negative strong'].count()\n",
    "            neg = df_blocks[df_blocks['shape']=='negative'].count()\n",
    "            neg_weak = df_blocks[df_blocks['shape']=='negative weak'].count()\n",
    "            neutral = df_blocks[(df_blocks['shape']=='neutral') & (df_blocks['shape']=='ambivalent')].count()\n",
    "            pos_weak = df_blocks[df_blocks['shape']=='positive weak'].count()\n",
    "            pos = df_blocks[df_blocks['shape']=='positive'].count()\n",
    "            pos_strong = df_blocks[df_blocks['shape']=='positive strong'].count()\n",
    "            probs = [neg_strong, neg, neg_weak, neutral, pos_weak, pos, pos_strong]\n",
    "            div_ = calculate_diversity(D, probs)\n",
    "\n",
    "#             # Get nodes\n",
    "            nodes = df_blocks['id'].to_list()\n",
    "\n",
    "#             # Get edges\n",
    "#             edge_start = df_links['starting_block'].to_list()\n",
    "#             edge_end = df_links['ending_block'].to_list()\n",
    "            edges = tuple(zip(edge_start, edge_end))\n",
    "\n",
    "            # Create Graph\n",
    "            G = nx.Graph()\n",
    "            G.add_nodes_from(nodes)\n",
    "            G.add_edges_from(edges)\n",
    "\n",
    "            # Calculate Density\n",
    "            density = np.round(nx.density(G), 3)\n",
    "            node_count = G.number_of_nodes()\n",
    "            edge_count = G.size()\n",
    "\n",
    "            # Calculate longest path\n",
    "            try:\n",
    "                components = nx.connected_components(G)\n",
    "                largest_component = max(components, key=len)\n",
    "                subgraph = G.subgraph(largest_component)\n",
    "                diameter = nx.diameter(subgraph)\n",
    "            except:\n",
    "                diameter = 0\n",
    "            # Calculate transitivity\n",
    "            triadic_closure = np.round(nx.transitivity(G), 3)\n",
    "\n",
    "            # Calculate max degree\n",
    "            try:\n",
    "                degree_centrality = nx.degree_centrality(G)\n",
    "                max_centrality_ind = np.argmax(list(degree_centrality.values()))\n",
    "                central_node = list(degree_centrality.keys())[max_centrality_ind]\n",
    "                central_node_title = df_blocks[df_blocks['id'] == central_node]['title'].values[0]\n",
    "                central_node_valence = df_blocks[df_blocks['id'] == central_node]['shape'].values[0]\n",
    "                central_node_val = np.round(list(degree_centrality.values())[max_centrality_ind], 3)\n",
    "            except:\n",
    "                central_node = 0\n",
    "                central_node_title = ''\n",
    "                central_node_val = 0\n",
    "\n",
    "            # Eigenvector Centrality\n",
    "            try:\n",
    "                eigenvector_centrality = nx.eigenvector_centrality(G)\n",
    "                max_centrality_ind = np.argmax(list(eigenvector_centrality.values()))\n",
    "                central_node_val_eig = np.round(list(eigenvector_centrality.values())[max_centrality_ind], 3)\n",
    "            except:\n",
    "                central_node_val_eig = 0\n",
    "\n",
    "            # Betweeness Centrality\n",
    "            try:\n",
    "                betweenness_centrality = nx.betweenness_centrality(G)\n",
    "                max_centrality_ind = np.argmax(list(betweenness_centrality.values()))\n",
    "                central_node_val_bet = np.round(list(betweenness_centrality.values())[max_centrality_ind], 3)\n",
    "            except:\n",
    "                central_node_val_bet = 0\n",
    "\n",
    "            # Make the dictionary\n",
    "                #add in ratio of node val\n",
    "                #add number of type of node\n",
    "            density_dict = {\n",
    "                'cam_id': cam_id,\n",
    "                'node_count': node_count,\n",
    "                'positive_nodes':block_pos,\n",
    "                'negative_nodes':block_neg,\n",
    "                'neutral_nodes':block_neut,\n",
    "                'link_solid': link_solid,\n",
    "                'link_dashed': link_dashed,\n",
    "                'edge_count': edge_count,\n",
    "                'node_diversity': node_diversity,\n",
    "                'node_valence_1': node_valence_1,\n",
    "                'node_valence_2':node_valence_2,\n",
    "                'density': density,\n",
    "                'diameter': diameter,\n",
    "                'triadic_closure': triadic_closure,\n",
    "                'central_node': central_node,\n",
    "                'central_node_title': central_node_title,\n",
    "                'central_node_valence': central_node_valence,\n",
    "                'central_node_val': central_node_val,\n",
    "                'central_node_val_eig': central_node_val_eig,\n",
    "                'central_node_val_bet': central_node_val_bet,\n",
    "                'diversity': div_\n",
    "            }\n",
    "\n",
    "            dictionary_list.append(density_dict)\n",
    "            \n",
    "        except:\n",
    "            print(f'No file found for {cam_id}')\n",
    "        \n",
    "    cam_density_df = pd.DataFrame(dictionary_list)\n",
    "            \n",
    "    return cam_density_df"
   ]
  },
  {
   "cell_type": "code",
   "execution_count": 102,
   "metadata": {},
   "outputs": [
    {
     "name": "stdout",
     "output_type": "stream",
     "text": [
      "No file found for 5f67f8d55e7718150fd23bc7_802\n",
      "No file found for 5e45dd10f354ca0c7f4225c7_903\n",
      "No file found for 5f4ae6a7ad7baa6aecef4234_990\n"
     ]
    },
    {
     "data": {
      "text/html": [
       "<div>\n",
       "<style scoped>\n",
       "    .dataframe tbody tr th:only-of-type {\n",
       "        vertical-align: middle;\n",
       "    }\n",
       "\n",
       "    .dataframe tbody tr th {\n",
       "        vertical-align: top;\n",
       "    }\n",
       "\n",
       "    .dataframe thead th {\n",
       "        text-align: right;\n",
       "    }\n",
       "</style>\n",
       "<table border=\"1\" class=\"dataframe\">\n",
       "  <thead>\n",
       "    <tr style=\"text-align: right;\">\n",
       "      <th></th>\n",
       "    </tr>\n",
       "  </thead>\n",
       "  <tbody>\n",
       "  </tbody>\n",
       "</table>\n",
       "</div>"
      ],
      "text/plain": [
       "Empty DataFrame\n",
       "Columns: []\n",
       "Index: []"
      ]
     },
     "metadata": {},
     "output_type": "display_data"
    }
   ],
   "source": [
    "cam_GLI_df = calc_CAM_GLI(my_id_list[1:4])\n",
    "display(cam_GLI_df)"
   ]
  },
  {
   "cell_type": "code",
   "execution_count": 25,
   "metadata": {},
   "outputs": [
    {
     "data": {
      "text/html": [
       "<div>\n",
       "<style scoped>\n",
       "    .dataframe tbody tr th:only-of-type {\n",
       "        vertical-align: middle;\n",
       "    }\n",
       "\n",
       "    .dataframe tbody tr th {\n",
       "        vertical-align: top;\n",
       "    }\n",
       "\n",
       "    .dataframe thead th {\n",
       "        text-align: right;\n",
       "    }\n",
       "</style>\n",
       "<table border=\"1\" class=\"dataframe\">\n",
       "  <thead>\n",
       "    <tr style=\"text-align: right;\">\n",
       "      <th></th>\n",
       "      <th>node_count</th>\n",
       "      <th>cam_count</th>\n",
       "    </tr>\n",
       "  </thead>\n",
       "  <tbody>\n",
       "    <tr>\n",
       "      <th>0</th>\n",
       "      <td>0</td>\n",
       "      <td>24</td>\n",
       "    </tr>\n",
       "    <tr>\n",
       "      <th>1</th>\n",
       "      <td>1</td>\n",
       "      <td>4</td>\n",
       "    </tr>\n",
       "    <tr>\n",
       "      <th>2</th>\n",
       "      <td>2</td>\n",
       "      <td>2</td>\n",
       "    </tr>\n",
       "    <tr>\n",
       "      <th>3</th>\n",
       "      <td>3</td>\n",
       "      <td>5</td>\n",
       "    </tr>\n",
       "    <tr>\n",
       "      <th>4</th>\n",
       "      <td>4</td>\n",
       "      <td>4</td>\n",
       "    </tr>\n",
       "  </tbody>\n",
       "</table>\n",
       "</div>"
      ],
      "text/plain": [
       "   node_count  cam_count\n",
       "0           0         24\n",
       "1           1          4\n",
       "2           2          2\n",
       "3           3          5\n",
       "4           4          4"
      ]
     },
     "execution_count": 25,
     "metadata": {},
     "output_type": "execute_result"
    }
   ],
   "source": [
    "#get a df of the number of cams per node count\n",
    "node_count_df = pd.DataFrame(cam_GLI_df.groupby('node_count',as_index=False).count()[['node_count','edge_count']]).rename(columns={'edge_count':'cam_count'})\n",
    "node_count_df.head(5)"
   ]
  },
  {
   "cell_type": "markdown",
   "metadata": {},
   "source": [
    "#### Look at distribution of node count"
   ]
  },
  {
   "cell_type": "code",
   "execution_count": 26,
   "metadata": {},
   "outputs": [
    {
     "data": {
      "text/plain": [
       "Text(0.5, 1.0, 'Distribution of Node Count')"
      ]
     },
     "execution_count": 26,
     "metadata": {},
     "output_type": "execute_result"
    },
    {
     "data": {
      "image/png": "[encoded data removed]",
      "text/plain": [
       "<Figure size 360x360 with 1 Axes>"
      ]
     },
     "metadata": {
      "needs_background": "light"
     },
     "output_type": "display_data"
    }
   ],
   "source": [
    "fig, axs = plt.subplots(figsize=(5,5),sharey=True, tight_layout=True)\n",
    "\n",
    "# We can set the number of bins with the `bins` kwarg\n",
    "axs.hist(cam_GLI_df['node_count'])\n",
    "axs.set_title('Distribution of Node Count')\n"
   ]
  },
  {
   "cell_type": "markdown",
   "metadata": {},
   "source": [
    "## Simulations"
   ]
  },
  {
   "cell_type": "markdown",
   "metadata": {},
   "source": [
    "#### Compare GLI from CAM with what would be expected from chance <br> assumption: graph probability distribution is uniform, conditioned on size and density\n",
    " (all graphs of given size and density are equally probable)"
   ]
  },
  {
   "cell_type": "markdown",
   "metadata": {},
   "source": [
    "### Anderson et al. Approach"
   ]
  },
  {
   "cell_type": "code",
   "execution_count": 27,
   "metadata": {},
   "outputs": [
    {
     "data": {
      "text/plain": [
       "['density',\n",
       " 'diameter',\n",
       " 'triadic_closure',\n",
       " 'central_node',\n",
       " 'central_node_title',\n",
       " 'central_node_valence',\n",
       " 'central_node_val',\n",
       " 'central_node_val_eig',\n",
       " 'central_node_val_bet',\n",
       " 'diversity']"
      ]
     },
     "execution_count": 27,
     "metadata": {},
     "output_type": "execute_result"
    }
   ],
   "source": [
    "col_list = list(cam_GLI_df.columns)\n",
    "GLI_list = col_list[8:]\n",
    "GLI_list"
   ]
  },
  {
   "cell_type": "code",
   "execution_count": 28,
   "metadata": {},
   "outputs": [
    {
     "name": "stdout",
     "output_type": "stream",
     "text": [
      "158\n"
     ]
    }
   ],
   "source": [
    "print(len(cam_GLI_df))"
   ]
  },
  {
   "cell_type": "code",
   "execution_count": 29,
   "metadata": {},
   "outputs": [
    {
     "ename": "KeyError",
     "evalue": "'diameter'",
     "output_type": "error",
     "traceback": [
      "\u001b[0;31m---------------------------------------------------------------------------\u001b[0m",
      "\u001b[0;31mKeyError\u001b[0m                                  Traceback (most recent call last)",
      "\u001b[0;32m<ipython-input-29-517805e658e3>\u001b[0m in \u001b[0;36m<module>\u001b[0;34m\u001b[0m\n\u001b[1;32m     75\u001b[0m         \u001b[0;31m#STEP 3 - #Maybe issue with have a two conditions with the 'equal to' option\u001b[0m\u001b[0;34m\u001b[0m\u001b[0;34m\u001b[0m\u001b[0;34m\u001b[0m\u001b[0m\n\u001b[1;32m     76\u001b[0m \u001b[0;34m\u001b[0m\u001b[0m\n\u001b[0;32m---> 77\u001b[0;31m         \u001b[0;32mif\u001b[0m \u001b[0mG_uni_GLI_dict\u001b[0m\u001b[0;34m[\u001b[0m\u001b[0mGLI_name\u001b[0m\u001b[0;34m]\u001b[0m \u001b[0;34m>=\u001b[0m \u001b[0mObs_GLI\u001b[0m\u001b[0;34m:\u001b[0m\u001b[0;34m\u001b[0m\u001b[0;34m\u001b[0m\u001b[0m\n\u001b[0m\u001b[1;32m     78\u001b[0m             \u001b[0mP_H\u001b[0m \u001b[0;34m=\u001b[0m \u001b[0mP_H\u001b[0m \u001b[0;34m+\u001b[0m \u001b[0;36m1\u001b[0m\u001b[0;34m\u001b[0m\u001b[0;34m\u001b[0m\u001b[0m\n\u001b[1;32m     79\u001b[0m \u001b[0;34m\u001b[0m\u001b[0m\n",
      "\u001b[0;31mKeyError\u001b[0m: 'diameter'"
     ]
    }
   ],
   "source": [
    "GLI_name = GLI_list[3]\n",
    "\n",
    "P_H = 0\n",
    "P_L = 0\n",
    "P_E = 0\n",
    "N = 0 \n",
    "\n",
    "N_max = 100 #number of iterations\n",
    "\n",
    "alpha = .05 # desired level of significance\n",
    "\n",
    "condition_list = []\n",
    "sig_cam_list = []\n",
    "nonsig_cam_list = []\n",
    "\n",
    "for i in range(len(cam_GLI_df)):\n",
    "    \n",
    "    Obs_GLI = cam_GLI_df[GLI_name][i] #observed GLI from row i\n",
    "\n",
    "    n = cam_GLI_df['node_count'][i] # number of nodes for cam i\n",
    "    m = cam_GLI_df['edge_count'][i]  # number of edges for cam i\n",
    "\n",
    "    while N < N_max:\n",
    "\n",
    "        # STEP 2: Make the random graph\n",
    "        G_uni = nx.gnm_random_graph(n, m)\n",
    "\n",
    "\n",
    "        #Get the necessary GLI measures\n",
    "        # Calculate Density\n",
    "        density = np.round(nx.density(G_uni), 3)\n",
    "\n",
    "        # Calculate longest path\n",
    "        try:\n",
    "            components = nx.connected_components(G_uni)\n",
    "            largest_component = max(components, key=len)\n",
    "            subgraph = G_uni.subgraph(largest_component)\n",
    "            diameter = nx.diameter(subgraph)\n",
    "        except:\n",
    "            diameter = 0\n",
    "        # Calculate transitivity\n",
    "        triadic_closure = np.round(nx.transitivity(G_uni), 3)\n",
    "\n",
    "        # Calculate max degree\n",
    "        try:\n",
    "            degree_centrality = nx.degree_centrality(G_uni)\n",
    "            max_centrality_ind = np.argmax(list(degree_centrality.values()))\n",
    "            central_node_val = np.round(list(degree_centrality.values())[max_centrality_ind], 3)\n",
    "        except:\n",
    "            central_node_val = 0\n",
    "\n",
    "        # Eigenvector Centrality\n",
    "        try:\n",
    "            eigenvector_centrality = nx.eigenvector_centrality(G_uni)\n",
    "            max_centrality_ind = np.argmax(list(eigenvector_centrality.values()))\n",
    "            central_node_val_eig = np.round(list(eigenvector_centrality.values())[max_centrality_ind], 3)\n",
    "        except:\n",
    "            central_node_val_eig = 0\n",
    "\n",
    "        # Betweeness Centrality\n",
    "        try:\n",
    "            betweenness_centrality = nx.betweenness_centrality(G_uni)\n",
    "            max_centrality_ind = np.argmax(list(betweenness_centrality.values()))\n",
    "            central_node_val_bet = np.round(list(betweenness_centrality.values())[max_centrality_ind], 3)\n",
    "        except:\n",
    "            central_node_val_bet = 0\n",
    "\n",
    "        # Make the dictionary\n",
    "        G_uni_GLI_dict = {\n",
    "            'central_node_val': central_node_val,\n",
    "            'central_node_val_eig': central_node_val_eig,\n",
    "            'central_node_val_bet': central_node_val_bet\n",
    "        }\n",
    "\n",
    "        #STEP 3 - #Maybe issue with have a two conditions with the 'equal to' option\n",
    "        \n",
    "        if G_uni_GLI_dict[GLI_name] >= Obs_GLI:\n",
    "            P_H = P_H + 1\n",
    "\n",
    "        elif G_uni_GLI_dict[GLI_name] <= Obs_GLI:\n",
    "            P_L = P_L +1\n",
    "\n",
    "        #increment N for each iteration till max is reached\n",
    "        N = N + 1\n",
    "\n",
    "    #Step 5 - This tests whether the observed GLI is consistently either higher or lower than the GLI predicted\n",
    "    # by a random graph. \n",
    "    condition_1 = (P_H/N_max) < (alpha/2)\n",
    "    condition_2 = (P_L/N_max) < (alpha/2)\n",
    "    \n",
    "    condition_list.append((P_H/N_max,P_L/N_max))\n",
    "\n",
    "    if condition_1 | condition_2:\n",
    "        \n",
    "        sig_cam_list.append(cam_GLI_df['cam_id'][i])\n",
    "    \n",
    "    else:\n",
    "        nonsig_cam_list.append(cam_GLI_df['cam_id'][i])"
   ]
  },
  {
   "cell_type": "code",
   "execution_count": 187,
   "metadata": {},
   "outputs": [
    {
     "data": {
      "text/plain": [
       "0"
      ]
     },
     "execution_count": 187,
     "metadata": {},
     "output_type": "execute_result"
    }
   ],
   "source": [
    " len(nonsig_cam_list)"
   ]
  },
  {
   "cell_type": "markdown",
   "metadata": {},
   "source": [
    "### Carter approach:\n",
    "disprove that size impacts \n",
    "build random graph with different node size\n",
    "create likelihood function\n",
    "\n",
    "G_uni = nx.gnm_random_graph(n, m) density fixed \n",
    "G = nx.gnp_random_graph(n,p) density varies\n"
   ]
  },
  {
   "cell_type": "markdown",
   "metadata": {},
   "source": [
    "## Add Survey Info to CAM data"
   ]
  },
  {
   "cell_type": "code",
   "execution_count": 31,
   "metadata": {},
   "outputs": [
    {
     "data": {
      "text/html": [
       "<div>\n",
       "<style scoped>\n",
       "    .dataframe tbody tr th:only-of-type {\n",
       "        vertical-align: middle;\n",
       "    }\n",
       "\n",
       "    .dataframe tbody tr th {\n",
       "        vertical-align: top;\n",
       "    }\n",
       "\n",
       "    .dataframe thead th {\n",
       "        text-align: right;\n",
       "    }\n",
       "</style>\n",
       "<table border=\"1\" class=\"dataframe\">\n",
       "  <thead>\n",
       "    <tr style=\"text-align: right;\">\n",
       "      <th></th>\n",
       "      <th>Prolific1</th>\n",
       "      <th>node_count</th>\n",
       "      <th>edge_count</th>\n",
       "      <th>node_diversity</th>\n",
       "      <th>node_valence_1</th>\n",
       "      <th>node_valence_2</th>\n",
       "      <th>density</th>\n",
       "      <th>diameter</th>\n",
       "      <th>triadic_closure</th>\n",
       "      <th>central_node</th>\n",
       "      <th>...</th>\n",
       "      <th>WilsonPat_5</th>\n",
       "      <th>WilsonPat_6</th>\n",
       "      <th>WilsonPat_7</th>\n",
       "      <th>WilsonPat_8</th>\n",
       "      <th>WilsonPat_9</th>\n",
       "      <th>WilsonPat_10</th>\n",
       "      <th>WilsonPat_11</th>\n",
       "      <th>WilsonPat_12</th>\n",
       "      <th>CheckNum</th>\n",
       "      <th>mTurkCode2</th>\n",
       "    </tr>\n",
       "  </thead>\n",
       "  <tbody>\n",
       "    <tr>\n",
       "      <th>0</th>\n",
       "      <td>5f32a496a026e809d7d55cbd</td>\n",
       "      <td>7</td>\n",
       "      <td>10</td>\n",
       "      <td>1.224490</td>\n",
       "      <td>1.29</td>\n",
       "      <td>1.12</td>\n",
       "      <td>0.476</td>\n",
       "      <td>2</td>\n",
       "      <td>0.48</td>\n",
       "      <td>13562</td>\n",
       "      <td>...</td>\n",
       "      <td>2.0</td>\n",
       "      <td>1.0</td>\n",
       "      <td>2.0</td>\n",
       "      <td>1.0</td>\n",
       "      <td>2.0</td>\n",
       "      <td>1.0</td>\n",
       "      <td>1.0</td>\n",
       "      <td>1.0</td>\n",
       "      <td>1.0</td>\n",
       "      <td>9288836.0</td>\n",
       "    </tr>\n",
       "    <tr>\n",
       "      <th>1</th>\n",
       "      <td>5f67f8d55e7718150fd23bc7</td>\n",
       "      <td>8</td>\n",
       "      <td>11</td>\n",
       "      <td>1.781250</td>\n",
       "      <td>0.88</td>\n",
       "      <td>0.88</td>\n",
       "      <td>0.393</td>\n",
       "      <td>2</td>\n",
       "      <td>0.40</td>\n",
       "      <td>13480</td>\n",
       "      <td>...</td>\n",
       "      <td>1.0</td>\n",
       "      <td>1.0</td>\n",
       "      <td>3.0</td>\n",
       "      <td>3.0</td>\n",
       "      <td>3.0</td>\n",
       "      <td>1.0</td>\n",
       "      <td>1.0</td>\n",
       "      <td>1.0</td>\n",
       "      <td>1.0</td>\n",
       "      <td>5027333.0</td>\n",
       "    </tr>\n",
       "    <tr>\n",
       "      <th>2</th>\n",
       "      <td>5e45dd10f354ca0c7f4225c7</td>\n",
       "      <td>10</td>\n",
       "      <td>9</td>\n",
       "      <td>1.840000</td>\n",
       "      <td>0.00</td>\n",
       "      <td>0.00</td>\n",
       "      <td>0.200</td>\n",
       "      <td>5</td>\n",
       "      <td>0.00</td>\n",
       "      <td>14076</td>\n",
       "      <td>...</td>\n",
       "      <td>1.0</td>\n",
       "      <td>2.0</td>\n",
       "      <td>3.0</td>\n",
       "      <td>1.0</td>\n",
       "      <td>1.0</td>\n",
       "      <td>3.0</td>\n",
       "      <td>3.0</td>\n",
       "      <td>2.0</td>\n",
       "      <td>1.0</td>\n",
       "      <td>9951952.0</td>\n",
       "    </tr>\n",
       "    <tr>\n",
       "      <th>3</th>\n",
       "      <td>5f4ae6a7ad7baa6aecef4234</td>\n",
       "      <td>14</td>\n",
       "      <td>13</td>\n",
       "      <td>2.275510</td>\n",
       "      <td>-0.93</td>\n",
       "      <td>-0.93</td>\n",
       "      <td>0.143</td>\n",
       "      <td>7</td>\n",
       "      <td>0.00</td>\n",
       "      <td>14686</td>\n",
       "      <td>...</td>\n",
       "      <td>3.0</td>\n",
       "      <td>1.0</td>\n",
       "      <td>3.0</td>\n",
       "      <td>1.0</td>\n",
       "      <td>3.0</td>\n",
       "      <td>1.0</td>\n",
       "      <td>1.0</td>\n",
       "      <td>2.0</td>\n",
       "      <td>1.0</td>\n",
       "      <td>7365510.0</td>\n",
       "    </tr>\n",
       "    <tr>\n",
       "      <th>4</th>\n",
       "      <td>5a4e8f4930adf7000106fd5e</td>\n",
       "      <td>12</td>\n",
       "      <td>12</td>\n",
       "      <td>1.944444</td>\n",
       "      <td>0.00</td>\n",
       "      <td>0.00</td>\n",
       "      <td>0.182</td>\n",
       "      <td>6</td>\n",
       "      <td>0.00</td>\n",
       "      <td>14279</td>\n",
       "      <td>...</td>\n",
       "      <td>2.0</td>\n",
       "      <td>1.0</td>\n",
       "      <td>2.0</td>\n",
       "      <td>2.0</td>\n",
       "      <td>2.0</td>\n",
       "      <td>1.0</td>\n",
       "      <td>1.0</td>\n",
       "      <td>2.0</td>\n",
       "      <td>1.0</td>\n",
       "      <td>2845413.0</td>\n",
       "    </tr>\n",
       "  </tbody>\n",
       "</table>\n",
       "<p>5 rows × 194 columns</p>\n",
       "</div>"
      ],
      "text/plain": [
       "                  Prolific1  node_count  edge_count  node_diversity  \\\n",
       "0  5f32a496a026e809d7d55cbd           7          10        1.224490   \n",
       "1  5f67f8d55e7718150fd23bc7           8          11        1.781250   \n",
       "2  5e45dd10f354ca0c7f4225c7          10           9        1.840000   \n",
       "3  5f4ae6a7ad7baa6aecef4234          14          13        2.275510   \n",
       "4  5a4e8f4930adf7000106fd5e          12          12        1.944444   \n",
       "\n",
       "   node_valence_1  node_valence_2  density  diameter  triadic_closure  \\\n",
       "0            1.29            1.12    0.476         2             0.48   \n",
       "1            0.88            0.88    0.393         2             0.40   \n",
       "2            0.00            0.00    0.200         5             0.00   \n",
       "3           -0.93           -0.93    0.143         7             0.00   \n",
       "4            0.00            0.00    0.182         6             0.00   \n",
       "\n",
       "   central_node  ... WilsonPat_5  WilsonPat_6  WilsonPat_7  WilsonPat_8  \\\n",
       "0         13562  ...         2.0          1.0          2.0          1.0   \n",
       "1         13480  ...         1.0          1.0          3.0          3.0   \n",
       "2         14076  ...         1.0          2.0          3.0          1.0   \n",
       "3         14686  ...         3.0          1.0          3.0          1.0   \n",
       "4         14279  ...         2.0          1.0          2.0          2.0   \n",
       "\n",
       "  WilsonPat_9 WilsonPat_10  WilsonPat_11 WilsonPat_12  CheckNum  mTurkCode2  \n",
       "0         2.0          1.0           1.0          1.0       1.0   9288836.0  \n",
       "1         3.0          1.0           1.0          1.0       1.0   5027333.0  \n",
       "2         1.0          3.0           3.0          2.0       1.0   9951952.0  \n",
       "3         3.0          1.0           1.0          2.0       1.0   7365510.0  \n",
       "4         2.0          1.0           1.0          2.0       1.0   2845413.0  \n",
       "\n",
       "[5 rows x 194 columns]"
      ]
     },
     "execution_count": 31,
     "metadata": {},
     "output_type": "execute_result"
    }
   ],
   "source": [
    "file_path_survey = '/home/carterrhea/Dropbox/APLS-CAM-Proposal/DataFinal/SurveyMerge_large_df.csv'\n",
    "survey_df = pd.read_csv(file_path_survey)\n",
    "survey_df.head()"
   ]
  },
  {
   "cell_type": "code",
   "execution_count": 32,
   "metadata": {},
   "outputs": [],
   "source": [
    "#drop NAs\n",
    "survey_df_dropna = survey_df.dropna(subset=['Prolific1','Gender'])"
   ]
  },
  {
   "cell_type": "code",
   "execution_count": 33,
   "metadata": {},
   "outputs": [],
   "source": [
    "#Get the cam dataframe ready to merge with the survey data\n",
    "cam_GLI_full = cam_GLI_df.copy()\n",
    "Prolific1_list=cam_GLI_full['cam_id'].str.split('_').str[0]\n",
    "cam_GLI_full.insert(loc=0, column='Prolific1', value=Prolific1_list)\n",
    "cam_GLI_full = cam_GLI_full.drop(cam_GLI_full.columns[1], axis=1)"
   ]
  },
  {
   "cell_type": "code",
   "execution_count": 34,
   "metadata": {},
   "outputs": [
    {
     "name": "stdout",
     "output_type": "stream",
     "text": [
      "The length of cam_df: 158\n",
      "The length of survey_df: 113\n"
     ]
    }
   ],
   "source": [
    "print(f'The length of cam_df: {len(cam_GLI_full)}')\n",
    "print(f'The length of survey_df: {len(survey_df_dropna)}')"
   ]
  },
  {
   "cell_type": "code",
   "execution_count": 35,
   "metadata": {},
   "outputs": [],
   "source": [
    "survey_cam_merge = pd.merge(cam_GLI_full, survey_df_dropna, how = 'inner', on = 'Prolific1')\n",
    "survey_cam_merge.to_csv('~/Downloads/survey_cam_merge.csv')"
   ]
  },
  {
   "cell_type": "code",
   "execution_count": 36,
   "metadata": {},
   "outputs": [
    {
     "name": "stdout",
     "output_type": "stream",
     "text": [
      "The length of merged data: 123\n"
     ]
    }
   ],
   "source": [
    "print(f'The length of merged data: {len(survey_cam_merge)}')"
   ]
  },
  {
   "cell_type": "markdown",
   "metadata": {},
   "source": [
    "## Cleaning the combined dataframe"
   ]
  },
  {
   "cell_type": "markdown",
   "metadata": {},
   "source": [
    "#### Drop all rows with node_count less than 3 or link_count less than 2"
   ]
  },
  {
   "cell_type": "code",
   "execution_count": 67,
   "metadata": {},
   "outputs": [
    {
     "ename": "KeyError",
     "evalue": "'node_count'",
     "output_type": "error",
     "traceback": [
      "\u001b[0;31m---------------------------------------------------------------------------\u001b[0m",
      "\u001b[0;31mKeyError\u001b[0m                                  Traceback (most recent call last)",
      "\u001b[0;32m~/miniconda3/lib/python3.8/site-packages/pandas/core/indexes/base.py\u001b[0m in \u001b[0;36mget_loc\u001b[0;34m(self, key, method, tolerance)\u001b[0m\n\u001b[1;32m   2897\u001b[0m             \u001b[0;32mtry\u001b[0m\u001b[0;34m:\u001b[0m\u001b[0;34m\u001b[0m\u001b[0;34m\u001b[0m\u001b[0m\n\u001b[0;32m-> 2898\u001b[0;31m                 \u001b[0;32mreturn\u001b[0m \u001b[0mself\u001b[0m\u001b[0;34m.\u001b[0m\u001b[0m_engine\u001b[0m\u001b[0;34m.\u001b[0m\u001b[0mget_loc\u001b[0m\u001b[0;34m(\u001b[0m\u001b[0mcasted_key\u001b[0m\u001b[0;34m)\u001b[0m\u001b[0;34m\u001b[0m\u001b[0;34m\u001b[0m\u001b[0m\n\u001b[0m\u001b[1;32m   2899\u001b[0m             \u001b[0;32mexcept\u001b[0m \u001b[0mKeyError\u001b[0m \u001b[0;32mas\u001b[0m \u001b[0merr\u001b[0m\u001b[0;34m:\u001b[0m\u001b[0;34m\u001b[0m\u001b[0;34m\u001b[0m\u001b[0m\n",
      "\u001b[0;32mpandas/_libs/index.pyx\u001b[0m in \u001b[0;36mpandas._libs.index.IndexEngine.get_loc\u001b[0;34m()\u001b[0m\n",
      "\u001b[0;32mpandas/_libs/index.pyx\u001b[0m in \u001b[0;36mpandas._libs.index.IndexEngine.get_loc\u001b[0;34m()\u001b[0m\n",
      "\u001b[0;32mpandas/_libs/hashtable_class_helper.pxi\u001b[0m in \u001b[0;36mpandas._libs.hashtable.PyObjectHashTable.get_item\u001b[0;34m()\u001b[0m\n",
      "\u001b[0;32mpandas/_libs/hashtable_class_helper.pxi\u001b[0m in \u001b[0;36mpandas._libs.hashtable.PyObjectHashTable.get_item\u001b[0;34m()\u001b[0m\n",
      "\u001b[0;31mKeyError\u001b[0m: 'node_count'",
      "\nThe above exception was the direct cause of the following exception:\n",
      "\u001b[0;31mKeyError\u001b[0m                                  Traceback (most recent call last)",
      "\u001b[0;32m<ipython-input-67-9ca387e204b1>\u001b[0m in \u001b[0;36m<module>\u001b[0;34m\u001b[0m\n\u001b[0;32m----> 1\u001b[0;31m \u001b[0mfilter_cam\u001b[0m \u001b[0;34m=\u001b[0m \u001b[0;34m(\u001b[0m\u001b[0msurvey_cam_merge\u001b[0m\u001b[0;34m[\u001b[0m\u001b[0;34m'node_count'\u001b[0m\u001b[0;34m]\u001b[0m\u001b[0;34m>\u001b[0m\u001b[0;36m3\u001b[0m\u001b[0;34m)\u001b[0m \u001b[0;34m&\u001b[0m \u001b[0;34m(\u001b[0m\u001b[0msurvey_cam_merge\u001b[0m\u001b[0;34m[\u001b[0m\u001b[0;34m'edge_count'\u001b[0m\u001b[0;34m]\u001b[0m\u001b[0;34m>\u001b[0m\u001b[0;36m2\u001b[0m\u001b[0;34m)\u001b[0m\u001b[0;34m\u001b[0m\u001b[0;34m\u001b[0m\u001b[0m\n\u001b[0m\u001b[1;32m      2\u001b[0m \u001b[0msurvey_merge_large_cam\u001b[0m \u001b[0;34m=\u001b[0m \u001b[0msurvey_cam_merge\u001b[0m\u001b[0;34m[\u001b[0m\u001b[0mfilter_cam\u001b[0m\u001b[0;34m]\u001b[0m\u001b[0;34m\u001b[0m\u001b[0;34m\u001b[0m\u001b[0m\n",
      "\u001b[0;32m~/miniconda3/lib/python3.8/site-packages/pandas/core/frame.py\u001b[0m in \u001b[0;36m__getitem__\u001b[0;34m(self, key)\u001b[0m\n\u001b[1;32m   2904\u001b[0m             \u001b[0;32mif\u001b[0m \u001b[0mself\u001b[0m\u001b[0;34m.\u001b[0m\u001b[0mcolumns\u001b[0m\u001b[0;34m.\u001b[0m\u001b[0mnlevels\u001b[0m \u001b[0;34m>\u001b[0m \u001b[0;36m1\u001b[0m\u001b[0;34m:\u001b[0m\u001b[0;34m\u001b[0m\u001b[0;34m\u001b[0m\u001b[0m\n\u001b[1;32m   2905\u001b[0m                 \u001b[0;32mreturn\u001b[0m \u001b[0mself\u001b[0m\u001b[0;34m.\u001b[0m\u001b[0m_getitem_multilevel\u001b[0m\u001b[0;34m(\u001b[0m\u001b[0mkey\u001b[0m\u001b[0;34m)\u001b[0m\u001b[0;34m\u001b[0m\u001b[0;34m\u001b[0m\u001b[0m\n\u001b[0;32m-> 2906\u001b[0;31m             \u001b[0mindexer\u001b[0m \u001b[0;34m=\u001b[0m \u001b[0mself\u001b[0m\u001b[0;34m.\u001b[0m\u001b[0mcolumns\u001b[0m\u001b[0;34m.\u001b[0m\u001b[0mget_loc\u001b[0m\u001b[0;34m(\u001b[0m\u001b[0mkey\u001b[0m\u001b[0;34m)\u001b[0m\u001b[0;34m\u001b[0m\u001b[0;34m\u001b[0m\u001b[0m\n\u001b[0m\u001b[1;32m   2907\u001b[0m             \u001b[0;32mif\u001b[0m \u001b[0mis_integer\u001b[0m\u001b[0;34m(\u001b[0m\u001b[0mindexer\u001b[0m\u001b[0;34m)\u001b[0m\u001b[0;34m:\u001b[0m\u001b[0;34m\u001b[0m\u001b[0;34m\u001b[0m\u001b[0m\n\u001b[1;32m   2908\u001b[0m                 \u001b[0mindexer\u001b[0m \u001b[0;34m=\u001b[0m \u001b[0;34m[\u001b[0m\u001b[0mindexer\u001b[0m\u001b[0;34m]\u001b[0m\u001b[0;34m\u001b[0m\u001b[0;34m\u001b[0m\u001b[0m\n",
      "\u001b[0;32m~/miniconda3/lib/python3.8/site-packages/pandas/core/indexes/base.py\u001b[0m in \u001b[0;36mget_loc\u001b[0;34m(self, key, method, tolerance)\u001b[0m\n\u001b[1;32m   2898\u001b[0m                 \u001b[0;32mreturn\u001b[0m \u001b[0mself\u001b[0m\u001b[0;34m.\u001b[0m\u001b[0m_engine\u001b[0m\u001b[0;34m.\u001b[0m\u001b[0mget_loc\u001b[0m\u001b[0;34m(\u001b[0m\u001b[0mcasted_key\u001b[0m\u001b[0;34m)\u001b[0m\u001b[0;34m\u001b[0m\u001b[0;34m\u001b[0m\u001b[0m\n\u001b[1;32m   2899\u001b[0m             \u001b[0;32mexcept\u001b[0m \u001b[0mKeyError\u001b[0m \u001b[0;32mas\u001b[0m \u001b[0merr\u001b[0m\u001b[0;34m:\u001b[0m\u001b[0;34m\u001b[0m\u001b[0;34m\u001b[0m\u001b[0m\n\u001b[0;32m-> 2900\u001b[0;31m                 \u001b[0;32mraise\u001b[0m \u001b[0mKeyError\u001b[0m\u001b[0;34m(\u001b[0m\u001b[0mkey\u001b[0m\u001b[0;34m)\u001b[0m \u001b[0;32mfrom\u001b[0m \u001b[0merr\u001b[0m\u001b[0;34m\u001b[0m\u001b[0;34m\u001b[0m\u001b[0m\n\u001b[0m\u001b[1;32m   2901\u001b[0m \u001b[0;34m\u001b[0m\u001b[0m\n\u001b[1;32m   2902\u001b[0m         \u001b[0;32mif\u001b[0m \u001b[0mtolerance\u001b[0m \u001b[0;32mis\u001b[0m \u001b[0;32mnot\u001b[0m \u001b[0;32mNone\u001b[0m\u001b[0;34m:\u001b[0m\u001b[0;34m\u001b[0m\u001b[0;34m\u001b[0m\u001b[0m\n",
      "\u001b[0;31mKeyError\u001b[0m: 'node_count'"
     ]
    }
   ],
   "source": [
    "filter_cam = (survey_cam_merge['node_count']>3) & (survey_cam_merge['edge_count']>2)\n",
    "survey_merge_large_cam = survey_cam_merge[filter_cam]"
   ]
  },
  {
   "cell_type": "code",
   "execution_count": 195,
   "metadata": {},
   "outputs": [
    {
     "name": "stdout",
     "output_type": "stream",
     "text": [
      "113 rows have more than 3 nodes and more than 2 edges\n"
     ]
    }
   ],
   "source": [
    "print(f'{len(survey_merge_large_cam)} rows have more than 3 nodes and more than 2 edges')"
   ]
  },
  {
   "cell_type": "markdown",
   "metadata": {},
   "source": [
    "#### Drop Survey checks???"
   ]
  },
  {
   "cell_type": "code",
   "execution_count": 199,
   "metadata": {},
   "outputs": [],
   "source": [
    "#Export df with all the columns\n",
    "survey_merge_large_cam.to_csv(\"/Users/agetecza/CAM_Data/AT_CAM/Data/SurveyMerge_large_df.csv\", index = False)"
   ]
  },
  {
   "cell_type": "markdown",
   "metadata": {},
   "source": [
    "### Select Variables for Analysis"
   ]
  },
  {
   "cell_type": "code",
   "execution_count": 200,
   "metadata": {},
   "outputs": [],
   "source": [
    "#Get list of all column/variables names\n",
    "survey_column_list = list(survey_merge_large_cam.columns)\n",
    "#survey_column_list"
   ]
  },
  {
   "cell_type": "code",
   "execution_count": 134,
   "metadata": {},
   "outputs": [
    {
     "data": {
      "text/plain": [
       "13"
      ]
     },
     "execution_count": 134,
     "metadata": {},
     "output_type": "execute_result"
    }
   ],
   "source": [
    "#Check the index of a specific variable\n",
    "survey_column_list.index('central_node_val_bet') "
   ]
  },
  {
   "cell_type": "code",
   "execution_count": 154,
   "metadata": {},
   "outputs": [],
   "source": [
    "#Get all quality checks\n",
    "quality_check_list = ['Duration (in seconds)','TutorialConfirmation','TreatmentCheck','CAMCheck1']"
   ]
  },
  {
   "cell_type": "code",
   "execution_count": 135,
   "metadata": {},
   "outputs": [],
   "source": [
    "#Get all the controls\n",
    "control_list_1 = ['Age','Education','Income','English','Gender','CarbFam','CarbSFam']\n",
    "control_list_Cog = survey_column_list[108:126]\n",
    "control_list_Aff = survey_column_list[126:152]\n",
    "control_list_KN = survey_column_list[173:180]\n",
    "\n",
    "control_list = control_list_1 + control_list_Aff + control_list_Cog + control_list_KN"
   ]
  },
  {
   "cell_type": "code",
   "execution_count": 155,
   "metadata": {},
   "outputs": [],
   "source": [
    "#Get all variable\n",
    "end_network_index = survey_column_list.index('central_node_val_bet')\n",
    "network_list = survey_column_list[:end_network_index]\n",
    "dependent_list = ['CarbAg','Interest_1','CarbDecide']\n",
    "full_variable_list = network_list + dependent_list + control_list +  quality_check_list"
   ]
  },
  {
   "cell_type": "code",
   "execution_count": 156,
   "metadata": {},
   "outputs": [],
   "source": [
    "#subset df \n",
    "survey_df_analysis = survey_merge_large_cam.loc[:,full_variable_list]"
   ]
  },
  {
   "cell_type": "code",
   "execution_count": 158,
   "metadata": {},
   "outputs": [
    {
     "data": {
      "text/plain": [
       "113"
      ]
     },
     "execution_count": 158,
     "metadata": {},
     "output_type": "execute_result"
    }
   ],
   "source": [
    "len(survey_df_analysis)"
   ]
  },
  {
   "cell_type": "code",
   "execution_count": 157,
   "metadata": {},
   "outputs": [
    {
     "data": {
      "text/html": [
       "<div>\n",
       "<style scoped>\n",
       "    .dataframe tbody tr th:only-of-type {\n",
       "        vertical-align: middle;\n",
       "    }\n",
       "\n",
       "    .dataframe tbody tr th {\n",
       "        vertical-align: top;\n",
       "    }\n",
       "\n",
       "    .dataframe thead th {\n",
       "        text-align: right;\n",
       "    }\n",
       "</style>\n",
       "<table border=\"1\" class=\"dataframe\">\n",
       "  <thead>\n",
       "    <tr style=\"text-align: right;\">\n",
       "      <th></th>\n",
       "      <th>Prolific1</th>\n",
       "      <th>node_count</th>\n",
       "      <th>edge_count</th>\n",
       "      <th>node_diversity</th>\n",
       "      <th>node_valence_1</th>\n",
       "      <th>node_valence_2</th>\n",
       "      <th>density</th>\n",
       "      <th>diameter</th>\n",
       "      <th>triadic_closure</th>\n",
       "      <th>central_node</th>\n",
       "      <th>...</th>\n",
       "      <th>KNDate</th>\n",
       "      <th>KNPrice</th>\n",
       "      <th>KNTimes</th>\n",
       "      <th>KNBC</th>\n",
       "      <th>KNPerc</th>\n",
       "      <th>KNRef</th>\n",
       "      <th>Duration (in seconds)</th>\n",
       "      <th>TutorialConfirmation</th>\n",
       "      <th>TreatmentCheck</th>\n",
       "      <th>CAMCheck1</th>\n",
       "    </tr>\n",
       "  </thead>\n",
       "  <tbody>\n",
       "    <tr>\n",
       "      <th>0</th>\n",
       "      <td>5f32a496a026e809d7d55cbd</td>\n",
       "      <td>7</td>\n",
       "      <td>10</td>\n",
       "      <td>1.224490</td>\n",
       "      <td>1.29</td>\n",
       "      <td>1.12</td>\n",
       "      <td>0.476</td>\n",
       "      <td>2</td>\n",
       "      <td>0.48</td>\n",
       "      <td>13562</td>\n",
       "      <td>...</td>\n",
       "      <td>1.0</td>\n",
       "      <td>1.0</td>\n",
       "      <td>3.0</td>\n",
       "      <td>3.0</td>\n",
       "      <td>2.0</td>\n",
       "      <td>1.0</td>\n",
       "      <td>1025</td>\n",
       "      <td>1.0</td>\n",
       "      <td>3.0</td>\n",
       "      <td>1.0</td>\n",
       "    </tr>\n",
       "    <tr>\n",
       "      <th>1</th>\n",
       "      <td>5f67f8d55e7718150fd23bc7</td>\n",
       "      <td>8</td>\n",
       "      <td>11</td>\n",
       "      <td>1.781250</td>\n",
       "      <td>0.88</td>\n",
       "      <td>0.88</td>\n",
       "      <td>0.393</td>\n",
       "      <td>2</td>\n",
       "      <td>0.40</td>\n",
       "      <td>13480</td>\n",
       "      <td>...</td>\n",
       "      <td>2.0</td>\n",
       "      <td>2.0</td>\n",
       "      <td>2.0</td>\n",
       "      <td>2.0</td>\n",
       "      <td>2.0</td>\n",
       "      <td>2.0</td>\n",
       "      <td>1062</td>\n",
       "      <td>1.0</td>\n",
       "      <td>3.0</td>\n",
       "      <td>1.0</td>\n",
       "    </tr>\n",
       "    <tr>\n",
       "      <th>2</th>\n",
       "      <td>5e45dd10f354ca0c7f4225c7</td>\n",
       "      <td>10</td>\n",
       "      <td>9</td>\n",
       "      <td>1.840000</td>\n",
       "      <td>0.00</td>\n",
       "      <td>0.00</td>\n",
       "      <td>0.200</td>\n",
       "      <td>5</td>\n",
       "      <td>0.00</td>\n",
       "      <td>14076</td>\n",
       "      <td>...</td>\n",
       "      <td>2.0</td>\n",
       "      <td>2.0</td>\n",
       "      <td>2.0</td>\n",
       "      <td>2.0</td>\n",
       "      <td>2.0</td>\n",
       "      <td>1.0</td>\n",
       "      <td>3291</td>\n",
       "      <td>1.0</td>\n",
       "      <td>3.0</td>\n",
       "      <td>1.0</td>\n",
       "    </tr>\n",
       "    <tr>\n",
       "      <th>3</th>\n",
       "      <td>5f4ae6a7ad7baa6aecef4234</td>\n",
       "      <td>14</td>\n",
       "      <td>13</td>\n",
       "      <td>2.275510</td>\n",
       "      <td>-0.93</td>\n",
       "      <td>-0.93</td>\n",
       "      <td>0.143</td>\n",
       "      <td>7</td>\n",
       "      <td>0.00</td>\n",
       "      <td>14686</td>\n",
       "      <td>...</td>\n",
       "      <td>3.0</td>\n",
       "      <td>3.0</td>\n",
       "      <td>1.0</td>\n",
       "      <td>3.0</td>\n",
       "      <td>2.0</td>\n",
       "      <td>3.0</td>\n",
       "      <td>3114</td>\n",
       "      <td>1.0</td>\n",
       "      <td>3.0</td>\n",
       "      <td>1.0</td>\n",
       "    </tr>\n",
       "    <tr>\n",
       "      <th>4</th>\n",
       "      <td>5a4e8f4930adf7000106fd5e</td>\n",
       "      <td>12</td>\n",
       "      <td>12</td>\n",
       "      <td>1.944444</td>\n",
       "      <td>0.00</td>\n",
       "      <td>0.00</td>\n",
       "      <td>0.182</td>\n",
       "      <td>6</td>\n",
       "      <td>0.00</td>\n",
       "      <td>14279</td>\n",
       "      <td>...</td>\n",
       "      <td>2.0</td>\n",
       "      <td>2.0</td>\n",
       "      <td>2.0</td>\n",
       "      <td>3.0</td>\n",
       "      <td>2.0</td>\n",
       "      <td>2.0</td>\n",
       "      <td>1383</td>\n",
       "      <td>1.0</td>\n",
       "      <td>3.0</td>\n",
       "      <td>2.0</td>\n",
       "    </tr>\n",
       "  </tbody>\n",
       "</table>\n",
       "<p>5 rows × 78 columns</p>\n",
       "</div>"
      ],
      "text/plain": [
       "                  Prolific1  node_count  edge_count  node_diversity  \\\n",
       "0  5f32a496a026e809d7d55cbd           7          10        1.224490   \n",
       "1  5f67f8d55e7718150fd23bc7           8          11        1.781250   \n",
       "2  5e45dd10f354ca0c7f4225c7          10           9        1.840000   \n",
       "3  5f4ae6a7ad7baa6aecef4234          14          13        2.275510   \n",
       "4  5a4e8f4930adf7000106fd5e          12          12        1.944444   \n",
       "\n",
       "   node_valence_1  node_valence_2  density  diameter  triadic_closure  \\\n",
       "0            1.29            1.12    0.476         2             0.48   \n",
       "1            0.88            0.88    0.393         2             0.40   \n",
       "2            0.00            0.00    0.200         5             0.00   \n",
       "3           -0.93           -0.93    0.143         7             0.00   \n",
       "4            0.00            0.00    0.182         6             0.00   \n",
       "\n",
       "   central_node  ... KNDate  KNPrice  KNTimes  KNBC  KNPerc  KNRef  \\\n",
       "0         13562  ...    1.0      1.0      3.0   3.0     2.0    1.0   \n",
       "1         13480  ...    2.0      2.0      2.0   2.0     2.0    2.0   \n",
       "2         14076  ...    2.0      2.0      2.0   2.0     2.0    1.0   \n",
       "3         14686  ...    3.0      3.0      1.0   3.0     2.0    3.0   \n",
       "4         14279  ...    2.0      2.0      2.0   3.0     2.0    2.0   \n",
       "\n",
       "   Duration (in seconds)  TutorialConfirmation  TreatmentCheck  CAMCheck1  \n",
       "0                   1025                   1.0             3.0        1.0  \n",
       "1                   1062                   1.0             3.0        1.0  \n",
       "2                   3291                   1.0             3.0        1.0  \n",
       "3                   3114                   1.0             3.0        1.0  \n",
       "4                   1383                   1.0             3.0        2.0  \n",
       "\n",
       "[5 rows x 78 columns]"
      ]
     },
     "execution_count": 157,
     "metadata": {},
     "output_type": "execute_result"
    }
   ],
   "source": [
    "survey_df_analysis.head()"
   ]
  },
  {
   "cell_type": "code",
   "execution_count": 159,
   "metadata": {},
   "outputs": [],
   "source": [
    "#### Export clean csv (note, quality checks have not been filtered)\n",
    "survey_df_analysis.to_csv(\"/Users/agetecza/CAM_Data/AT_CAM/Data/Combined_df.csv\", index = False)"
   ]
  },
  {
   "cell_type": "markdown",
   "metadata": {},
   "source": [
    "### Descriptives"
   ]
  },
  {
   "cell_type": "code",
   "execution_count": 145,
   "metadata": {},
   "outputs": [],
   "source": [
    "variable_list = list(survey_df_analysis.columns)"
   ]
  },
  {
   "cell_type": "code",
   "execution_count": 146,
   "metadata": {},
   "outputs": [
    {
     "data": {
      "text/html": [
       "<div>\n",
       "<style scoped>\n",
       "    .dataframe tbody tr th:only-of-type {\n",
       "        vertical-align: middle;\n",
       "    }\n",
       "\n",
       "    .dataframe tbody tr th {\n",
       "        vertical-align: top;\n",
       "    }\n",
       "\n",
       "    .dataframe thead th {\n",
       "        text-align: right;\n",
       "    }\n",
       "</style>\n",
       "<table border=\"1\" class=\"dataframe\">\n",
       "  <thead>\n",
       "    <tr style=\"text-align: right;\">\n",
       "      <th></th>\n",
       "      <th>count</th>\n",
       "      <th>mean</th>\n",
       "      <th>std</th>\n",
       "      <th>min</th>\n",
       "      <th>25%</th>\n",
       "      <th>50%</th>\n",
       "      <th>75%</th>\n",
       "      <th>max</th>\n",
       "    </tr>\n",
       "  </thead>\n",
       "  <tbody>\n",
       "    <tr>\n",
       "      <th>node_count</th>\n",
       "      <td>113.0</td>\n",
       "      <td>9.778761</td>\n",
       "      <td>4.451594</td>\n",
       "      <td>4.0</td>\n",
       "      <td>7.000000</td>\n",
       "      <td>9.0000</td>\n",
       "      <td>12.000000</td>\n",
       "      <td>27.00000</td>\n",
       "    </tr>\n",
       "    <tr>\n",
       "      <th>edge_count</th>\n",
       "      <td>113.0</td>\n",
       "      <td>13.469027</td>\n",
       "      <td>8.585776</td>\n",
       "      <td>3.0</td>\n",
       "      <td>8.000000</td>\n",
       "      <td>12.0000</td>\n",
       "      <td>16.000000</td>\n",
       "      <td>63.00000</td>\n",
       "    </tr>\n",
       "    <tr>\n",
       "      <th>node_diversity</th>\n",
       "      <td>113.0</td>\n",
       "      <td>1.783540</td>\n",
       "      <td>0.495283</td>\n",
       "      <td>0.0</td>\n",
       "      <td>1.487603</td>\n",
       "      <td>1.8432</td>\n",
       "      <td>2.111111</td>\n",
       "      <td>2.68144</td>\n",
       "    </tr>\n",
       "    <tr>\n",
       "      <th>node_valence_1</th>\n",
       "      <td>113.0</td>\n",
       "      <td>0.198142</td>\n",
       "      <td>0.788388</td>\n",
       "      <td>-3.0</td>\n",
       "      <td>-0.170000</td>\n",
       "      <td>0.1700</td>\n",
       "      <td>0.700000</td>\n",
       "      <td>2.00000</td>\n",
       "    </tr>\n",
       "    <tr>\n",
       "      <th>node_valence_2</th>\n",
       "      <td>113.0</td>\n",
       "      <td>0.187788</td>\n",
       "      <td>0.755325</td>\n",
       "      <td>-3.0</td>\n",
       "      <td>-0.170000</td>\n",
       "      <td>0.1700</td>\n",
       "      <td>0.670000</td>\n",
       "      <td>2.00000</td>\n",
       "    </tr>\n",
       "    <tr>\n",
       "      <th>...</th>\n",
       "      <td>...</td>\n",
       "      <td>...</td>\n",
       "      <td>...</td>\n",
       "      <td>...</td>\n",
       "      <td>...</td>\n",
       "      <td>...</td>\n",
       "      <td>...</td>\n",
       "      <td>...</td>\n",
       "    </tr>\n",
       "    <tr>\n",
       "      <th>KNPrice</th>\n",
       "      <td>113.0</td>\n",
       "      <td>2.150442</td>\n",
       "      <td>0.585864</td>\n",
       "      <td>1.0</td>\n",
       "      <td>2.000000</td>\n",
       "      <td>2.0000</td>\n",
       "      <td>3.000000</td>\n",
       "      <td>3.00000</td>\n",
       "    </tr>\n",
       "    <tr>\n",
       "      <th>KNTimes</th>\n",
       "      <td>113.0</td>\n",
       "      <td>1.831858</td>\n",
       "      <td>0.461029</td>\n",
       "      <td>1.0</td>\n",
       "      <td>2.000000</td>\n",
       "      <td>2.0000</td>\n",
       "      <td>2.000000</td>\n",
       "      <td>3.00000</td>\n",
       "    </tr>\n",
       "    <tr>\n",
       "      <th>KNBC</th>\n",
       "      <td>113.0</td>\n",
       "      <td>2.292035</td>\n",
       "      <td>0.561907</td>\n",
       "      <td>1.0</td>\n",
       "      <td>2.000000</td>\n",
       "      <td>2.0000</td>\n",
       "      <td>3.000000</td>\n",
       "      <td>3.00000</td>\n",
       "    </tr>\n",
       "    <tr>\n",
       "      <th>KNPerc</th>\n",
       "      <td>113.0</td>\n",
       "      <td>1.964602</td>\n",
       "      <td>0.325390</td>\n",
       "      <td>1.0</td>\n",
       "      <td>2.000000</td>\n",
       "      <td>2.0000</td>\n",
       "      <td>2.000000</td>\n",
       "      <td>3.00000</td>\n",
       "    </tr>\n",
       "    <tr>\n",
       "      <th>KNRef</th>\n",
       "      <td>113.0</td>\n",
       "      <td>1.823009</td>\n",
       "      <td>0.486057</td>\n",
       "      <td>1.0</td>\n",
       "      <td>2.000000</td>\n",
       "      <td>2.0000</td>\n",
       "      <td>2.000000</td>\n",
       "      <td>3.00000</td>\n",
       "    </tr>\n",
       "  </tbody>\n",
       "</table>\n",
       "<p>72 rows × 8 columns</p>\n",
       "</div>"
      ],
      "text/plain": [
       "                count       mean       std  min       25%      50%        75%  \\\n",
       "node_count      113.0   9.778761  4.451594  4.0  7.000000   9.0000  12.000000   \n",
       "edge_count      113.0  13.469027  8.585776  3.0  8.000000  12.0000  16.000000   \n",
       "node_diversity  113.0   1.783540  0.495283  0.0  1.487603   1.8432   2.111111   \n",
       "node_valence_1  113.0   0.198142  0.788388 -3.0 -0.170000   0.1700   0.700000   \n",
       "node_valence_2  113.0   0.187788  0.755325 -3.0 -0.170000   0.1700   0.670000   \n",
       "...               ...        ...       ...  ...       ...      ...        ...   \n",
       "KNPrice         113.0   2.150442  0.585864  1.0  2.000000   2.0000   3.000000   \n",
       "KNTimes         113.0   1.831858  0.461029  1.0  2.000000   2.0000   2.000000   \n",
       "KNBC            113.0   2.292035  0.561907  1.0  2.000000   2.0000   3.000000   \n",
       "KNPerc          113.0   1.964602  0.325390  1.0  2.000000   2.0000   2.000000   \n",
       "KNRef           113.0   1.823009  0.486057  1.0  2.000000   2.0000   2.000000   \n",
       "\n",
       "                     max  \n",
       "node_count      27.00000  \n",
       "edge_count      63.00000  \n",
       "node_diversity   2.68144  \n",
       "node_valence_1   2.00000  \n",
       "node_valence_2   2.00000  \n",
       "...                  ...  \n",
       "KNPrice          3.00000  \n",
       "KNTimes          3.00000  \n",
       "KNBC             3.00000  \n",
       "KNPerc           3.00000  \n",
       "KNRef            3.00000  \n",
       "\n",
       "[72 rows x 8 columns]"
      ]
     },
     "execution_count": 146,
     "metadata": {},
     "output_type": "execute_result"
    }
   ],
   "source": [
    "summary_df = pd.DataFrame(survey_df_analysis[variable_list].describe()).transpose()\n",
    "summary_df"
   ]
  },
  {
   "cell_type": "markdown",
   "metadata": {},
   "source": [
    "## Assumption"
   ]
  },
  {
   "cell_type": "markdown",
   "metadata": {},
   "source": [
    "### Correlation & Dimension Reduction"
   ]
  },
  {
   "cell_type": "code",
   "execution_count": 147,
   "metadata": {},
   "outputs": [],
   "source": [
    "#Clean up column order\n",
    "#column_order = list(np.arange(0,21))+list(np.arange(47,50))+list(np.arange(65,68))+list(np.arange(24,47))+list(np.arange(50,65))+list(np.arange(21,24))+list(np.arange(68,72))\n",
    "#survey_df_arrange = survey_df_analysis.iloc[:,column_order]\n",
    "#survey_df_arrange.head()"
   ]
  },
  {
   "cell_type": "code",
   "execution_count": 148,
   "metadata": {},
   "outputs": [],
   "source": [
    "correlation_matrix = survey_df_analysis.corr()"
   ]
  },
  {
   "cell_type": "code",
   "execution_count": 149,
   "metadata": {},
   "outputs": [
    {
     "data": {
      "text/plain": [
       "0.6966242068223083"
      ]
     },
     "execution_count": 149,
     "metadata": {},
     "output_type": "execute_result"
    }
   ],
   "source": [
    "correlation_matrix.iloc[7,5]"
   ]
  },
  {
   "cell_type": "code",
   "execution_count": 150,
   "metadata": {},
   "outputs": [],
   "source": [
    "corr_df = pd.DataFrame(columns = ['row','column','corr'])\n",
    "for i in range(len(correlation_matrix.columns)):\n",
    "    for j in range(len(correlation_matrix)):\n",
    "        if (correlation_matrix.iloc[i,j]>.6) & (correlation_matrix.iloc[i,j]!=1):\n",
    "            newrow = {'row':correlation_matrix.columns[i],'column':correlation_matrix.columns[j],'corr':correlation_matrix.iloc[i,j]}\n",
    "            corr_df = corr_df.append(newrow, ignore_index=True)\n",
    "            "
   ]
  },
  {
   "cell_type": "code",
   "execution_count": 151,
   "metadata": {},
   "outputs": [
    {
     "data": {
      "text/html": [
       "<div>\n",
       "<style scoped>\n",
       "    .dataframe tbody tr th:only-of-type {\n",
       "        vertical-align: middle;\n",
       "    }\n",
       "\n",
       "    .dataframe tbody tr th {\n",
       "        vertical-align: top;\n",
       "    }\n",
       "\n",
       "    .dataframe thead th {\n",
       "        text-align: right;\n",
       "    }\n",
       "</style>\n",
       "<table border=\"1\" class=\"dataframe\">\n",
       "  <thead>\n",
       "    <tr style=\"text-align: right;\">\n",
       "      <th></th>\n",
       "      <th>row</th>\n",
       "      <th>column</th>\n",
       "      <th>corr</th>\n",
       "    </tr>\n",
       "  </thead>\n",
       "  <tbody>\n",
       "    <tr>\n",
       "      <th>0</th>\n",
       "      <td>node_count</td>\n",
       "      <td>edge_count</td>\n",
       "      <td>0.842091</td>\n",
       "    </tr>\n",
       "    <tr>\n",
       "      <th>1</th>\n",
       "      <td>edge_count</td>\n",
       "      <td>node_count</td>\n",
       "      <td>0.842091</td>\n",
       "    </tr>\n",
       "    <tr>\n",
       "      <th>2</th>\n",
       "      <td>node_valence_1</td>\n",
       "      <td>node_valence_2</td>\n",
       "      <td>0.997517</td>\n",
       "    </tr>\n",
       "    <tr>\n",
       "      <th>3</th>\n",
       "      <td>node_valence_2</td>\n",
       "      <td>node_valence_1</td>\n",
       "      <td>0.997517</td>\n",
       "    </tr>\n",
       "    <tr>\n",
       "      <th>4</th>\n",
       "      <td>density</td>\n",
       "      <td>triadic_closure</td>\n",
       "      <td>0.696624</td>\n",
       "    </tr>\n",
       "    <tr>\n",
       "      <th>5</th>\n",
       "      <td>density</td>\n",
       "      <td>central_node_val</td>\n",
       "      <td>0.647375</td>\n",
       "    </tr>\n",
       "    <tr>\n",
       "      <th>6</th>\n",
       "      <td>triadic_closure</td>\n",
       "      <td>density</td>\n",
       "      <td>0.696624</td>\n",
       "    </tr>\n",
       "    <tr>\n",
       "      <th>7</th>\n",
       "      <td>central_node_val</td>\n",
       "      <td>density</td>\n",
       "      <td>0.647375</td>\n",
       "    </tr>\n",
       "    <tr>\n",
       "      <th>8</th>\n",
       "      <td>Aff5</td>\n",
       "      <td>Aff24</td>\n",
       "      <td>0.653327</td>\n",
       "    </tr>\n",
       "    <tr>\n",
       "      <th>9</th>\n",
       "      <td>Aff6</td>\n",
       "      <td>Aff18</td>\n",
       "      <td>0.740150</td>\n",
       "    </tr>\n",
       "    <tr>\n",
       "      <th>10</th>\n",
       "      <td>Aff18</td>\n",
       "      <td>Aff6</td>\n",
       "      <td>0.740150</td>\n",
       "    </tr>\n",
       "    <tr>\n",
       "      <th>11</th>\n",
       "      <td>Aff24</td>\n",
       "      <td>Aff5</td>\n",
       "      <td>0.653327</td>\n",
       "    </tr>\n",
       "  </tbody>\n",
       "</table>\n",
       "</div>"
      ],
      "text/plain": [
       "                 row            column      corr\n",
       "0         node_count        edge_count  0.842091\n",
       "1         edge_count        node_count  0.842091\n",
       "2     node_valence_1    node_valence_2  0.997517\n",
       "3     node_valence_2    node_valence_1  0.997517\n",
       "4            density   triadic_closure  0.696624\n",
       "5            density  central_node_val  0.647375\n",
       "6    triadic_closure           density  0.696624\n",
       "7   central_node_val           density  0.647375\n",
       "8               Aff5             Aff24  0.653327\n",
       "9               Aff6             Aff18  0.740150\n",
       "10             Aff18              Aff6  0.740150\n",
       "11             Aff24              Aff5  0.653327"
      ]
     },
     "execution_count": 151,
     "metadata": {},
     "output_type": "execute_result"
    }
   ],
   "source": [
    "corr_df"
   ]
  },
  {
   "cell_type": "code",
   "execution_count": null,
   "metadata": {},
   "outputs": [],
   "source": [
    "import seaborn as sns\n",
    "plt.subplots(figsize=(25,15))\n",
    "sns.heatmap(correlation_matrix)"
   ]
  },
  {
   "cell_type": "code",
   "execution_count": null,
   "metadata": {},
   "outputs": [],
   "source": [
    "list(survey_df_analysis.columns).index('Aff1R')"
   ]
  },
  {
   "cell_type": "code",
   "execution_count": null,
   "metadata": {},
   "outputs": [],
   "source": [
    "#Isolate variables for individual heat mapping\n",
    "Cog_index = list(np.arange(list(survey_df_analysis.columns).index('Cog1'),list(survey_df_analysis.columns).index('Cog18')+1))\n",
    "Aff_index = list(np.arange(list(survey_df_analysis.columns).index('Aff1R'),list(survey_df_analysis.columns).index('Aff26')+1))\n",
    "Cog_df = survey_df_analysis.iloc[:,Cog_index]\n",
    "Aff_df = survey_df_analysis.iloc[:,Aff_index]"
   ]
  },
  {
   "cell_type": "code",
   "execution_count": null,
   "metadata": {},
   "outputs": [],
   "source": [
    "fig, (ax1, ax2) = plt.subplots(1,2,figsize=(15,5))\n",
    "\n",
    "sns.heatmap(Cog_df.corr(), ax=ax1)\n",
    "sns.heatmap(Aff_df.corr(), ax=ax2)\n",
    "\n",
    "plt.show()"
   ]
  },
  {
   "cell_type": "markdown",
   "metadata": {},
   "source": [
    "#### Dimension Reduction"
   ]
  },
  {
   "cell_type": "code",
   "execution_count": null,
   "metadata": {},
   "outputs": [],
   "source": [
    "from sklearn.decomposition import PCA\n",
    "pca = PCA()\n",
    "x_pca = pca.fit_transform(Aff_df)\n",
    "x_pca = pd.DataFrame(x_pca)\n",
    "x_pca.head(10)"
   ]
  },
  {
   "cell_type": "code",
   "execution_count": null,
   "metadata": {},
   "outputs": [],
   "source": [
    "explained_variance = pca.explained_variance_ratio_\n",
    "explained_variance"
   ]
  },
  {
   "cell_type": "code",
   "execution_count": null,
   "metadata": {},
   "outputs": [],
   "source": [
    "plt.figure(figsize=(8, 6))\n",
    "plt.bar(range(len(x_pca.columns)), explained_variance, alpha=0.5, align='center', label='individual variance')\n",
    "plt.legend()\n",
    "plt.ylabel('Variance ratio')\n",
    "plt.xlabel('Principal components')\n",
    "plt.show()"
   ]
  },
  {
   "cell_type": "markdown",
   "metadata": {},
   "source": [
    "#### Check linear regression plots"
   ]
  },
  {
   "cell_type": "code",
   "execution_count": null,
   "metadata": {},
   "outputs": [],
   "source": [
    "variable_index = variable_list.index('KNPrice') #Just enter the variable name you want an output for \n",
    "\n",
    "variable_name = variable_list[variable_index]\n",
    "\n",
    "fig, axs = plt.subplots(figsize=(5,5),sharey=True, tight_layout=True)\n",
    "\n",
    "# We can set the number of bins with the `bins` kwarg\n",
    "axs.hist(survey_cam_merge[variable_name])\n",
    "axs.set_title(f'{variable_name}')"
   ]
  },
  {
   "cell_type": "markdown",
   "metadata": {},
   "source": [
    "Create output of assumption test\n",
    "peirce test of normality for indep variable\n",
    "ind:\n",
    "dv:"
   ]
  },
  {
   "cell_type": "code",
   "execution_count": null,
   "metadata": {},
   "outputs": [],
   "source": [
    "#Are these switched?\n",
    "survey_dependent = survey_df_analysis[dependent_list]\n",
    "survey_network = survey_df_analysis[network_list]\n",
    "survey_c1 = survey_df_analysis[control_list_1]\n"
   ]
  },
  {
   "cell_type": "code",
   "execution_count": null,
   "metadata": {},
   "outputs": [],
   "source": [
    "print(list(survey_network.columns))\n",
    "survey_cent = survey_network.iloc[:,[6,13]]"
   ]
  },
  {
   "cell_type": "code",
   "execution_count": null,
   "metadata": {},
   "outputs": [],
   "source": [
    "#For all the below graphs:\n",
    "y = survey_dependent\n",
    "X = survey_cent"
   ]
  },
  {
   "cell_type": "code",
   "execution_count": null,
   "metadata": {},
   "outputs": [],
   "source": [
    "import scipy.stats as st\n",
    "fig, axes = plt.subplots(nrows=len(y.columns), ncols=len(X.columns), figsize=(15, 10))\n",
    "                                   \n",
    "for i in range(len(y.columns)):\n",
    "    for j in range(len(X.columns)):\n",
    "        axes[i, j].scatter(X.iloc[:,j],y.iloc[:,i])\n",
    "        axes[i,j].set_xlabel(f'{X.columns[j]}',fontsize=10)\n",
    "        \n",
    "        \n",
    "        slope, inter, r, p, std_err = st.linregress(X.iloc[:,j],y.iloc[:,i])\n",
    "        plot_fit = slope * (X.iloc[:,j]) + inter\n",
    "        axes[i,j].plot((X.iloc[:,j]),plot_fit,linestyle='solid',color=\"red\",lw=.3)\n",
    "        \n",
    "        if j ==0:\n",
    "            axes[i,j].set_ylabel(f'{y.columns[i]}',fontsize=10)\n",
    "            \n",
    "fig.tight_layout()\n"
   ]
  },
  {
   "cell_type": "markdown",
   "metadata": {},
   "source": [
    "#### Data transformations?"
   ]
  },
  {
   "cell_type": "markdown",
   "metadata": {},
   "source": [
    "boxcox shorthand:\n",
    "lambda = -1. is a reciprocal transform.\n",
    "lambda = -0.5 is a reciprocal square root transform.\n",
    "lambda = 0.0 is a log transform.\n",
    "lambda = 0.5 is a square root transform.\n",
    "lambda = 1.0 is no transform."
   ]
  },
  {
   "cell_type": "code",
   "execution_count": null,
   "metadata": {},
   "outputs": [],
   "source": [
    "from scipy.stats import boxcox\n",
    "data = boxcox(y.iloc[:,1], 0)\n",
    "data"
   ]
  },
  {
   "cell_type": "markdown",
   "metadata": {},
   "source": [
    "#### Assumption Testing for OLS"
   ]
  },
  {
   "cell_type": "code",
   "execution_count": null,
   "metadata": {},
   "outputs": [],
   "source": [
    "from statsmodels.graphics.gofplots import ProbPlot\n",
    "plt.style.use('seaborn') # pretty matplotlib plots\n",
    "plt.rc('font', size=14)\n",
    "plt.rc('figure', titlesize=18)\n",
    "plt.rc('axes', labelsize=15)\n",
    "plt.rc('axes', titlesize=18)"
   ]
  },
  {
   "cell_type": "code",
   "execution_count": null,
   "metadata": {},
   "outputs": [],
   "source": [
    "unique_values = survey_dependent.iloc[:,0].unique()\n",
    "unique_values"
   ]
  },
  {
   "cell_type": "code",
   "execution_count": null,
   "metadata": {},
   "outputs": [],
   "source": [
    "X = survey_cent\n",
    "X = sm.add_constant(X)\n",
    "y = survey_dependent.iloc[:,0]\n",
    "\n",
    "# generate OLS model\n",
    "model = sm.OLS(y, X)\n",
    "model_fit = model.fit()\n",
    "# create dataframe from X, y for easier plot handling\n",
    "dataframe = pd.concat([X, y], axis=1)"
   ]
  },
  {
   "cell_type": "code",
   "execution_count": null,
   "metadata": {},
   "outputs": [],
   "source": [
    "X.head()"
   ]
  },
  {
   "cell_type": "code",
   "execution_count": null,
   "metadata": {},
   "outputs": [],
   "source": [
    "print(model_fit.summary())"
   ]
  },
  {
   "cell_type": "code",
   "execution_count": null,
   "metadata": {},
   "outputs": [],
   "source": [
    "# model values\n",
    "model_fitted_y = model_fit.fittedvalues\n",
    "# model residuals\n",
    "model_residuals = model_fit.resid\n",
    "# normalized residuals\n",
    "model_norm_residuals = model_fit.get_influence().resid_studentized_internal\n",
    "# absolute squared normalized residuals\n",
    "model_norm_residuals_abs_sqrt = np.sqrt(np.abs(model_norm_residuals))\n",
    "# absolute residuals\n",
    "model_abs_resid = np.abs(model_residuals)\n",
    "# leverage, from statsmodels internals\n",
    "model_leverage = model_fit.get_influence().hat_matrix_diag\n",
    "# cook's distance, from statsmodels internals\n",
    "model_cooks = model_fit.get_influence().cooks_distance[0]\n",
    "\n",
    "plot_lm_1 = plt.figure()\n",
    "plot_lm_1.axes[0] = sns.residplot(model_fitted_y, dataframe.columns[-1], data=dataframe,\n",
    "                          lowess=True,\n",
    "                          scatter_kws={'alpha': 0.5},\n",
    "                          line_kws={'color': 'red', 'lw': 1, 'alpha': 0.8})\n",
    "\n",
    "plot_lm_1.axes[0].set_title('Residuals vs Fitted')\n",
    "plot_lm_1.axes[0].set_xlabel('Fitted values')\n",
    "plot_lm_1.axes[0].set_ylabel('Residuals');"
   ]
  },
  {
   "cell_type": "code",
   "execution_count": null,
   "metadata": {},
   "outputs": [],
   "source": [
    "#further from line = errors not being normally distributed\n",
    "QQ = ProbPlot(model_norm_residuals)\n",
    "plot_lm_2 = QQ.qqplot(line='45', alpha=0.5, color='#4C72B0', lw=1)\n",
    "plot_lm_2.axes[0].set_title('Normal Q-Q')\n",
    "plot_lm_2.axes[0].set_xlabel('Theoretical Quantiles')\n",
    "plot_lm_2.axes[0].set_ylabel('Standardized Residuals');\n",
    "\n",
    "\n"
   ]
  },
  {
   "cell_type": "code",
   "execution_count": null,
   "metadata": {},
   "outputs": [],
   "source": [
    "#The more horizontal the red line is, the more likely the data is homoscedastic\n",
    "plot_lm_3 = plt.figure()\n",
    "plt.scatter(model_fitted_y, model_norm_residuals_abs_sqrt, alpha=0.5);\n",
    "sns.regplot(model_fitted_y, model_norm_residuals_abs_sqrt,\n",
    "          scatter=False,\n",
    "          ci=False,\n",
    "          lowess=True,\n",
    "          line_kws={'color': 'red', 'lw': 1, 'alpha': 0.8});\n",
    "plot_lm_3.axes[0].set_title('Scale-Location')\n",
    "plot_lm_3.axes[0].set_xlabel('Fitted values')\n",
    "plot_lm_3.axes[0].set_ylabel('$\\sqrt{|Standardized Residuals|}$');\n",
    "\n"
   ]
  },
  {
   "cell_type": "code",
   "execution_count": null,
   "metadata": {},
   "outputs": [],
   "source": [
    "#Cook’s Distance, we only need to find leverage points that have a distance greater than 0.5 (above dotted red line). \n",
    "\n",
    "plot_lm_4 = plt.figure();\n",
    "plt.scatter(model_leverage, model_norm_residuals, alpha=0.5);\n",
    "sns.regplot(model_leverage, model_norm_residuals,\n",
    "          scatter=False,\n",
    "          ci=False,\n",
    "          lowess=True,\n",
    "          line_kws={'color': 'red', 'lw': 1, 'alpha': 0.8});\n",
    "plot_lm_4.axes[0].set_xlim(0, max(model_leverage)+0.01)\n",
    "plot_lm_4.axes[0].set_ylim(-3, 5)\n",
    "plot_lm_4.axes[0].set_title('Residuals vs Leverage')\n",
    "plot_lm_4.axes[0].set_xlabel('Leverage')\n",
    "plot_lm_4.axes[0].set_ylabel('Standardized Residuals');\n",
    "\n",
    "# shenanigans for cook's distance....not sure this is right \n",
    "def graph(formula, x_range, label=None):\n",
    "    x = x_range\n",
    "    y = formula(x)\n",
    "    plt.plot(x, y, label=label, lw=1, ls='--', color='red')\n",
    "\n",
    "# annotations\n",
    "\n",
    "\n",
    "p = len(model_fit.params) # number of model parameters\n",
    "graph(lambda x: np.sqrt((0.5 * p * (1 - x)) / x),\n",
    "    np.linspace(0.001, max(model_leverage), 50),\n",
    "    'Cook\\'s distance') # 0.5 line\n",
    "\n",
    "#graph(lambda x: np.sqrt((1 * p * (1 - x)) / x),\n",
    "    #np.linspace(0.001, max(model_leverage), 50)) # 1 line\n",
    "\n",
    "plot_lm_4.legend(loc='upper right');"
   ]
  },
  {
   "cell_type": "markdown",
   "metadata": {},
   "source": [
    "## GLM"
   ]
  },
  {
   "cell_type": "code",
   "execution_count": null,
   "metadata": {},
   "outputs": [],
   "source": [
    "from patsy import dmatrices\n",
    "import statsmodels.api as sm\n",
    "\n",
    "formula = \"\"\"dep ~ ind1 + C(ind2_catagorical) )\"\"\"\n",
    "\n",
    "response, predictors = dmatrices(formula, data, return_type='dataframe')\n",
    "po_results = sm.GLM(response, predictors, family=sm.families.Poisson()).fit()\n",
    "print(po_results.summary())"
   ]
  },
  {
   "cell_type": "code",
   "execution_count": null,
   "metadata": {},
   "outputs": [],
   "source": [
    "# Poisson regression code\n",
    "import statsmodels.api as sm\n",
    "\n",
    "exog, endog = sm.add_constant(x), y\n",
    "\n",
    "mod = sm.GLM(endog, exog, family=sm.families.Poisson(link=sm.families.links.log))\n",
    "\n",
    "res = mod.fit()"
   ]
  },
  {
   "cell_type": "markdown",
   "metadata": {},
   "source": [
    "# Coor Analysis\n",
    "\n",
    "create a clustering coef.\n",
    "net measure predicts feelings about carbon tax\n",
    "show optimal binning variable"
   ]
  },
  {
   "cell_type": "code",
   "execution_count": null,
   "metadata": {},
   "outputs": [],
   "source": []
  }
 ],
 "metadata": {
  "kernelspec": {
   "display_name": "Python 3",
   "language": "python",
   "name": "python3"
  },
  "language_info": {
   "codemirror_mode": {
    "name": "ipython",
    "version": 3
   },
   "file_extension": ".py",
   "mimetype": "text/x-python",
   "name": "python",
   "nbconvert_exporter": "python",
   "pygments_lexer": "ipython3",
   "version": "3.7.7"
  }
 },
 "nbformat": 4,
 "nbformat_minor": 4
}
