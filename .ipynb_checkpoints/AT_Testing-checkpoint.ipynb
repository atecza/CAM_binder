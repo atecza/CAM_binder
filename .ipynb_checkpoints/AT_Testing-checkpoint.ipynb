{
 "cells": [
  {
   "cell_type": "code",
   "execution_count": 89,
   "metadata": {},
   "outputs": [],
   "source": [
    "import re\n",
    "import numpy as np\n",
    "import pandas as pd\n",
    "import os\n",
    "from os import walk\n",
    "import math\n",
    "\n",
    "import cv2 as cv\n",
    "import networkx as nx\n",
    "\n",
    "import chart_studio.plotly as py\n",
    "import plotly.offline as py\n",
    "import plotly.graph_objects as go\n",
    "import matplotlib.pyplot as plt\n",
    "from Shapes import shapes\n",
    "from Lines import lines\n"
   ]
  },
  {
   "cell_type": "markdown",
   "metadata": {},
   "source": [
    "### Pulling in Data"
   ]
  },
  {
   "cell_type": "code",
   "execution_count": 23,
   "metadata": {},
   "outputs": [],
   "source": [
    "file_path = '/Users/agetecza/CAM_Data/AT_CAM/Data/Clean' #path to data on local computer\n",
    "output_path = '/Users/agetecza/CAM_Data/AT_CAM/Data/Plots'"
   ]
  },
  {
   "cell_type": "code",
   "execution_count": null,
   "metadata": {},
   "outputs": [],
   "source": [
    "my_file_path = '/Users/agetecza/CAM_Data/AT_CAM/Data/Clean'"
   ]
  },
  {
   "cell_type": "code",
   "execution_count": 161,
   "metadata": {},
   "outputs": [],
   "source": [
    "def make_id_list(file_path):\n",
    "\n",
    "    #pull all filenames in your data directory\n",
    "    _, _, filenames = next(walk(file_path))\n",
    "\n",
    "    #grab only the id from the filenames to feed to the function\n",
    "    id_list = []\n",
    "    for filename in filenames:\n",
    "        filename_split = filename.rsplit('_', 1)\n",
    "        id_list.append(filename_split[0])\n",
    "    \n",
    "    return id_list"
   ]
  },
  {
   "cell_type": "code",
   "execution_count": 162,
   "metadata": {},
   "outputs": [],
   "source": [
    "#Get an id_list from your specific file path\n",
    "my_id_list = make_id_list(my_file_path)"
   ]
  },
  {
   "cell_type": "code",
   "execution_count": 277,
   "metadata": {},
   "outputs": [
    {
     "data": {
      "text/html": [
       "<div>\n",
       "<style scoped>\n",
       "    .dataframe tbody tr th:only-of-type {\n",
       "        vertical-align: middle;\n",
       "    }\n",
       "\n",
       "    .dataframe tbody tr th {\n",
       "        vertical-align: top;\n",
       "    }\n",
       "\n",
       "    .dataframe thead th {\n",
       "        text-align: right;\n",
       "    }\n",
       "</style>\n",
       "<table border=\"1\" class=\"dataframe\">\n",
       "  <thead>\n",
       "    <tr style=\"text-align: right;\">\n",
       "      <th></th>\n",
       "      <th>id</th>\n",
       "      <th>title</th>\n",
       "      <th>x_pos</th>\n",
       "      <th>y_pos</th>\n",
       "      <th>width</th>\n",
       "      <th>height</th>\n",
       "      <th>shape</th>\n",
       "      <th>creator</th>\n",
       "      <th>num</th>\n",
       "      <th>comment</th>\n",
       "      <th>timestamp</th>\n",
       "      <th>modifiable</th>\n",
       "      <th>CAM</th>\n",
       "    </tr>\n",
       "  </thead>\n",
       "  <tbody>\n",
       "    <tr>\n",
       "      <th>0</th>\n",
       "      <td>13570</td>\n",
       "      <td>Tax Discount</td>\n",
       "      <td>252.0</td>\n",
       "      <td>379.0</td>\n",
       "      <td>160.0</td>\n",
       "      <td>120.0</td>\n",
       "      <td>positive strong</td>\n",
       "      <td>709</td>\n",
       "      <td>3.0</td>\n",
       "      <td>NaN</td>\n",
       "      <td>17:59:35</td>\n",
       "      <td>1</td>\n",
       "      <td>817</td>\n",
       "    </tr>\n",
       "    <tr>\n",
       "      <th>1</th>\n",
       "      <td>13565</td>\n",
       "      <td>Revenue Netral</td>\n",
       "      <td>51.0</td>\n",
       "      <td>377.0</td>\n",
       "      <td>160.0</td>\n",
       "      <td>120.0</td>\n",
       "      <td>ambivalent</td>\n",
       "      <td>709</td>\n",
       "      <td>2.0</td>\n",
       "      <td>NaN</td>\n",
       "      <td>17:59:50</td>\n",
       "      <td>1</td>\n",
       "      <td>817</td>\n",
       "    </tr>\n",
       "    <tr>\n",
       "      <th>2</th>\n",
       "      <td>13577</td>\n",
       "      <td>Support Environment</td>\n",
       "      <td>323.0</td>\n",
       "      <td>20.0</td>\n",
       "      <td>160.0</td>\n",
       "      <td>120.0</td>\n",
       "      <td>positive strong</td>\n",
       "      <td>709</td>\n",
       "      <td>5.0</td>\n",
       "      <td>NaN</td>\n",
       "      <td>18:00:04</td>\n",
       "      <td>1</td>\n",
       "      <td>817</td>\n",
       "    </tr>\n",
       "    <tr>\n",
       "      <th>3</th>\n",
       "      <td>13562</td>\n",
       "      <td>Carbon Tax</td>\n",
       "      <td>238.0</td>\n",
       "      <td>123.0</td>\n",
       "      <td>160.0</td>\n",
       "      <td>120.0</td>\n",
       "      <td>neutral</td>\n",
       "      <td>709</td>\n",
       "      <td>1.0</td>\n",
       "      <td>NaN</td>\n",
       "      <td>17:52:37</td>\n",
       "      <td>1</td>\n",
       "      <td>817</td>\n",
       "    </tr>\n",
       "    <tr>\n",
       "      <th>4</th>\n",
       "      <td>13574</td>\n",
       "      <td>Green</td>\n",
       "      <td>44.0</td>\n",
       "      <td>20.0</td>\n",
       "      <td>160.0</td>\n",
       "      <td>120.0</td>\n",
       "      <td>positive strong</td>\n",
       "      <td>709</td>\n",
       "      <td>4.0</td>\n",
       "      <td>NaN</td>\n",
       "      <td>18:00:16</td>\n",
       "      <td>1</td>\n",
       "      <td>817</td>\n",
       "    </tr>\n",
       "    <tr>\n",
       "      <th>5</th>\n",
       "      <td>13582</td>\n",
       "      <td>Tax Oil Companies</td>\n",
       "      <td>541.0</td>\n",
       "      <td>306.0</td>\n",
       "      <td>160.0</td>\n",
       "      <td>120.0</td>\n",
       "      <td>positive strong</td>\n",
       "      <td>709</td>\n",
       "      <td>6.0</td>\n",
       "      <td>NaN</td>\n",
       "      <td>17:59:20</td>\n",
       "      <td>1</td>\n",
       "      <td>817</td>\n",
       "    </tr>\n",
       "    <tr>\n",
       "      <th>6</th>\n",
       "      <td>13588</td>\n",
       "      <td>Conservitive Dog Whistle</td>\n",
       "      <td>606.0</td>\n",
       "      <td>158.0</td>\n",
       "      <td>160.0</td>\n",
       "      <td>120.0</td>\n",
       "      <td>negative strong</td>\n",
       "      <td>709</td>\n",
       "      <td>8.0</td>\n",
       "      <td>NaN</td>\n",
       "      <td>17:59:12</td>\n",
       "      <td>1</td>\n",
       "      <td>817</td>\n",
       "    </tr>\n",
       "  </tbody>\n",
       "</table>\n",
       "</div>"
      ],
      "text/plain": [
       "      id                     title  x_pos  y_pos  width  height  \\\n",
       "0  13570              Tax Discount  252.0  379.0  160.0   120.0   \n",
       "1  13565            Revenue Netral   51.0  377.0  160.0   120.0   \n",
       "2  13577       Support Environment  323.0   20.0  160.0   120.0   \n",
       "3  13562                Carbon Tax  238.0  123.0  160.0   120.0   \n",
       "4  13574                     Green   44.0   20.0  160.0   120.0   \n",
       "5  13582         Tax Oil Companies  541.0  306.0  160.0   120.0   \n",
       "6  13588  Conservitive Dog Whistle  606.0  158.0  160.0   120.0   \n",
       "\n",
       "             shape  creator  num  comment timestamp  modifiable  CAM  \n",
       "0  positive strong      709  3.0      NaN  17:59:35           1  817  \n",
       "1       ambivalent      709  2.0      NaN  17:59:50           1  817  \n",
       "2  positive strong      709  5.0      NaN  18:00:04           1  817  \n",
       "3          neutral      709  1.0      NaN  17:52:37           1  817  \n",
       "4  positive strong      709  4.0      NaN  18:00:16           1  817  \n",
       "5  positive strong      709  6.0      NaN  17:59:20           1  817  \n",
       "6  negative strong      709  8.0      NaN  17:59:12           1  817  "
      ]
     },
     "metadata": {},
     "output_type": "display_data"
    },
    {
     "data": {
      "text/html": [
       "<div>\n",
       "<style scoped>\n",
       "    .dataframe tbody tr th:only-of-type {\n",
       "        vertical-align: middle;\n",
       "    }\n",
       "\n",
       "    .dataframe tbody tr th {\n",
       "        vertical-align: top;\n",
       "    }\n",
       "\n",
       "    .dataframe thead th {\n",
       "        text-align: right;\n",
       "    }\n",
       "</style>\n",
       "<table border=\"1\" class=\"dataframe\">\n",
       "  <thead>\n",
       "    <tr style=\"text-align: right;\">\n",
       "      <th></th>\n",
       "      <th>id</th>\n",
       "      <th>starting_block</th>\n",
       "      <th>ending_block</th>\n",
       "      <th>line_style</th>\n",
       "      <th>creator</th>\n",
       "      <th>num</th>\n",
       "      <th>arrow_type</th>\n",
       "      <th>timestamp</th>\n",
       "      <th>CAM</th>\n",
       "    </tr>\n",
       "  </thead>\n",
       "  <tbody>\n",
       "    <tr>\n",
       "      <th>0</th>\n",
       "      <td>7785</td>\n",
       "      <td>13582</td>\n",
       "      <td>13588</td>\n",
       "      <td>Solid-Weak</td>\n",
       "      <td>709</td>\n",
       "      <td>0</td>\n",
       "      <td>none</td>\n",
       "      <td>17:57:08</td>\n",
       "      <td>817</td>\n",
       "    </tr>\n",
       "    <tr>\n",
       "      <th>1</th>\n",
       "      <td>7773</td>\n",
       "      <td>13562</td>\n",
       "      <td>13577</td>\n",
       "      <td>Solid-Weak</td>\n",
       "      <td>709</td>\n",
       "      <td>0</td>\n",
       "      <td>none</td>\n",
       "      <td>17:56:13</td>\n",
       "      <td>817</td>\n",
       "    </tr>\n",
       "    <tr>\n",
       "      <th>2</th>\n",
       "      <td>7765</td>\n",
       "      <td>13562</td>\n",
       "      <td>13570</td>\n",
       "      <td>Solid-Weak</td>\n",
       "      <td>709</td>\n",
       "      <td>0</td>\n",
       "      <td>none</td>\n",
       "      <td>17:55:28</td>\n",
       "      <td>817</td>\n",
       "    </tr>\n",
       "    <tr>\n",
       "      <th>3</th>\n",
       "      <td>7776</td>\n",
       "      <td>13562</td>\n",
       "      <td>13574</td>\n",
       "      <td>Solid-Weak</td>\n",
       "      <td>709</td>\n",
       "      <td>0</td>\n",
       "      <td>none</td>\n",
       "      <td>17:56:23</td>\n",
       "      <td>817</td>\n",
       "    </tr>\n",
       "    <tr>\n",
       "      <th>4</th>\n",
       "      <td>7753</td>\n",
       "      <td>13565</td>\n",
       "      <td>13570</td>\n",
       "      <td>Solid</td>\n",
       "      <td>709</td>\n",
       "      <td>0</td>\n",
       "      <td>none</td>\n",
       "      <td>17:54:56</td>\n",
       "      <td>817</td>\n",
       "    </tr>\n",
       "    <tr>\n",
       "      <th>5</th>\n",
       "      <td>7763</td>\n",
       "      <td>13562</td>\n",
       "      <td>13565</td>\n",
       "      <td>Solid</td>\n",
       "      <td>709</td>\n",
       "      <td>0</td>\n",
       "      <td>none</td>\n",
       "      <td>17:55:21</td>\n",
       "      <td>817</td>\n",
       "    </tr>\n",
       "    <tr>\n",
       "      <th>6</th>\n",
       "      <td>7782</td>\n",
       "      <td>13562</td>\n",
       "      <td>13582</td>\n",
       "      <td>Solid-Weak</td>\n",
       "      <td>709</td>\n",
       "      <td>0</td>\n",
       "      <td>none</td>\n",
       "      <td>17:56:56</td>\n",
       "      <td>817</td>\n",
       "    </tr>\n",
       "    <tr>\n",
       "      <th>7</th>\n",
       "      <td>7778</td>\n",
       "      <td>13562</td>\n",
       "      <td>13588</td>\n",
       "      <td>Solid-Weak</td>\n",
       "      <td>709</td>\n",
       "      <td>0</td>\n",
       "      <td>none</td>\n",
       "      <td>17:56:28</td>\n",
       "      <td>817</td>\n",
       "    </tr>\n",
       "    <tr>\n",
       "      <th>8</th>\n",
       "      <td>7787</td>\n",
       "      <td>13574</td>\n",
       "      <td>13577</td>\n",
       "      <td>Solid-Strong</td>\n",
       "      <td>709</td>\n",
       "      <td>0</td>\n",
       "      <td>none</td>\n",
       "      <td>17:57:26</td>\n",
       "      <td>817</td>\n",
       "    </tr>\n",
       "    <tr>\n",
       "      <th>9</th>\n",
       "      <td>7834</td>\n",
       "      <td>13570</td>\n",
       "      <td>13582</td>\n",
       "      <td>Dashed</td>\n",
       "      <td>709</td>\n",
       "      <td>0</td>\n",
       "      <td>none</td>\n",
       "      <td>18:00:43</td>\n",
       "      <td>817</td>\n",
       "    </tr>\n",
       "  </tbody>\n",
       "</table>\n",
       "</div>"
      ],
      "text/plain": [
       "     id  starting_block  ending_block    line_style  creator  num arrow_type  \\\n",
       "0  7785           13582         13588    Solid-Weak      709    0       none   \n",
       "1  7773           13562         13577    Solid-Weak      709    0       none   \n",
       "2  7765           13562         13570    Solid-Weak      709    0       none   \n",
       "3  7776           13562         13574    Solid-Weak      709    0       none   \n",
       "4  7753           13565         13570         Solid      709    0       none   \n",
       "5  7763           13562         13565         Solid      709    0       none   \n",
       "6  7782           13562         13582    Solid-Weak      709    0       none   \n",
       "7  7778           13562         13588    Solid-Weak      709    0       none   \n",
       "8  7787           13574         13577  Solid-Strong      709    0       none   \n",
       "9  7834           13570         13582        Dashed      709    0       none   \n",
       "\n",
       "  timestamp  CAM  \n",
       "0  17:57:08  817  \n",
       "1  17:56:13  817  \n",
       "2  17:55:28  817  \n",
       "3  17:56:23  817  \n",
       "4  17:54:56  817  \n",
       "5  17:55:21  817  \n",
       "6  17:56:56  817  \n",
       "7  17:56:28  817  \n",
       "8  17:57:26  817  \n",
       "9  18:00:43  817  "
      ]
     },
     "metadata": {},
     "output_type": "display_data"
    }
   ],
   "source": [
    "#Create pandas dataframe\n",
    "cam_id = my_id_list[0] #grab the first id to just look through code\n",
    "blocks = pd.read_csv(f'{file_path}/{cam_id}_blocks.csv')\n",
    "links = pd.read_csv(f'{file_path}/{cam_id}_links.csv')\n",
    "\n",
    "display(blocks)\n",
    "display(links)"
   ]
  },
  {
   "cell_type": "markdown",
   "metadata": {},
   "source": [
    "### Create Graphs Using Networkx"
   ]
  },
  {
   "cell_type": "markdown",
   "metadata": {},
   "source": [
    "#### Create a function to build most basic graph"
   ]
  },
  {
   "cell_type": "code",
   "execution_count": 223,
   "metadata": {},
   "outputs": [],
   "source": [
    "def graph_from_df(node_df, edge_df):\n",
    "    # Get nodes\n",
    "    nodes = node_df['id'].to_list()\n",
    "    # Get edges\n",
    "    edge_start = edge_df['starting_block'].to_list()\n",
    "    edge_end = edge_df['ending_block'].to_list()\n",
    "    edges = tuple(zip(edge_start, edge_end))\n",
    "    # Create Graph\n",
    "    G = nx.Graph()\n",
    "    G.add_nodes_from(nodes)\n",
    "    G.add_edges_from(edges)\n",
    "    \n",
    "    return G"
   ]
  },
  {
   "cell_type": "code",
   "execution_count": 218,
   "metadata": {},
   "outputs": [],
   "source": [
    "G = graph_from_df(blocks,links)"
   ]
  },
  {
   "cell_type": "code",
   "execution_count": 219,
   "metadata": {},
   "outputs": [
    {
     "data": {
      "image/png": "[encoded data removed]",
      "text/plain": [
       "<Figure size 432x288 with 1 Axes>"
      ]
     },
     "metadata": {},
     "output_type": "display_data"
    }
   ],
   "source": [
    "nx.draw(G)"
   ]
  },
  {
   "cell_type": "markdown",
   "metadata": {},
   "source": [
    "### Create a function to add attributes "
   ]
  },
  {
   "cell_type": "code",
   "execution_count": 220,
   "metadata": {},
   "outputs": [],
   "source": [
    "def add_node_attributes(graph_name, attr_df, attr_column_name): #attr_column_name must be in quotes\n",
    "    \n",
    "    blocks_dict = attr_df[['id', attr_column_name]].set_index('id').to_dict()[attr_column_name]\n",
    "    nx.set_node_attributes(graph_name, blocks_dict, attr_column_name)\n",
    "    \n",
    "    return graph_name.nodes(data = True)"
   ]
  },
  {
   "cell_type": "code",
   "execution_count": 290,
   "metadata": {},
   "outputs": [],
   "source": [
    "def add_link_attributes(graph_name, attr_df, attr_name):\n",
    "    attr_full_dict = {}\n",
    "    attr_df['unique_link']= list(zip(attr_df['starting_block'], attr_df['ending_block']))\n",
    "    \n",
    "    for idx, row in attr_df.iterrows():\n",
    "        attr_dict = {attr_name: row[attr_name]}\n",
    "        \n",
    "        attr_full_dict.update({row['unique_link']:attr_dict})\n",
    "    \n",
    "    nx.set_edge_attributes(G, attr_full_dict)\n",
    "    \n",
    "    return graph_name.edges(data = True)"
   ]
  },
  {
   "cell_type": "code",
   "execution_count": null,
   "metadata": {},
   "outputs": [],
   "source": [
    "add_node_attributes(G,blocks,'title')\n",
    "add_node_attributes(G,blocks,'shape')"
   ]
  },
  {
   "cell_type": "code",
   "execution_count": 292,
   "metadata": {},
   "outputs": [
    {
     "data": {
      "text/plain": [
       "EdgeDataView([(13570, 13562, {'line_style': 'Solid-Weak'}), (13570, 13565, {'line_style': 'Solid'}), (13570, 13582, {'line_style': 'Dashed'}), (13565, 13562, {'line_style': 'Solid'}), (13577, 13562, {'line_style': 'Solid-Weak'}), (13577, 13574, {'line_style': 'Solid-Strong'}), (13562, 13574, {'line_style': 'Solid-Weak'}), (13562, 13582, {'line_style': 'Solid-Weak'}), (13562, 13588, {'line_style': 'Solid-Weak'}), (13582, 13588, {'line_style': 'Solid-Weak'})])"
      ]
     },
     "execution_count": 292,
     "metadata": {},
     "output_type": "execute_result"
    }
   ],
   "source": [
    "add_link_attributes(G,links,'line_style')"
   ]
  },
  {
   "cell_type": "code",
   "execution_count": 29,
   "metadata": {},
   "outputs": [
    {
     "data": {
      "text/plain": [
       "array(['Solid-Strong', 'Dashed', 'Dashed-Strong', 'Solid', 'Dashed-Weak',\n",
       "       'Solid-Weak'], dtype=object)"
      ]
     },
     "execution_count": 29,
     "metadata": {},
     "output_type": "execute_result"
    }
   ],
   "source": [
    "#code link names to make edge attributes \n",
    "#solid and dashed. Solid links indicate that the two elements are positively correlated, \n",
    "#whereas dashed links mean that the two elements are negatively correlated\n",
    "links['line_style'].unique()"
   ]
  },
  {
   "cell_type": "code",
   "execution_count": 159,
   "metadata": {},
   "outputs": [
    {
     "data": {
      "image/png": "[encoded data removed]",
      "text/plain": [
       "<Figure size 432x288 with 1 Axes>"
      ]
     },
     "metadata": {},
     "output_type": "display_data"
    }
   ],
   "source": [
    "#Look at data for a specific graph\n",
    "G.edges(data = True)\n",
    "G.nodes(data = True)\n",
    "nx.draw(G)"
   ]
  },
  {
   "cell_type": "code",
   "execution_count": null,
   "metadata": {},
   "outputs": [],
   "source": []
  },
  {
   "cell_type": "markdown",
   "metadata": {},
   "source": [
    "### Simulations"
   ]
  },
  {
   "cell_type": "markdown",
   "metadata": {},
   "source": [
    "#### assumption: graph probability distribution is uniform, conditioned on size and density\n",
    " (all graphs of given size and density are equally probable)"
   ]
  },
  {
   "cell_type": "markdown",
   "metadata": {},
   "source": [
    "G n,M = graph of size n, with M links \n",
    "Sample procedure:\n",
    "create an empty graph with n vertices and randomly insert M links from n(n-1) possible links without replacement"
   ]
  },
  {
   "cell_type": "code",
   "execution_count": 78,
   "metadata": {},
   "outputs": [],
   "source": [
    "test = nx.gnp_random_graph(15,.5)"
   ]
  },
  {
   "cell_type": "code",
   "execution_count": 79,
   "metadata": {},
   "outputs": [
    {
     "data": {
      "image/png": "[encoded data removed]",
      "text/plain": [
       "<Figure size 432x288 with 1 Axes>"
      ]
     },
     "metadata": {},
     "output_type": "display_data"
    }
   ],
   "source": [
    "nx.draw(test)"
   ]
  },
  {
   "cell_type": "code",
   "execution_count": 65,
   "metadata": {},
   "outputs": [],
   "source": []
  },
  {
   "cell_type": "code",
   "execution_count": 92,
   "metadata": {},
   "outputs": [],
   "source": [
    "def calc_prob_distribution(n, p, sample_size):\n",
    "    density_dict_full = []\n",
    "    \n",
    "    for i in range(sample_size):\n",
    "        G = nx.gnp_random_graph(n,p)\n",
    "        density = np.round(nx.density(G), 3)\n",
    "        edge_count = G.size()\n",
    "        # Calculate longest path\n",
    "        try:\n",
    "            components = nx.connected_components(G)\n",
    "            largest_component = max(components, key=len)\n",
    "            subgraph = G.subgraph(largest_component)\n",
    "            diameter = nx.diameter(subgraph)\n",
    "        except:\n",
    "            diameter = 0\n",
    "        # Calculate transitivity\n",
    "        triadic_closure = np.round(nx.transitivity(G), 3)\n",
    "        # Calculate max degree\n",
    "        try:\n",
    "            degree_centrality = nx.degree_centrality(G)\n",
    "            max_centrality_ind = np.argmax(list(degree_centrality.values()))\n",
    "            central_node = list(degree_centrality.keys())[max_centrality_ind]\n",
    "            central_node_title = i\n",
    "            central_node_val = np.round(list(degree_centrality.values())[max_centrality_ind], 3)\n",
    "        except:\n",
    "            central_node = 0\n",
    "            central_node_title = ''\n",
    "            central_node_val = 0\n",
    "        # Eigenvector Centrality\n",
    "        try:\n",
    "            eigenvector_centrality = nx.eigenvector_centrality(G)\n",
    "            max_centrality_ind = np.argmax(list(eigenvector_centrality.values()))\n",
    "            central_node_val_eig = np.round(list(eigenvector_centrality.values())[max_centrality_ind], 3)\n",
    "        except:\n",
    "            central_node_val_eig = 0\n",
    "        # Betweeness Centrality\n",
    "        try:\n",
    "            betweenness_centrality = nx.betweenness_centrality(G)\n",
    "            max_centrality_ind = np.argmax(list(betweenness_centrality.values()))\n",
    "            central_node_val_bet = np.round(list(betweenness_centrality.values())[max_centrality_ind], 3)\n",
    "        except:\n",
    "            central_node_val_bet = 0\n",
    "            \n",
    "        density_dict = {\n",
    "            'edge_count': edge_count,\n",
    "            'density': density,\n",
    "            'diameter': diameter,\n",
    "            'triadic_closure': triadic_closure,\n",
    "            'central_node': central_node,\n",
    "            'central_node_title': central_node_title,\n",
    "            'central_node_val': central_node_val,\n",
    "            'central_node_val_eig': central_node_val_eig,\n",
    "            'central_node_val_bet': central_node_val_bet\n",
    "        }\n",
    "        \n",
    "        density_dict_full.append(density_dict)\n",
    "        \n",
    "    density_df = pd.DataFrame(density_dict_full)\n",
    "        \n",
    "    return density_df"
   ]
  },
  {
   "cell_type": "code",
   "execution_count": 119,
   "metadata": {},
   "outputs": [],
   "source": [
    "def calc_density(id_list):\n",
    "    \n",
    "    dictionary_list = []\n",
    "    \n",
    "    for cam_id in id_list:\n",
    "        \n",
    "        try:\n",
    "            df_blocks = pd.read_csv(f'{file_path}/{cam_id}_blocks.csv')\n",
    "            df_links = pd.read_csv(f'{file_path}/{cam_id}_links.csv')\n",
    "        \n",
    "        except:\n",
    "            print(f'No file found for {cam_id}')\n",
    "\n",
    "        # Get nodes\n",
    "        nodes = df_blocks['id'].to_list()\n",
    "        # Get edges\n",
    "        edge_start = df_links['starting_block'].to_list()\n",
    "        edge_end = df_links['ending_block'].to_list()\n",
    "        edges = tuple(zip(edge_start, edge_end))\n",
    "        # Create Graph\n",
    "        G = nx.Graph()\n",
    "        G.add_nodes_from(nodes)\n",
    "        G.add_edges_from(edges)\n",
    "        # Calculate Density\n",
    "        density = np.round(nx.density(G), 3)\n",
    "        node_count = G.number_of_nodes()\n",
    "        edge_count = G.size()\n",
    "        # Calculate longest path\n",
    "        try:\n",
    "            components = nx.connected_components(G)\n",
    "            largest_component = max(components, key=len)\n",
    "            subgraph = G.subgraph(largest_component)\n",
    "            diameter = nx.diameter(subgraph)\n",
    "        except:\n",
    "            diameter = 0\n",
    "        # Calculate transitivity\n",
    "        triadic_closure = np.round(nx.transitivity(G), 3)\n",
    "        # Calculate max degree\n",
    "        try:\n",
    "            degree_centrality = nx.degree_centrality(G)\n",
    "            max_centrality_ind = np.argmax(list(degree_centrality.values()))\n",
    "            central_node = list(degree_centrality.keys())[max_centrality_ind]\n",
    "            central_node_title = df_blocks[df_blocks['id'] == central_node]['title'].values[0]\n",
    "            central_node_val = np.round(list(degree_centrality.values())[max_centrality_ind], 3)\n",
    "        except:\n",
    "            central_node = 0\n",
    "            central_node_title = ''\n",
    "            central_node_val = 0\n",
    "        # Eigenvector Centrality\n",
    "        try:\n",
    "            eigenvector_centrality = nx.eigenvector_centrality(G)\n",
    "            max_centrality_ind = np.argmax(list(eigenvector_centrality.values()))\n",
    "            central_node_val_eig = np.round(list(eigenvector_centrality.values())[max_centrality_ind], 3)\n",
    "        except:\n",
    "            central_node_val_eig = 0\n",
    "        # Betweeness Centrality\n",
    "        try:\n",
    "            betweenness_centrality = nx.betweenness_centrality(G)\n",
    "            max_centrality_ind = np.argmax(list(betweenness_centrality.values()))\n",
    "            central_node_val_bet = np.round(list(betweenness_centrality.values())[max_centrality_ind], 3)\n",
    "        except:\n",
    "            central_node_val_bet = 0\n",
    "        \n",
    "        density_dict = {\n",
    "            'node_count': node_count,\n",
    "            'edge_count': edge_count,\n",
    "            'density': density,\n",
    "            'diameter': diameter,\n",
    "            'triadic_closure': triadic_closure,\n",
    "            'central_node': central_node,\n",
    "            'central_node_title': central_node_title,\n",
    "            'central_node_val': central_node_val,\n",
    "            'central_node_val_eig': central_node_val_eig,\n",
    "            'central_node_val_bet': central_node_val_bet\n",
    "        }\n",
    "        \n",
    "        dictionary_list.append(density_dict)\n",
    "        \n",
    "    cam_density_df = pd.DataFrame(dictionary_list)\n",
    "            \n",
    "    return cam_density_df"
   ]
  },
  {
   "cell_type": "code",
   "execution_count": 97,
   "metadata": {},
   "outputs": [],
   "source": [
    "density_df = calc_prob_distribution(15, .5, 1000)"
   ]
  },
  {
   "cell_type": "code",
   "execution_count": 120,
   "metadata": {},
   "outputs": [
    {
     "name": "stdout",
     "output_type": "stream",
     "text": [
      "No file found for 575ec4be3fc3ac000611df4c__771\n"
     ]
    }
   ],
   "source": [
    "cam_density_df = calc_density(my_id_list)"
   ]
  },
  {
   "cell_type": "code",
   "execution_count": 121,
   "metadata": {},
   "outputs": [
    {
     "data": {
      "text/html": [
       "<div>\n",
       "<style scoped>\n",
       "    .dataframe tbody tr th:only-of-type {\n",
       "        vertical-align: middle;\n",
       "    }\n",
       "\n",
       "    .dataframe tbody tr th {\n",
       "        vertical-align: top;\n",
       "    }\n",
       "\n",
       "    .dataframe thead th {\n",
       "        text-align: right;\n",
       "    }\n",
       "</style>\n",
       "<table border=\"1\" class=\"dataframe\">\n",
       "  <thead>\n",
       "    <tr style=\"text-align: right;\">\n",
       "      <th></th>\n",
       "      <th>node_count</th>\n",
       "      <th>edge_count</th>\n",
       "      <th>density</th>\n",
       "      <th>diameter</th>\n",
       "      <th>triadic_closure</th>\n",
       "      <th>central_node</th>\n",
       "      <th>central_node_title</th>\n",
       "      <th>central_node_val</th>\n",
       "      <th>central_node_val_eig</th>\n",
       "      <th>central_node_val_bet</th>\n",
       "    </tr>\n",
       "  </thead>\n",
       "  <tbody>\n",
       "    <tr>\n",
       "      <th>0</th>\n",
       "      <td>7</td>\n",
       "      <td>10</td>\n",
       "      <td>0.476</td>\n",
       "      <td>2</td>\n",
       "      <td>0.480</td>\n",
       "      <td>13562</td>\n",
       "      <td>Carbon Tax</td>\n",
       "      <td>1.000</td>\n",
       "      <td>0.595</td>\n",
       "      <td>0.667</td>\n",
       "    </tr>\n",
       "    <tr>\n",
       "      <th>1</th>\n",
       "      <td>8</td>\n",
       "      <td>11</td>\n",
       "      <td>0.393</td>\n",
       "      <td>2</td>\n",
       "      <td>0.400</td>\n",
       "      <td>13480</td>\n",
       "      <td>Carbon Tax</td>\n",
       "      <td>1.000</td>\n",
       "      <td>0.623</td>\n",
       "      <td>0.786</td>\n",
       "    </tr>\n",
       "    <tr>\n",
       "      <th>2</th>\n",
       "      <td>10</td>\n",
       "      <td>9</td>\n",
       "      <td>0.200</td>\n",
       "      <td>5</td>\n",
       "      <td>0.000</td>\n",
       "      <td>14076</td>\n",
       "      <td>economic growth</td>\n",
       "      <td>0.444</td>\n",
       "      <td>0.566</td>\n",
       "      <td>0.722</td>\n",
       "    </tr>\n",
       "    <tr>\n",
       "      <th>3</th>\n",
       "      <td>14</td>\n",
       "      <td>13</td>\n",
       "      <td>0.143</td>\n",
       "      <td>7</td>\n",
       "      <td>0.000</td>\n",
       "      <td>14686</td>\n",
       "      <td>Unequal effect on classes and regions</td>\n",
       "      <td>0.231</td>\n",
       "      <td>0.471</td>\n",
       "      <td>0.667</td>\n",
       "    </tr>\n",
       "    <tr>\n",
       "      <th>4</th>\n",
       "      <td>12</td>\n",
       "      <td>12</td>\n",
       "      <td>0.182</td>\n",
       "      <td>6</td>\n",
       "      <td>0.000</td>\n",
       "      <td>14279</td>\n",
       "      <td>Financial Burden</td>\n",
       "      <td>0.364</td>\n",
       "      <td>0.470</td>\n",
       "      <td>0.636</td>\n",
       "    </tr>\n",
       "    <tr>\n",
       "      <th>...</th>\n",
       "      <td>...</td>\n",
       "      <td>...</td>\n",
       "      <td>...</td>\n",
       "      <td>...</td>\n",
       "      <td>...</td>\n",
       "      <td>...</td>\n",
       "      <td>...</td>\n",
       "      <td>...</td>\n",
       "      <td>...</td>\n",
       "      <td>...</td>\n",
       "    </tr>\n",
       "    <tr>\n",
       "      <th>312</th>\n",
       "      <td>5</td>\n",
       "      <td>9</td>\n",
       "      <td>0.900</td>\n",
       "      <td>2</td>\n",
       "      <td>0.875</td>\n",
       "      <td>14562</td>\n",
       "      <td>Good for environment</td>\n",
       "      <td>1.000</td>\n",
       "      <td>0.479</td>\n",
       "      <td>0.056</td>\n",
       "    </tr>\n",
       "    <tr>\n",
       "      <th>313</th>\n",
       "      <td>1</td>\n",
       "      <td>0</td>\n",
       "      <td>0.000</td>\n",
       "      <td>0</td>\n",
       "      <td>0.000</td>\n",
       "      <td>13354</td>\n",
       "      <td>Economic Impact</td>\n",
       "      <td>1.000</td>\n",
       "      <td>1.000</td>\n",
       "      <td>0.000</td>\n",
       "    </tr>\n",
       "    <tr>\n",
       "      <th>314</th>\n",
       "      <td>1</td>\n",
       "      <td>0</td>\n",
       "      <td>0.000</td>\n",
       "      <td>0</td>\n",
       "      <td>0.000</td>\n",
       "      <td>14120</td>\n",
       "      <td>C</td>\n",
       "      <td>1.000</td>\n",
       "      <td>1.000</td>\n",
       "      <td>0.000</td>\n",
       "    </tr>\n",
       "    <tr>\n",
       "      <th>315</th>\n",
       "      <td>7</td>\n",
       "      <td>12</td>\n",
       "      <td>0.571</td>\n",
       "      <td>2</td>\n",
       "      <td>0.618</td>\n",
       "      <td>13475</td>\n",
       "      <td>Carbon Tax</td>\n",
       "      <td>1.000</td>\n",
       "      <td>0.544</td>\n",
       "      <td>0.467</td>\n",
       "    </tr>\n",
       "    <tr>\n",
       "      <th>316</th>\n",
       "      <td>9</td>\n",
       "      <td>6</td>\n",
       "      <td>0.167</td>\n",
       "      <td>3</td>\n",
       "      <td>0.333</td>\n",
       "      <td>13693</td>\n",
       "      <td>Carbon Tax</td>\n",
       "      <td>0.500</td>\n",
       "      <td>0.628</td>\n",
       "      <td>0.286</td>\n",
       "    </tr>\n",
       "  </tbody>\n",
       "</table>\n",
       "<p>317 rows × 10 columns</p>\n",
       "</div>"
      ],
      "text/plain": [
       "     node_count  edge_count  density  diameter  triadic_closure  central_node  \\\n",
       "0             7          10    0.476         2            0.480         13562   \n",
       "1             8          11    0.393         2            0.400         13480   \n",
       "2            10           9    0.200         5            0.000         14076   \n",
       "3            14          13    0.143         7            0.000         14686   \n",
       "4            12          12    0.182         6            0.000         14279   \n",
       "..          ...         ...      ...       ...              ...           ...   \n",
       "312           5           9    0.900         2            0.875         14562   \n",
       "313           1           0    0.000         0            0.000         13354   \n",
       "314           1           0    0.000         0            0.000         14120   \n",
       "315           7          12    0.571         2            0.618         13475   \n",
       "316           9           6    0.167         3            0.333         13693   \n",
       "\n",
       "                        central_node_title  central_node_val  \\\n",
       "0                               Carbon Tax             1.000   \n",
       "1                               Carbon Tax             1.000   \n",
       "2                          economic growth             0.444   \n",
       "3    Unequal effect on classes and regions             0.231   \n",
       "4                         Financial Burden             0.364   \n",
       "..                                     ...               ...   \n",
       "312                   Good for environment             1.000   \n",
       "313                        Economic Impact             1.000   \n",
       "314                                      C             1.000   \n",
       "315                             Carbon Tax             1.000   \n",
       "316                             Carbon Tax             0.500   \n",
       "\n",
       "     central_node_val_eig  central_node_val_bet  \n",
       "0                   0.595                 0.667  \n",
       "1                   0.623                 0.786  \n",
       "2                   0.566                 0.722  \n",
       "3                   0.471                 0.667  \n",
       "4                   0.470                 0.636  \n",
       "..                    ...                   ...  \n",
       "312                 0.479                 0.056  \n",
       "313                 1.000                 0.000  \n",
       "314                 1.000                 0.000  \n",
       "315                 0.544                 0.467  \n",
       "316                 0.628                 0.286  \n",
       "\n",
       "[317 rows x 10 columns]"
      ]
     },
     "execution_count": 121,
     "metadata": {},
     "output_type": "execute_result"
    }
   ],
   "source": [
    "cam_density_df"
   ]
  },
  {
   "cell_type": "code",
   "execution_count": 153,
   "metadata": {},
   "outputs": [],
   "source": [
    "n_values = sorted(list(cam_density_df['node_count'].unique()))"
   ]
  },
  {
   "cell_type": "code",
   "execution_count": 158,
   "metadata": {},
   "outputs": [
    {
     "data": {
      "text/plain": [
       "Text(0.5, 1.0, 'Distribution of Node Count')"
      ]
     },
     "execution_count": 158,
     "metadata": {},
     "output_type": "execute_result"
    },
    {
     "data": {
      "image/png": "[encoded data removed]",
      "text/plain": [
       "<Figure size 360x360 with 1 Axes>"
      ]
     },
     "metadata": {
      "needs_background": "light"
     },
     "output_type": "display_data"
    }
   ],
   "source": [
    "fig, axs = plt.subplots(figsize=(5,5),sharey=True, tight_layout=True)\n",
    "\n",
    "# We can set the number of bins with the `bins` kwarg\n",
    "axs.hist(cam_density_df['node_count'])\n",
    "axs.set_title('Distribution of Node Count')"
   ]
  },
  {
   "cell_type": "code",
   "execution_count": 105,
   "metadata": {},
   "outputs": [
    {
     "data": {
      "text/plain": [
       "Text(0.5, 1.0, 'Betweenness Centrality')"
      ]
     },
     "execution_count": 105,
     "metadata": {},
     "output_type": "execute_result"
    },
    {
     "data": {
      "image/png": "[encoded data removed]",
      "text/plain": [
       "<Figure size 1440x720 with 3 Axes>"
      ]
     },
     "metadata": {
      "needs_background": "light"
     },
     "output_type": "display_data"
    }
   ],
   "source": [
    "\n",
    "fig, axs = plt.subplots(1, 3, figsize=(20,10),sharey=True, tight_layout=True)\n",
    "\n",
    "# We can set the number of bins with the `bins` kwarg\n",
    "axs[0].hist(density_df['central_node_val'])\n",
    "axs[0].set_title('Degree Centrality')\n",
    "axs[0].vlines(, ymin, ymax, colors=None, linestyles='solid', label='', \n",
    "\n",
    "axs[1].hist(density_df['central_node_val_eig'])\n",
    "axs[1].set_title('Eigenvector Centrality')\n",
    "\n",
    "axs[2].hist(density_df['central_node_val_bet'])\n",
    "axs[2].set_title('Betweenness Centrality')"
   ]
  },
  {
   "cell_type": "code",
   "execution_count": null,
   "metadata": {},
   "outputs": [],
   "source": []
  }
 ],
 "metadata": {
  "kernelspec": {
   "display_name": "Python 3",
   "language": "python",
   "name": "python3"
  },
  "language_info": {
   "codemirror_mode": {
    "name": "ipython",
    "version": 3
   },
   "file_extension": ".py",
   "mimetype": "text/x-python",
   "name": "python",
   "nbconvert_exporter": "python",
   "pygments_lexer": "ipython3",
   "version": "3.7.7"
  }
 },
 "nbformat": 4,
 "nbformat_minor": 2
}
