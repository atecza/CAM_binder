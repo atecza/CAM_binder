{
 "cells": [
  {
   "cell_type": "code",
   "execution_count": 3,
   "metadata": {},
   "outputs": [],
   "source": [
    "import re\n",
    "import numpy as np\n",
    "import pandas as pd\n",
    "import os\n",
    "from os import walk\n",
    "import math\n",
    "\n",
    "import cv2 as cv\n",
    "import networkx as nx\n",
    "\n",
    "import chart_studio.plotly as py\n",
    "import plotly.offline as py\n",
    "import plotly.graph_objects as go\n",
    "import matplotlib.pyplot as plt\n",
    "#from Shapes import shapes\n",
    "#from Lines import lines\n"
   ]
  },
  {
   "cell_type": "code",
   "execution_count": 225,
   "metadata": {},
   "outputs": [],
   "source": [
    "from ipywidgets import interact"
   ]
  },
  {
   "cell_type": "markdown",
   "metadata": {},
   "source": [
    "### Pulling in Data"
   ]
  },
  {
   "cell_type": "code",
   "execution_count": 4,
   "metadata": {},
   "outputs": [],
   "source": [
    "file_path = '/Users/agetecza/CAM_Data/AT_CAM/Data/Clean' #path to data on local computer"
   ]
  },
  {
   "cell_type": "code",
   "execution_count": 5,
   "metadata": {},
   "outputs": [],
   "source": [
    "#Function to get unique elements from a list\n",
    "def list_unique(list1): \n",
    "  \n",
    "    # intilize a null list \n",
    "    unique_list = [] \n",
    "      \n",
    "    # traverse for all elements \n",
    "    for x in list1: \n",
    "        # check if exists in unique_list or not \n",
    "        if x not in unique_list: \n",
    "            unique_list.append(x) \n",
    "            \n",
    "    return unique_list"
   ]
  },
  {
   "cell_type": "code",
   "execution_count": 6,
   "metadata": {},
   "outputs": [],
   "source": [
    "def make_id_list(my_file_path):\n",
    "\n",
    "    #pull all filenames in your data directory\n",
    "    _, _, filenames = next(walk(my_file_path))\n",
    "\n",
    "    #grab only the id from the filenames to feed to the function\n",
    "    id_list = []\n",
    "    for filename in filenames:\n",
    "        filename_split = filename.rsplit('_', 1)\n",
    "        id_list.append(filename_split[0])\n",
    "    \n",
    "    unique_id = list_unique(id_list) #drop duplicate ids, since they are the same for _blocks & _links\n",
    "        \n",
    "    \n",
    "    \n",
    "    return unique_id"
   ]
  },
  {
   "cell_type": "code",
   "execution_count": 7,
   "metadata": {},
   "outputs": [],
   "source": [
    "#Get an id_list from your specific file path\n",
    "my_id_list = make_id_list(file_path)"
   ]
  },
  {
   "cell_type": "code",
   "execution_count": 8,
   "metadata": {},
   "outputs": [
    {
     "data": {
      "text/plain": [
       "159"
      ]
     },
     "execution_count": 8,
     "metadata": {},
     "output_type": "execute_result"
    }
   ],
   "source": [
    "#Look at total number of cams\n",
    "len(my_id_list)"
   ]
  },
  {
   "cell_type": "markdown",
   "metadata": {},
   "source": [
    "### Looking at a single CAM"
   ]
  },
  {
   "cell_type": "code",
   "execution_count": 238,
   "metadata": {},
   "outputs": [
    {
     "data": {
      "text/html": [
       "<div>\n",
       "<style scoped>\n",
       "    .dataframe tbody tr th:only-of-type {\n",
       "        vertical-align: middle;\n",
       "    }\n",
       "\n",
       "    .dataframe tbody tr th {\n",
       "        vertical-align: top;\n",
       "    }\n",
       "\n",
       "    .dataframe thead th {\n",
       "        text-align: right;\n",
       "    }\n",
       "</style>\n",
       "<table border=\"1\" class=\"dataframe\">\n",
       "  <thead>\n",
       "    <tr style=\"text-align: right;\">\n",
       "      <th></th>\n",
       "      <th>id</th>\n",
       "      <th>title</th>\n",
       "      <th>x_pos</th>\n",
       "      <th>y_pos</th>\n",
       "      <th>width</th>\n",
       "      <th>height</th>\n",
       "      <th>shape</th>\n",
       "      <th>creator</th>\n",
       "      <th>num</th>\n",
       "      <th>comment</th>\n",
       "      <th>timestamp</th>\n",
       "      <th>modifiable</th>\n",
       "      <th>CAM</th>\n",
       "    </tr>\n",
       "  </thead>\n",
       "  <tbody>\n",
       "    <tr>\n",
       "      <th>0</th>\n",
       "      <td>13781</td>\n",
       "      <td>Carbon tax</td>\n",
       "      <td>455.0</td>\n",
       "      <td>310.0</td>\n",
       "      <td>160.0</td>\n",
       "      <td>120.0</td>\n",
       "      <td>neutral</td>\n",
       "      <td>749</td>\n",
       "      <td>1.0</td>\n",
       "      <td>NaN</td>\n",
       "      <td>NaN</td>\n",
       "      <td>1</td>\n",
       "      <td>857</td>\n",
       "    </tr>\n",
       "    <tr>\n",
       "      <th>1</th>\n",
       "      <td>13817</td>\n",
       "      <td>subsidies</td>\n",
       "      <td>77.0</td>\n",
       "      <td>290.0</td>\n",
       "      <td>160.0</td>\n",
       "      <td>120.0</td>\n",
       "      <td>negative</td>\n",
       "      <td>749</td>\n",
       "      <td>2.0</td>\n",
       "      <td>NaN</td>\n",
       "      <td>18:12:32</td>\n",
       "      <td>1</td>\n",
       "      <td>857</td>\n",
       "    </tr>\n",
       "    <tr>\n",
       "      <th>2</th>\n",
       "      <td>13825</td>\n",
       "      <td>taxes</td>\n",
       "      <td>196.0</td>\n",
       "      <td>65.0</td>\n",
       "      <td>160.0</td>\n",
       "      <td>120.0</td>\n",
       "      <td>negative</td>\n",
       "      <td>749</td>\n",
       "      <td>3.0</td>\n",
       "      <td>NaN</td>\n",
       "      <td>18:12:21</td>\n",
       "      <td>1</td>\n",
       "      <td>857</td>\n",
       "    </tr>\n",
       "    <tr>\n",
       "      <th>3</th>\n",
       "      <td>13828</td>\n",
       "      <td>jobs</td>\n",
       "      <td>578.0</td>\n",
       "      <td>94.0</td>\n",
       "      <td>160.0</td>\n",
       "      <td>120.0</td>\n",
       "      <td>positive weak</td>\n",
       "      <td>749</td>\n",
       "      <td>4.0</td>\n",
       "      <td>NaN</td>\n",
       "      <td>NaN</td>\n",
       "      <td>1</td>\n",
       "      <td>857</td>\n",
       "    </tr>\n",
       "    <tr>\n",
       "      <th>4</th>\n",
       "      <td>13858</td>\n",
       "      <td>environment</td>\n",
       "      <td>729.0</td>\n",
       "      <td>276.0</td>\n",
       "      <td>160.0</td>\n",
       "      <td>120.0</td>\n",
       "      <td>positive</td>\n",
       "      <td>749</td>\n",
       "      <td>5.0</td>\n",
       "      <td>NaN</td>\n",
       "      <td>NaN</td>\n",
       "      <td>1</td>\n",
       "      <td>857</td>\n",
       "    </tr>\n",
       "  </tbody>\n",
       "</table>\n",
       "</div>"
      ],
      "text/plain": [
       "      id        title  x_pos  y_pos  width  height          shape  creator  \\\n",
       "0  13781   Carbon tax  455.0  310.0  160.0   120.0        neutral      749   \n",
       "1  13817    subsidies   77.0  290.0  160.0   120.0       negative      749   \n",
       "2  13825        taxes  196.0   65.0  160.0   120.0       negative      749   \n",
       "3  13828         jobs  578.0   94.0  160.0   120.0  positive weak      749   \n",
       "4  13858  environment  729.0  276.0  160.0   120.0       positive      749   \n",
       "\n",
       "   num  comment timestamp  modifiable  CAM  \n",
       "0  1.0      NaN       NaN           1  857  \n",
       "1  2.0      NaN  18:12:32           1  857  \n",
       "2  3.0      NaN  18:12:21           1  857  \n",
       "3  4.0      NaN       NaN           1  857  \n",
       "4  5.0      NaN       NaN           1  857  "
      ]
     },
     "metadata": {},
     "output_type": "display_data"
    },
    {
     "data": {
      "text/html": [
       "<div>\n",
       "<style scoped>\n",
       "    .dataframe tbody tr th:only-of-type {\n",
       "        vertical-align: middle;\n",
       "    }\n",
       "\n",
       "    .dataframe tbody tr th {\n",
       "        vertical-align: top;\n",
       "    }\n",
       "\n",
       "    .dataframe thead th {\n",
       "        text-align: right;\n",
       "    }\n",
       "</style>\n",
       "<table border=\"1\" class=\"dataframe\">\n",
       "  <thead>\n",
       "    <tr style=\"text-align: right;\">\n",
       "      <th></th>\n",
       "      <th>id</th>\n",
       "      <th>starting_block</th>\n",
       "      <th>ending_block</th>\n",
       "      <th>line_style</th>\n",
       "      <th>creator</th>\n",
       "      <th>num</th>\n",
       "      <th>arrow_type</th>\n",
       "      <th>timestamp</th>\n",
       "      <th>CAM</th>\n",
       "    </tr>\n",
       "  </thead>\n",
       "  <tbody>\n",
       "    <tr>\n",
       "      <th>0</th>\n",
       "      <td>8168</td>\n",
       "      <td>13781</td>\n",
       "      <td>13828</td>\n",
       "      <td>Dashed-Weak</td>\n",
       "      <td>749</td>\n",
       "      <td>0</td>\n",
       "      <td>none</td>\n",
       "      <td>18:18:09</td>\n",
       "      <td>857</td>\n",
       "    </tr>\n",
       "    <tr>\n",
       "      <th>1</th>\n",
       "      <td>8182</td>\n",
       "      <td>13781</td>\n",
       "      <td>13869</td>\n",
       "      <td>Dashed</td>\n",
       "      <td>749</td>\n",
       "      <td>0</td>\n",
       "      <td>none</td>\n",
       "      <td>18:18:54</td>\n",
       "      <td>857</td>\n",
       "    </tr>\n",
       "    <tr>\n",
       "      <th>2</th>\n",
       "      <td>8206</td>\n",
       "      <td>13781</td>\n",
       "      <td>13817</td>\n",
       "      <td>Solid</td>\n",
       "      <td>749</td>\n",
       "      <td>0</td>\n",
       "      <td>none</td>\n",
       "      <td>18:20:22</td>\n",
       "      <td>857</td>\n",
       "    </tr>\n",
       "    <tr>\n",
       "      <th>3</th>\n",
       "      <td>8211</td>\n",
       "      <td>13781</td>\n",
       "      <td>13825</td>\n",
       "      <td>Solid-Weak</td>\n",
       "      <td>749</td>\n",
       "      <td>0</td>\n",
       "      <td>none</td>\n",
       "      <td>18:20:29</td>\n",
       "      <td>857</td>\n",
       "    </tr>\n",
       "    <tr>\n",
       "      <th>4</th>\n",
       "      <td>8188</td>\n",
       "      <td>13781</td>\n",
       "      <td>13858</td>\n",
       "      <td>Solid-Weak</td>\n",
       "      <td>749</td>\n",
       "      <td>0</td>\n",
       "      <td>none</td>\n",
       "      <td>18:19:06</td>\n",
       "      <td>857</td>\n",
       "    </tr>\n",
       "  </tbody>\n",
       "</table>\n",
       "</div>"
      ],
      "text/plain": [
       "     id  starting_block  ending_block   line_style  creator  num arrow_type  \\\n",
       "0  8168           13781         13828  Dashed-Weak      749    0       none   \n",
       "1  8182           13781         13869       Dashed      749    0       none   \n",
       "2  8206           13781         13817        Solid      749    0       none   \n",
       "3  8211           13781         13825   Solid-Weak      749    0       none   \n",
       "4  8188           13781         13858   Solid-Weak      749    0       none   \n",
       "\n",
       "  timestamp  CAM  \n",
       "0  18:18:09  857  \n",
       "1  18:18:54  857  \n",
       "2  18:20:22  857  \n",
       "3  18:20:29  857  \n",
       "4  18:19:06  857  "
      ]
     },
     "metadata": {},
     "output_type": "display_data"
    }
   ],
   "source": [
    "cam_id = my_id_list[6] #grab a single id to just look through code\n",
    "\n",
    "blocks = pd.read_csv(f'{file_path}/{cam_id}_blocks.csv')\n",
    "links = pd.read_csv(f'{file_path}/{cam_id}_links.csv')\n",
    "\n",
    "display(blocks.head())\n",
    "display(links.head())"
   ]
  },
  {
   "cell_type": "markdown",
   "metadata": {},
   "source": [
    "## Create A Graph Using Networkx"
   ]
  },
  {
   "cell_type": "markdown",
   "metadata": {},
   "source": [
    "### Create a function to build most basic graph"
   ]
  },
  {
   "cell_type": "code",
   "execution_count": 11,
   "metadata": {},
   "outputs": [],
   "source": [
    "def graph_from_df(node_df, edge_df):\n",
    "    # Get nodes\n",
    "    nodes = node_df['id'].to_list()\n",
    "    \n",
    "    # Get edges\n",
    "    edge_start = edge_df['starting_block'].to_list()\n",
    "    edge_end = edge_df['ending_block'].to_list()\n",
    "    edges = tuple(zip(edge_start, edge_end))\n",
    "    \n",
    "    # Create Graph\n",
    "    G = nx.Graph()\n",
    "    G.add_nodes_from(nodes)\n",
    "    G.add_edges_from(edges)\n",
    "    \n",
    "    return G"
   ]
  },
  {
   "cell_type": "code",
   "execution_count": 12,
   "metadata": {},
   "outputs": [],
   "source": [
    "G = graph_from_df(blocks,links)"
   ]
  },
  {
   "cell_type": "markdown",
   "metadata": {},
   "source": [
    "### Create a function to add attributes "
   ]
  },
  {
   "cell_type": "code",
   "execution_count": 13,
   "metadata": {},
   "outputs": [],
   "source": [
    "def add_node_attributes(graph_name, node_df, attr_name): #attr_column_name must be in quotes\n",
    "    \n",
    "    blocks_dict = node_df[['id', attr_name]].set_index('id').to_dict()[attr_name]\n",
    "    \n",
    "    nx.set_node_attributes(graph_name, blocks_dict, attr_name)\n",
    "    "
   ]
  },
  {
   "cell_type": "code",
   "execution_count": 14,
   "metadata": {},
   "outputs": [],
   "source": [
    "def add_link_attributes(graph_name, edge_df, attr_name):\n",
    "    attr_full_dict = {}\n",
    "    \n",
    "    edge_df['unique_link']= list(zip(edge_df['starting_block'], edge_df['ending_block']))\n",
    "        \n",
    "    for idx, row in edge_df.iterrows():\n",
    "        \n",
    "        attr_dict = {attr_name: row[attr_name]}\n",
    "        \n",
    "        attr_full_dict.update({row['unique_link']:attr_dict})\n",
    "    \n",
    "    nx.set_edge_attributes(G, attr_full_dict)\n",
    "    \n",
    "    \n",
    "    "
   ]
  },
  {
   "cell_type": "markdown",
   "metadata": {},
   "source": [
    "### Make all the Graphs\n",
    "#### Store all graphs with attributes in a list"
   ]
  },
  {
   "cell_type": "code",
   "execution_count": 15,
   "metadata": {},
   "outputs": [
    {
     "name": "stdout",
     "output_type": "stream",
     "text": [
      "CAM 575ec4be3fc3ac000611df4c__771 does not exist\n",
      "Summary Info:\n",
      "number of missing cams: 1\n",
      "number of cams with no links: 32\n",
      "number of complete cams: 126\n"
     ]
    }
   ],
   "source": [
    "graph_list = []\n",
    "working_id = []\n",
    "no_data = []\n",
    "missing_cam = []\n",
    "\n",
    "for i in my_id_list:\n",
    "    \n",
    "    \n",
    "    try:\n",
    "        blocks_df = pd.read_csv(f'{file_path}/{i}_blocks.csv')\n",
    "\n",
    "        links_df = pd.read_csv(f'{file_path}/{i}_links.csv')\n",
    "        \n",
    "        if len(links_df)>0:\n",
    "\n",
    "            G = graph_from_df(blocks_df, links_df)\n",
    "\n",
    "            add_node_attributes(G,blocks_df,'title')\n",
    "\n",
    "            add_node_attributes(G,blocks_df,'shape')\n",
    "\n",
    "            add_link_attributes(G, links_df, 'line_style')\n",
    "\n",
    "            graph_list.append(G)\n",
    "            \n",
    "            working_id.append(i)\n",
    "\n",
    "        \n",
    "        else:\n",
    "            no_data.append(i)\n",
    "    \n",
    "    except:\n",
    "        \n",
    "        missing_cam.append(i)\n",
    "        print(f'CAM {i} does not exist')\n",
    "\n",
    "print('Summary Info:')\n",
    "print(f'number of missing cams: {len(missing_cam)}')\n",
    "print(f'number of cams with no links: {len(no_data)}')\n",
    "print(f'number of complete cams: {len(working_id)}')\n"
   ]
  },
  {
   "cell_type": "markdown",
   "metadata": {},
   "source": [
    "#### Look at one of the graphs stored in your graph list"
   ]
  },
  {
   "cell_type": "code",
   "execution_count": 16,
   "metadata": {},
   "outputs": [
    {
     "name": "stdout",
     "output_type": "stream",
     "text": [
      "[(13488, 13519, {'line_style': 'Solid-Strong'}), (13488, 13480, {'line_style': 'Dashed'}), (13480, 13510, {'line_style': 'Solid-Weak'}), (13480, 13485, {'line_style': 'Solid-Weak'}), (13480, 13519, {'line_style': 'Solid'}), (13480, 13537, {'line_style': 'Solid-Strong'}), (13480, 13545, {'line_style': 'Solid-Weak'}), (13480, 13558, {'line_style': 'Solid-Weak'}), (13485, 13510, {'line_style': 'Solid-Strong'}), (13485, 13558, {'line_style': 'Solid'}), (13545, 13537, {'line_style': 'Solid-Strong'})]\n",
      "-------------------------\n",
      "[(13488, {'title': 'Backlash from scary conservatives', 'shape': 'negative weak'}), (13480, {'title': 'Carbon Tax', 'shape': 'neutral'}), (13485, {'title': 'makes people more enviromentally concious', 'shape': 'positive weak'}), (13510, {'title': 'Fresher air', 'shape': 'positive strong'}), (13519, {'title': 'Price of goods could go up', 'shape': 'negative weak'}), (13545, {'title': 'More social service/ environment jobs', 'shape': 'positive weak'}), (13537, {'title': 'More tax = more money for social services', 'shape': 'positive strong'}), (13558, {'title': 'Catching up to other countries who are already lessening their environment footprint', 'shape': 'positive weak'})]\n"
     ]
    },
    {
     "data": {
      "image/png": "[encoded data removed]",
      "text/plain": [
       "<Figure size 432x288 with 1 Axes>"
      ]
     },
     "metadata": {},
     "output_type": "display_data"
    }
   ],
   "source": [
    "my_graph = graph_list[1]\n",
    "\n",
    "nx.draw(my_graph)\n",
    "print(my_graph.edges(data = True))\n",
    "print('-------------------------')\n",
    "print(my_graph.nodes(data = True))\n"
   ]
  },
  {
   "cell_type": "markdown",
   "metadata": {},
   "source": [
    "# Simulations"
   ]
  },
  {
   "cell_type": "markdown",
   "metadata": {},
   "source": [
    "### assumption: graph probability distribution is uniform, conditioned on size and density\n",
    " (all graphs of given size and density are equally probable)"
   ]
  },
  {
   "cell_type": "markdown",
   "metadata": {},
   "source": [
    "G n,M = graph of size n, with M links \n",
    "Sample procedure:\n",
    "create an empty graph with n vertices and randomly insert M links from n(n-1) possible links without replacement"
   ]
  },
  {
   "cell_type": "markdown",
   "metadata": {},
   "source": [
    "### Function to make data frame of GLI for all CAMs"
   ]
  },
  {
   "cell_type": "code",
   "execution_count": 245,
   "metadata": {},
   "outputs": [],
   "source": [
    "def calc_CAM_GLI(id_list):\n",
    "    positive_list = ['positive strong', 'positive','positive weak']\n",
    "    negative_list = ['negative strong','negative','negative weak']\n",
    "    neutral_list = ['neutral','ambivalent']\n",
    "    \n",
    "    dictionary_list = []\n",
    "    \n",
    "    for cam_id in id_list:\n",
    "        block_neg = 0\n",
    "        block_pos = 0\n",
    "        block_neut = 0\n",
    "        \n",
    "        try:\n",
    "            df_blocks = pd.read_csv(f'{file_path}/{cam_id}_blocks.csv')\n",
    "            df_links = pd.read_csv(f'{file_path}/{cam_id}_links.csv')\n",
    "            \n",
    "            #Get proportion of positive and negative nodes\n",
    "            for i in range(len(df_blocks)):\n",
    "                if df_blocks['shape'][i] in negative_list:\n",
    "                    block_neg = block_neg + 1\n",
    "                elif df_blocks['shape'][i] in positive_list:\n",
    "                    block_pos = block_pos + 1\n",
    "                else:\n",
    "                    block_neut = block_neut + 1\n",
    "        \n",
    "\n",
    "            # Get nodes\n",
    "            nodes = df_blocks['id'].to_list()\n",
    "            \n",
    "            # Get edges\n",
    "            edge_start = df_links['starting_block'].to_list()\n",
    "            edge_end = df_links['ending_block'].to_list()\n",
    "            edges = tuple(zip(edge_start, edge_end))\n",
    "            \n",
    "            # Create Graph\n",
    "            G = nx.Graph()\n",
    "            G.add_nodes_from(nodes)\n",
    "            G.add_edges_from(edges)\n",
    "            \n",
    "            # Calculate Density\n",
    "            density = np.round(nx.density(G), 3)\n",
    "            node_count = G.number_of_nodes()\n",
    "            edge_count = G.size()\n",
    "            \n",
    "            # Calculate longest path\n",
    "            try:\n",
    "                components = nx.connected_components(G)\n",
    "                largest_component = max(components, key=len)\n",
    "                subgraph = G.subgraph(largest_component)\n",
    "                diameter = nx.diameter(subgraph)\n",
    "            except:\n",
    "                diameter = 0\n",
    "            # Calculate transitivity\n",
    "            triadic_closure = np.round(nx.transitivity(G), 3)\n",
    "            \n",
    "            # Calculate max degree\n",
    "            try:\n",
    "                degree_centrality = nx.degree_centrality(G)\n",
    "                max_centrality_ind = np.argmax(list(degree_centrality.values()))\n",
    "                central_node = list(degree_centrality.keys())[max_centrality_ind]\n",
    "                central_node_title = df_blocks[df_blocks['id'] == central_node]['title'].values[0]\n",
    "                central_node_val = np.round(list(degree_centrality.values())[max_centrality_ind], 3)\n",
    "            except:\n",
    "                central_node = 0\n",
    "                central_node_title = ''\n",
    "                central_node_val = 0\n",
    "                \n",
    "            # Eigenvector Centrality\n",
    "            try:\n",
    "                eigenvector_centrality = nx.eigenvector_centrality(G)\n",
    "                max_centrality_ind = np.argmax(list(eigenvector_centrality.values()))\n",
    "                central_node_val_eig = np.round(list(eigenvector_centrality.values())[max_centrality_ind], 3)\n",
    "            except:\n",
    "                central_node_val_eig = 0\n",
    "                \n",
    "            # Betweeness Centrality\n",
    "            try:\n",
    "                betweenness_centrality = nx.betweenness_centrality(G)\n",
    "                max_centrality_ind = np.argmax(list(betweenness_centrality.values()))\n",
    "                central_node_val_bet = np.round(list(betweenness_centrality.values())[max_centrality_ind], 3)\n",
    "            except:\n",
    "                central_node_val_bet = 0\n",
    "\n",
    "            # Make the dictionary\n",
    "                #add in ratio of node val\n",
    "                #add number of type of node\n",
    "            density_dict = {\n",
    "                'cam_id': cam_id,\n",
    "                'node_count': node_count,\n",
    "                'positive_nodes':block_pos,\n",
    "                'negative_nodes':block_neg,\n",
    "                'neutral_nodes':block_neut,\n",
    "                'edge_count': edge_count,\n",
    "                'density': density,\n",
    "                'diameter': diameter,\n",
    "                'triadic_closure': triadic_closure,\n",
    "                'central_node': central_node,\n",
    "                'central_node_title': central_node_title,\n",
    "                'central_node_val': central_node_val,\n",
    "                'central_node_val_eig': central_node_val_eig,\n",
    "                'central_node_val_bet': central_node_val_bet\n",
    "            }\n",
    "\n",
    "            dictionary_list.append(density_dict)\n",
    "            \n",
    "        except:\n",
    "            print(f'No file found for {cam_id}')\n",
    "        \n",
    "    cam_density_df = pd.DataFrame(dictionary_list)\n",
    "            \n",
    "    return cam_density_df"
   ]
  },
  {
   "cell_type": "code",
   "execution_count": 246,
   "metadata": {},
   "outputs": [
    {
     "name": "stdout",
     "output_type": "stream",
     "text": [
      "No file found for 575ec4be3fc3ac000611df4c__771\n"
     ]
    },
    {
     "data": {
      "text/html": [
       "<div>\n",
       "<style scoped>\n",
       "    .dataframe tbody tr th:only-of-type {\n",
       "        vertical-align: middle;\n",
       "    }\n",
       "\n",
       "    .dataframe tbody tr th {\n",
       "        vertical-align: top;\n",
       "    }\n",
       "\n",
       "    .dataframe thead th {\n",
       "        text-align: right;\n",
       "    }\n",
       "</style>\n",
       "<table border=\"1\" class=\"dataframe\">\n",
       "  <thead>\n",
       "    <tr style=\"text-align: right;\">\n",
       "      <th></th>\n",
       "      <th>cam_id</th>\n",
       "      <th>node_count</th>\n",
       "      <th>positive_nodes</th>\n",
       "      <th>negative_nodes</th>\n",
       "      <th>neutral_nodes</th>\n",
       "      <th>edge_count</th>\n",
       "      <th>density</th>\n",
       "      <th>diameter</th>\n",
       "      <th>triadic_closure</th>\n",
       "      <th>central_node</th>\n",
       "      <th>central_node_title</th>\n",
       "      <th>central_node_val</th>\n",
       "      <th>central_node_val_eig</th>\n",
       "      <th>central_node_val_bet</th>\n",
       "    </tr>\n",
       "  </thead>\n",
       "  <tbody>\n",
       "    <tr>\n",
       "      <th>0</th>\n",
       "      <td>5f32a496a026e809d7d55cbd_817</td>\n",
       "      <td>7</td>\n",
       "      <td>4</td>\n",
       "      <td>1</td>\n",
       "      <td>2</td>\n",
       "      <td>10</td>\n",
       "      <td>0.476</td>\n",
       "      <td>2</td>\n",
       "      <td>0.480</td>\n",
       "      <td>13562</td>\n",
       "      <td>Carbon Tax</td>\n",
       "      <td>1.000</td>\n",
       "      <td>0.595</td>\n",
       "      <td>0.667</td>\n",
       "    </tr>\n",
       "    <tr>\n",
       "      <th>1</th>\n",
       "      <td>5f67f8d55e7718150fd23bc7_802</td>\n",
       "      <td>8</td>\n",
       "      <td>5</td>\n",
       "      <td>2</td>\n",
       "      <td>1</td>\n",
       "      <td>11</td>\n",
       "      <td>0.393</td>\n",
       "      <td>2</td>\n",
       "      <td>0.400</td>\n",
       "      <td>13480</td>\n",
       "      <td>Carbon Tax</td>\n",
       "      <td>1.000</td>\n",
       "      <td>0.623</td>\n",
       "      <td>0.786</td>\n",
       "    </tr>\n",
       "    <tr>\n",
       "      <th>2</th>\n",
       "      <td>5e45dd10f354ca0c7f4225c7_903</td>\n",
       "      <td>10</td>\n",
       "      <td>3</td>\n",
       "      <td>3</td>\n",
       "      <td>4</td>\n",
       "      <td>9</td>\n",
       "      <td>0.200</td>\n",
       "      <td>5</td>\n",
       "      <td>0.000</td>\n",
       "      <td>14076</td>\n",
       "      <td>economic growth</td>\n",
       "      <td>0.444</td>\n",
       "      <td>0.566</td>\n",
       "      <td>0.722</td>\n",
       "    </tr>\n",
       "    <tr>\n",
       "      <th>3</th>\n",
       "      <td>5f4ae6a7ad7baa6aecef4234_990</td>\n",
       "      <td>14</td>\n",
       "      <td>3</td>\n",
       "      <td>8</td>\n",
       "      <td>3</td>\n",
       "      <td>13</td>\n",
       "      <td>0.143</td>\n",
       "      <td>7</td>\n",
       "      <td>0.000</td>\n",
       "      <td>14686</td>\n",
       "      <td>Unequal effect on classes and regions</td>\n",
       "      <td>0.231</td>\n",
       "      <td>0.471</td>\n",
       "      <td>0.667</td>\n",
       "    </tr>\n",
       "    <tr>\n",
       "      <th>4</th>\n",
       "      <td>5a4e8f4930adf7000106fd5e_928</td>\n",
       "      <td>12</td>\n",
       "      <td>5</td>\n",
       "      <td>5</td>\n",
       "      <td>2</td>\n",
       "      <td>12</td>\n",
       "      <td>0.182</td>\n",
       "      <td>6</td>\n",
       "      <td>0.000</td>\n",
       "      <td>14279</td>\n",
       "      <td>Financial Burden</td>\n",
       "      <td>0.364</td>\n",
       "      <td>0.470</td>\n",
       "      <td>0.636</td>\n",
       "    </tr>\n",
       "    <tr>\n",
       "      <th>...</th>\n",
       "      <td>...</td>\n",
       "      <td>...</td>\n",
       "      <td>...</td>\n",
       "      <td>...</td>\n",
       "      <td>...</td>\n",
       "      <td>...</td>\n",
       "      <td>...</td>\n",
       "      <td>...</td>\n",
       "      <td>...</td>\n",
       "      <td>...</td>\n",
       "      <td>...</td>\n",
       "      <td>...</td>\n",
       "      <td>...</td>\n",
       "      <td>...</td>\n",
       "    </tr>\n",
       "    <tr>\n",
       "      <th>153</th>\n",
       "      <td>5f57fef7e7b06a35296f215d_822</td>\n",
       "      <td>12</td>\n",
       "      <td>4</td>\n",
       "      <td>4</td>\n",
       "      <td>4</td>\n",
       "      <td>17</td>\n",
       "      <td>0.258</td>\n",
       "      <td>5</td>\n",
       "      <td>0.214</td>\n",
       "      <td>13629</td>\n",
       "      <td>Economy</td>\n",
       "      <td>0.455</td>\n",
       "      <td>0.467</td>\n",
       "      <td>0.544</td>\n",
       "    </tr>\n",
       "    <tr>\n",
       "      <th>154</th>\n",
       "      <td>5b0f33dd1e55760001b9a9ce_812</td>\n",
       "      <td>11</td>\n",
       "      <td>6</td>\n",
       "      <td>3</td>\n",
       "      <td>2</td>\n",
       "      <td>22</td>\n",
       "      <td>0.400</td>\n",
       "      <td>3</td>\n",
       "      <td>0.495</td>\n",
       "      <td>13542</td>\n",
       "      <td>Carbon Tax</td>\n",
       "      <td>0.800</td>\n",
       "      <td>0.470</td>\n",
       "      <td>0.369</td>\n",
       "    </tr>\n",
       "    <tr>\n",
       "      <th>155</th>\n",
       "      <td>5ca6c9f3a752220001ca1be3_838</td>\n",
       "      <td>9</td>\n",
       "      <td>3</td>\n",
       "      <td>2</td>\n",
       "      <td>4</td>\n",
       "      <td>6</td>\n",
       "      <td>0.167</td>\n",
       "      <td>3</td>\n",
       "      <td>0.333</td>\n",
       "      <td>13693</td>\n",
       "      <td>Carbon Tax</td>\n",
       "      <td>0.500</td>\n",
       "      <td>0.628</td>\n",
       "      <td>0.286</td>\n",
       "    </tr>\n",
       "    <tr>\n",
       "      <th>156</th>\n",
       "      <td>5f7dd740074da20008c51bf5_818</td>\n",
       "      <td>7</td>\n",
       "      <td>4</td>\n",
       "      <td>3</td>\n",
       "      <td>0</td>\n",
       "      <td>8</td>\n",
       "      <td>0.381</td>\n",
       "      <td>4</td>\n",
       "      <td>0.400</td>\n",
       "      <td>13566</td>\n",
       "      <td>Carbon Tax</td>\n",
       "      <td>0.667</td>\n",
       "      <td>0.552</td>\n",
       "      <td>0.567</td>\n",
       "    </tr>\n",
       "    <tr>\n",
       "      <th>157</th>\n",
       "      <td>5eed1ee2cb93ea12dfc13405_899</td>\n",
       "      <td>9</td>\n",
       "      <td>3</td>\n",
       "      <td>5</td>\n",
       "      <td>1</td>\n",
       "      <td>14</td>\n",
       "      <td>0.389</td>\n",
       "      <td>2</td>\n",
       "      <td>0.457</td>\n",
       "      <td>14046</td>\n",
       "      <td>CarbonTax</td>\n",
       "      <td>1.000</td>\n",
       "      <td>0.588</td>\n",
       "      <td>0.732</td>\n",
       "    </tr>\n",
       "  </tbody>\n",
       "</table>\n",
       "<p>158 rows × 14 columns</p>\n",
       "</div>"
      ],
      "text/plain": [
       "                           cam_id  node_count  positive_nodes  negative_nodes  \\\n",
       "0    5f32a496a026e809d7d55cbd_817           7               4               1   \n",
       "1    5f67f8d55e7718150fd23bc7_802           8               5               2   \n",
       "2    5e45dd10f354ca0c7f4225c7_903          10               3               3   \n",
       "3    5f4ae6a7ad7baa6aecef4234_990          14               3               8   \n",
       "4    5a4e8f4930adf7000106fd5e_928          12               5               5   \n",
       "..                            ...         ...             ...             ...   \n",
       "153  5f57fef7e7b06a35296f215d_822          12               4               4   \n",
       "154  5b0f33dd1e55760001b9a9ce_812          11               6               3   \n",
       "155  5ca6c9f3a752220001ca1be3_838           9               3               2   \n",
       "156  5f7dd740074da20008c51bf5_818           7               4               3   \n",
       "157  5eed1ee2cb93ea12dfc13405_899           9               3               5   \n",
       "\n",
       "     neutral_nodes  edge_count  density  diameter  triadic_closure  \\\n",
       "0                2          10    0.476         2            0.480   \n",
       "1                1          11    0.393         2            0.400   \n",
       "2                4           9    0.200         5            0.000   \n",
       "3                3          13    0.143         7            0.000   \n",
       "4                2          12    0.182         6            0.000   \n",
       "..             ...         ...      ...       ...              ...   \n",
       "153              4          17    0.258         5            0.214   \n",
       "154              2          22    0.400         3            0.495   \n",
       "155              4           6    0.167         3            0.333   \n",
       "156              0           8    0.381         4            0.400   \n",
       "157              1          14    0.389         2            0.457   \n",
       "\n",
       "     central_node                     central_node_title  central_node_val  \\\n",
       "0           13562                             Carbon Tax             1.000   \n",
       "1           13480                             Carbon Tax             1.000   \n",
       "2           14076                        economic growth             0.444   \n",
       "3           14686  Unequal effect on classes and regions             0.231   \n",
       "4           14279                       Financial Burden             0.364   \n",
       "..            ...                                    ...               ...   \n",
       "153         13629                                Economy             0.455   \n",
       "154         13542                             Carbon Tax             0.800   \n",
       "155         13693                             Carbon Tax             0.500   \n",
       "156         13566                             Carbon Tax             0.667   \n",
       "157         14046                              CarbonTax             1.000   \n",
       "\n",
       "     central_node_val_eig  central_node_val_bet  \n",
       "0                   0.595                 0.667  \n",
       "1                   0.623                 0.786  \n",
       "2                   0.566                 0.722  \n",
       "3                   0.471                 0.667  \n",
       "4                   0.470                 0.636  \n",
       "..                    ...                   ...  \n",
       "153                 0.467                 0.544  \n",
       "154                 0.470                 0.369  \n",
       "155                 0.628                 0.286  \n",
       "156                 0.552                 0.567  \n",
       "157                 0.588                 0.732  \n",
       "\n",
       "[158 rows x 14 columns]"
      ]
     },
     "metadata": {},
     "output_type": "display_data"
    }
   ],
   "source": [
    "cam_GLI_df = calc_CAM_GLI(my_id_list)\n",
    "display(cam_GLI_df)"
   ]
  },
  {
   "cell_type": "code",
   "execution_count": 19,
   "metadata": {},
   "outputs": [
    {
     "data": {
      "text/html": [
       "<div>\n",
       "<style scoped>\n",
       "    .dataframe tbody tr th:only-of-type {\n",
       "        vertical-align: middle;\n",
       "    }\n",
       "\n",
       "    .dataframe tbody tr th {\n",
       "        vertical-align: top;\n",
       "    }\n",
       "\n",
       "    .dataframe thead th {\n",
       "        text-align: right;\n",
       "    }\n",
       "</style>\n",
       "<table border=\"1\" class=\"dataframe\">\n",
       "  <thead>\n",
       "    <tr style=\"text-align: right;\">\n",
       "      <th></th>\n",
       "      <th>node_count</th>\n",
       "      <th>cam_count</th>\n",
       "    </tr>\n",
       "  </thead>\n",
       "  <tbody>\n",
       "    <tr>\n",
       "      <th>0</th>\n",
       "      <td>0</td>\n",
       "      <td>24</td>\n",
       "    </tr>\n",
       "    <tr>\n",
       "      <th>1</th>\n",
       "      <td>1</td>\n",
       "      <td>4</td>\n",
       "    </tr>\n",
       "    <tr>\n",
       "      <th>2</th>\n",
       "      <td>2</td>\n",
       "      <td>2</td>\n",
       "    </tr>\n",
       "    <tr>\n",
       "      <th>3</th>\n",
       "      <td>3</td>\n",
       "      <td>5</td>\n",
       "    </tr>\n",
       "    <tr>\n",
       "      <th>4</th>\n",
       "      <td>4</td>\n",
       "      <td>4</td>\n",
       "    </tr>\n",
       "  </tbody>\n",
       "</table>\n",
       "</div>"
      ],
      "text/plain": [
       "   node_count  cam_count\n",
       "0           0         24\n",
       "1           1          4\n",
       "2           2          2\n",
       "3           3          5\n",
       "4           4          4"
      ]
     },
     "execution_count": 19,
     "metadata": {},
     "output_type": "execute_result"
    }
   ],
   "source": [
    "#get a df of the number of cams per node count\n",
    "node_count_df = pd.DataFrame(cam_GLI_df.groupby('node_count',as_index=False).count()[['node_count','edge_count']]).rename(columns={'edge_count':'cam_count'})\n",
    "node_count_df.head(5)"
   ]
  },
  {
   "cell_type": "markdown",
   "metadata": {},
   "source": [
    "#### Look at distribution of node count"
   ]
  },
  {
   "cell_type": "code",
   "execution_count": 21,
   "metadata": {},
   "outputs": [
    {
     "data": {
      "text/plain": [
       "Text(0.5, 1.0, 'Distribution of Node Count')"
      ]
     },
     "execution_count": 21,
     "metadata": {},
     "output_type": "execute_result"
    },
    {
     "data": {
      "image/png": "[encoded data removed]",
      "text/plain": [
       "<Figure size 360x360 with 1 Axes>"
      ]
     },
     "metadata": {
      "needs_background": "light"
     },
     "output_type": "display_data"
    }
   ],
   "source": [
    "fig, axs = plt.subplots(figsize=(5,5),sharey=True, tight_layout=True)\n",
    "\n",
    "# We can set the number of bins with the `bins` kwarg\n",
    "axs.hist(cam_GLI_df['node_count'])\n",
    "axs.set_title('Distribution of Node Count')\n"
   ]
  },
  {
   "cell_type": "markdown",
   "metadata": {},
   "source": [
    "### Compare GLI from CAM with what would be expected from chance"
   ]
  },
  {
   "cell_type": "markdown",
   "metadata": {},
   "source": [
    "### Anderson et al. Approach"
   ]
  },
  {
   "cell_type": "code",
   "execution_count": 22,
   "metadata": {},
   "outputs": [
    {
     "data": {
      "text/plain": [
       "['central_node_val', 'central_node_val_eig', 'central_node_val_bet']"
      ]
     },
     "execution_count": 22,
     "metadata": {},
     "output_type": "execute_result"
    }
   ],
   "source": [
    "col_list = list(cam_GLI_df.columns)\n",
    "GLI_list = col_list[8:]\n",
    "GLI_list"
   ]
  },
  {
   "cell_type": "code",
   "execution_count": 23,
   "metadata": {},
   "outputs": [
    {
     "name": "stdout",
     "output_type": "stream",
     "text": [
      "158\n"
     ]
    }
   ],
   "source": [
    "print(len(cam_GLI_df))"
   ]
  },
  {
   "cell_type": "code",
   "execution_count": 229,
   "metadata": {},
   "outputs": [],
   "source": [
    "GLI_name = GLI_list[1]\n",
    "\n",
    "P_H = 0\n",
    "P_L = 0\n",
    "P_E = 0\n",
    "N = 0 \n",
    "\n",
    "N_max = 100 #number of iterations\n",
    "\n",
    "alpha = .05 # desired level of significance\n",
    "\n",
    "condition_list = []\n",
    "sig_cam_list = []\n",
    "nonsig_cam_list = []\n",
    "\n",
    "for i in range(len(cam_GLI_df)):\n",
    "    \n",
    "    Obs_GLI = cam_GLI_df[GLI_name][i] #observed GLI from row i\n",
    "\n",
    "    n = cam_GLI_df['node_count'][i] # number of nodes for cam i\n",
    "    m = cam_GLI_df['edge_count'][i]  # number of edges for cam i\n",
    "\n",
    "    while N < N_max:\n",
    "\n",
    "        # STEP 2: Make the random graph\n",
    "        G_uni = nx.gnm_random_graph(n, m)\n",
    "\n",
    "\n",
    "        #Get the necessary GLI measures\n",
    "        # Calculate Density\n",
    "        density = np.round(nx.density(G_uni), 3)\n",
    "\n",
    "        # Calculate longest path\n",
    "        try:\n",
    "            components = nx.connected_components(G_uni)\n",
    "            largest_component = max(components, key=len)\n",
    "            subgraph = G_uni.subgraph(largest_component)\n",
    "            diameter = nx.diameter(subgraph)\n",
    "        except:\n",
    "            diameter = 0\n",
    "        # Calculate transitivity\n",
    "        triadic_closure = np.round(nx.transitivity(G_uni), 3)\n",
    "\n",
    "        # Calculate max degree\n",
    "        try:\n",
    "            degree_centrality = nx.degree_centrality(G_uni)\n",
    "            max_centrality_ind = np.argmax(list(degree_centrality.values()))\n",
    "            central_node_val = np.round(list(degree_centrality.values())[max_centrality_ind], 3)\n",
    "        except:\n",
    "            central_node_val = 0\n",
    "\n",
    "        # Eigenvector Centrality\n",
    "        try:\n",
    "            eigenvector_centrality = nx.eigenvector_centrality(G_uni)\n",
    "            max_centrality_ind = np.argmax(list(eigenvector_centrality.values()))\n",
    "            central_node_val_eig = np.round(list(eigenvector_centrality.values())[max_centrality_ind], 3)\n",
    "        except:\n",
    "            central_node_val_eig = 0\n",
    "\n",
    "        # Betweeness Centrality\n",
    "        try:\n",
    "            betweenness_centrality = nx.betweenness_centrality(G_uni)\n",
    "            max_centrality_ind = np.argmax(list(betweenness_centrality.values()))\n",
    "            central_node_val_bet = np.round(list(betweenness_centrality.values())[max_centrality_ind], 3)\n",
    "        except:\n",
    "            central_node_val_bet = 0\n",
    "\n",
    "        # Make the dictionary\n",
    "        G_uni_GLI_dict = {\n",
    "            'central_node_val': central_node_val,\n",
    "            'central_node_val_eig': central_node_val_eig,\n",
    "            'central_node_val_bet': central_node_val_bet\n",
    "        }\n",
    "\n",
    "        #STEP 3 - #Maybe issue with have a two conditions with the 'equal to' option\n",
    "        \n",
    "        if G_uni_GLI_dict[GLI_name] >= Obs_GLI:\n",
    "            P_H = P_H + 1\n",
    "\n",
    "        elif G_uni_GLI_dict[GLI_name] <= Obs_GLI:\n",
    "            P_L = P_L +1\n",
    "\n",
    "        #increment N for each iteration till max is reached\n",
    "        N = N + 1\n",
    "\n",
    "    #Step 5 - This tests whether the observed GLI is consistently either higher or lower than the GLI predicted\n",
    "    # by a random graph. \n",
    "    condition_1 = (P_H/N_max) < (alpha/2)\n",
    "    condition_2 = (P_L/N_max) < (alpha/2)\n",
    "    \n",
    "    condition_list.append((P_H/N_max,P_L/N_max))\n",
    "\n",
    "    if condition_1 | condition_2:\n",
    "        \n",
    "        sig_cam_list.append(cam_GLI_df['cam_id'][i])\n",
    "    \n",
    "    else:\n",
    "        nonsig_cam_list.append(cam_GLI_df['cam_id'][i])"
   ]
  },
  {
   "cell_type": "code",
   "execution_count": 231,
   "metadata": {},
   "outputs": [
    {
     "data": {
      "text/plain": [
       "0"
      ]
     },
     "execution_count": 231,
     "metadata": {},
     "output_type": "execute_result"
    }
   ],
   "source": [
    " len(nonsig_cam_list)"
   ]
  },
  {
   "cell_type": "markdown",
   "metadata": {},
   "source": [
    "#Bays approach to disprove that size impacts \n",
    "build random graph with different node size\n",
    "create likelihood function\n",
    "\n",
    "G_uni = nx.gnm_random_graph(n, m) density fixed \n",
    "G = nx.gnp_random_graph(n,p) density varies\n"
   ]
  },
  {
   "cell_type": "markdown",
   "metadata": {},
   "source": [
    "## Add Survey Info to CAM data"
   ]
  },
  {
   "cell_type": "code",
   "execution_count": 177,
   "metadata": {},
   "outputs": [
    {
     "data": {
      "text/html": [
       "<div>\n",
       "<style scoped>\n",
       "    .dataframe tbody tr th:only-of-type {\n",
       "        vertical-align: middle;\n",
       "    }\n",
       "\n",
       "    .dataframe tbody tr th {\n",
       "        vertical-align: top;\n",
       "    }\n",
       "\n",
       "    .dataframe thead th {\n",
       "        text-align: right;\n",
       "    }\n",
       "</style>\n",
       "<table border=\"1\" class=\"dataframe\">\n",
       "  <thead>\n",
       "    <tr style=\"text-align: right;\">\n",
       "      <th></th>\n",
       "      <th>StartDate</th>\n",
       "      <th>EndDate</th>\n",
       "      <th>Status</th>\n",
       "      <th>IPAddress</th>\n",
       "      <th>Progress</th>\n",
       "      <th>Duration (in seconds)</th>\n",
       "      <th>Finished</th>\n",
       "      <th>RecordedDate</th>\n",
       "      <th>ResponseId</th>\n",
       "      <th>RecipientLastName</th>\n",
       "      <th>...</th>\n",
       "      <th>WilsonPat_5</th>\n",
       "      <th>WilsonPat_6</th>\n",
       "      <th>WilsonPat_7</th>\n",
       "      <th>WilsonPat_8</th>\n",
       "      <th>WilsonPat_9</th>\n",
       "      <th>WilsonPat_10</th>\n",
       "      <th>WilsonPat_11</th>\n",
       "      <th>WilsonPat_12</th>\n",
       "      <th>CheckNum</th>\n",
       "      <th>mTurkCode2</th>\n",
       "    </tr>\n",
       "  </thead>\n",
       "  <tbody>\n",
       "    <tr>\n",
       "      <th>0</th>\n",
       "      <td>2021-01-11 11:46</td>\n",
       "      <td>2021-01-11 11:46</td>\n",
       "      <td>0</td>\n",
       "      <td>50.69.196.183</td>\n",
       "      <td>100</td>\n",
       "      <td>8</td>\n",
       "      <td>1</td>\n",
       "      <td>2021-01-11 11:46</td>\n",
       "      <td>R_2ZQySv7eilk1BhL</td>\n",
       "      <td>NaN</td>\n",
       "      <td>...</td>\n",
       "      <td>NaN</td>\n",
       "      <td>NaN</td>\n",
       "      <td>NaN</td>\n",
       "      <td>NaN</td>\n",
       "      <td>NaN</td>\n",
       "      <td>NaN</td>\n",
       "      <td>NaN</td>\n",
       "      <td>NaN</td>\n",
       "      <td>NaN</td>\n",
       "      <td>NaN</td>\n",
       "    </tr>\n",
       "    <tr>\n",
       "      <th>1</th>\n",
       "      <td>2021-01-11 11:48</td>\n",
       "      <td>2021-01-11 11:59</td>\n",
       "      <td>0</td>\n",
       "      <td>50.69.196.183</td>\n",
       "      <td>100</td>\n",
       "      <td>660</td>\n",
       "      <td>1</td>\n",
       "      <td>2021-01-11 11:59</td>\n",
       "      <td>R_8erRxEBvfzDsLGp</td>\n",
       "      <td>NaN</td>\n",
       "      <td>...</td>\n",
       "      <td>NaN</td>\n",
       "      <td>NaN</td>\n",
       "      <td>NaN</td>\n",
       "      <td>NaN</td>\n",
       "      <td>NaN</td>\n",
       "      <td>NaN</td>\n",
       "      <td>NaN</td>\n",
       "      <td>NaN</td>\n",
       "      <td>NaN</td>\n",
       "      <td>NaN</td>\n",
       "    </tr>\n",
       "    <tr>\n",
       "      <th>2</th>\n",
       "      <td>2021-01-11 11:51</td>\n",
       "      <td>2021-01-11 12:01</td>\n",
       "      <td>0</td>\n",
       "      <td>69.158.246.27</td>\n",
       "      <td>100</td>\n",
       "      <td>635</td>\n",
       "      <td>1</td>\n",
       "      <td>2021-01-11 12:01</td>\n",
       "      <td>R_xgzbLgWncp56ACJ</td>\n",
       "      <td>NaN</td>\n",
       "      <td>...</td>\n",
       "      <td>NaN</td>\n",
       "      <td>NaN</td>\n",
       "      <td>NaN</td>\n",
       "      <td>NaN</td>\n",
       "      <td>NaN</td>\n",
       "      <td>NaN</td>\n",
       "      <td>NaN</td>\n",
       "      <td>NaN</td>\n",
       "      <td>NaN</td>\n",
       "      <td>NaN</td>\n",
       "    </tr>\n",
       "    <tr>\n",
       "      <th>3</th>\n",
       "      <td>2021-01-11 12:01</td>\n",
       "      <td>2021-01-11 12:13</td>\n",
       "      <td>0</td>\n",
       "      <td>24.212.224.202</td>\n",
       "      <td>100</td>\n",
       "      <td>739</td>\n",
       "      <td>1</td>\n",
       "      <td>2021-01-11 12:13</td>\n",
       "      <td>R_3rOr7B1NkrQgen5</td>\n",
       "      <td>NaN</td>\n",
       "      <td>...</td>\n",
       "      <td>NaN</td>\n",
       "      <td>NaN</td>\n",
       "      <td>NaN</td>\n",
       "      <td>NaN</td>\n",
       "      <td>NaN</td>\n",
       "      <td>NaN</td>\n",
       "      <td>NaN</td>\n",
       "      <td>NaN</td>\n",
       "      <td>NaN</td>\n",
       "      <td>NaN</td>\n",
       "    </tr>\n",
       "    <tr>\n",
       "      <th>4</th>\n",
       "      <td>2021-01-11 12:04</td>\n",
       "      <td>2021-01-11 12:18</td>\n",
       "      <td>0</td>\n",
       "      <td>24.77.79.89</td>\n",
       "      <td>100</td>\n",
       "      <td>820</td>\n",
       "      <td>1</td>\n",
       "      <td>2021-01-11 12:18</td>\n",
       "      <td>R_1KdKzGSFXHqdKef</td>\n",
       "      <td>NaN</td>\n",
       "      <td>...</td>\n",
       "      <td>2.0</td>\n",
       "      <td>1.0</td>\n",
       "      <td>2.0</td>\n",
       "      <td>1.0</td>\n",
       "      <td>2.0</td>\n",
       "      <td>1.0</td>\n",
       "      <td>1.0</td>\n",
       "      <td>1.0</td>\n",
       "      <td>1.0</td>\n",
       "      <td>8165033.0</td>\n",
       "    </tr>\n",
       "  </tbody>\n",
       "</table>\n",
       "<p>5 rows × 181 columns</p>\n",
       "</div>"
      ],
      "text/plain": [
       "          StartDate           EndDate  Status       IPAddress  Progress  \\\n",
       "0  2021-01-11 11:46  2021-01-11 11:46       0   50.69.196.183       100   \n",
       "1  2021-01-11 11:48  2021-01-11 11:59       0   50.69.196.183       100   \n",
       "2  2021-01-11 11:51  2021-01-11 12:01       0   69.158.246.27       100   \n",
       "3  2021-01-11 12:01  2021-01-11 12:13       0  24.212.224.202       100   \n",
       "4  2021-01-11 12:04  2021-01-11 12:18       0     24.77.79.89       100   \n",
       "\n",
       "   Duration (in seconds)  Finished      RecordedDate         ResponseId  \\\n",
       "0                      8         1  2021-01-11 11:46  R_2ZQySv7eilk1BhL   \n",
       "1                    660         1  2021-01-11 11:59  R_8erRxEBvfzDsLGp   \n",
       "2                    635         1  2021-01-11 12:01  R_xgzbLgWncp56ACJ   \n",
       "3                    739         1  2021-01-11 12:13  R_3rOr7B1NkrQgen5   \n",
       "4                    820         1  2021-01-11 12:18  R_1KdKzGSFXHqdKef   \n",
       "\n",
       "   RecipientLastName  ...  WilsonPat_5  WilsonPat_6  WilsonPat_7  WilsonPat_8  \\\n",
       "0                NaN  ...          NaN          NaN          NaN          NaN   \n",
       "1                NaN  ...          NaN          NaN          NaN          NaN   \n",
       "2                NaN  ...          NaN          NaN          NaN          NaN   \n",
       "3                NaN  ...          NaN          NaN          NaN          NaN   \n",
       "4                NaN  ...          2.0          1.0          2.0          1.0   \n",
       "\n",
       "   WilsonPat_9 WilsonPat_10 WilsonPat_11  WilsonPat_12  CheckNum mTurkCode2  \n",
       "0          NaN          NaN          NaN           NaN       NaN        NaN  \n",
       "1          NaN          NaN          NaN           NaN       NaN        NaN  \n",
       "2          NaN          NaN          NaN           NaN       NaN        NaN  \n",
       "3          NaN          NaN          NaN           NaN       NaN        NaN  \n",
       "4          2.0          1.0          1.0           1.0       1.0  8165033.0  \n",
       "\n",
       "[5 rows x 181 columns]"
      ]
     },
     "execution_count": 177,
     "metadata": {},
     "output_type": "execute_result"
    }
   ],
   "source": [
    "file_path_survey = '/Users/agetecza/CAM_Data/AT_CAM/Data/CAM_Survey_Merged.csv'\n",
    "survey_df = pd.read_csv(file_path_survey)\n",
    "survey_df.head()"
   ]
  },
  {
   "cell_type": "code",
   "execution_count": 179,
   "metadata": {},
   "outputs": [],
   "source": [
    "#drop NAs\n",
    "survey_df_dropna = survey_df.dropna(subset=['Prolific1','Gender'])"
   ]
  },
  {
   "cell_type": "code",
   "execution_count": 247,
   "metadata": {},
   "outputs": [],
   "source": [
    "#Get the cam dataframe ready to merge with the survey data\n",
    "cam_GLI_full = cam_GLI_df.copy()\n",
    "Prolific1_list=cam_GLI_full['cam_id'].str.split('_').str[0]\n",
    "cam_GLI_full.insert(loc=0, column='Prolific1', value=Prolific1_list)\n",
    "cam_GLI_full = cam_GLI_full.drop(cam_GLI_full.columns[1], axis=1)"
   ]
  },
  {
   "cell_type": "code",
   "execution_count": 248,
   "metadata": {},
   "outputs": [
    {
     "name": "stdout",
     "output_type": "stream",
     "text": [
      "The length of cam_df: 158\n",
      "The length of survey_df: 141\n"
     ]
    }
   ],
   "source": [
    "print(f'The length of cam_df: {len(cam_GLI_full)}')\n",
    "print(f'The length of survey_df: {len(survey_df_dropna)}')"
   ]
  },
  {
   "cell_type": "code",
   "execution_count": 249,
   "metadata": {},
   "outputs": [],
   "source": [
    "survey_cam_merge = pd.merge(cam_GLI_full, survey_df_dropna, how = 'inner', on = 'Prolific1')"
   ]
  },
  {
   "cell_type": "code",
   "execution_count": 250,
   "metadata": {},
   "outputs": [
    {
     "name": "stdout",
     "output_type": "stream",
     "text": [
      "The length of merged data: 120\n"
     ]
    }
   ],
   "source": [
    "print(f'The length of merged data: {len(survey_cam_merge)}')"
   ]
  },
  {
   "cell_type": "markdown",
   "metadata": {},
   "source": [
    "## Cleaning the combined dataframe"
   ]
  },
  {
   "cell_type": "markdown",
   "metadata": {},
   "source": [
    "#### Drop all rows with node_count less than 3 or link_count less than 2"
   ]
  },
  {
   "cell_type": "code",
   "execution_count": 251,
   "metadata": {},
   "outputs": [],
   "source": [
    "filter_cam = (survey_cam_merge['node_count']>3) & (survey_cam_merge['edge_count']>2)\n",
    "survey_merge_large_cam = survey_cam_merge[filter_cam]"
   ]
  },
  {
   "cell_type": "code",
   "execution_count": 252,
   "metadata": {},
   "outputs": [
    {
     "name": "stdout",
     "output_type": "stream",
     "text": [
      "113 rows have more than 3 nodes and more than 2 edges\n"
     ]
    }
   ],
   "source": [
    "print(f'{len(survey_merge_large_cam)} rows have more than 3 nodes and more than 2 edges')"
   ]
  },
  {
   "cell_type": "markdown",
   "metadata": {},
   "source": [
    "#### Survey checks???"
   ]
  },
  {
   "cell_type": "markdown",
   "metadata": {},
   "source": [
    "### Select Variables for Analysis"
   ]
  },
  {
   "cell_type": "code",
   "execution_count": 464,
   "metadata": {},
   "outputs": [],
   "source": [
    "#Get index of different variables to subset df\n",
    "survey_column_list = list(survey_merge_large_cam.columns)\n",
    "#survey_column_list"
   ]
  },
  {
   "cell_type": "code",
   "execution_count": 357,
   "metadata": {},
   "outputs": [
    {
     "data": {
      "text/plain": [
       "179"
      ]
     },
     "execution_count": 357,
     "metadata": {},
     "output_type": "execute_result"
    }
   ],
   "source": [
    "#Check the index of a specific variable\n",
    "survey_column_list.index('KNRef') "
   ]
  },
  {
   "cell_type": "code",
   "execution_count": 358,
   "metadata": {},
   "outputs": [],
   "source": [
    "#Get all the controls\n",
    "control_list_1 = ['Age','Education','Income','English','Gender','CarbFam','CarbSFam']\n",
    "control_list_Cog = survey_column_list[108:126]\n",
    "control_list_Aff = survey_column_list[126:152]\n",
    "control_list_KN = survey_column_list[173:180]\n",
    "\n",
    "control_list = control_list_1 + control_list_Aff + control_list_Cog + control_list_KN"
   ]
  },
  {
   "cell_type": "code",
   "execution_count": 480,
   "metadata": {},
   "outputs": [],
   "source": [
    "#Get all variable\n",
    "network_list = survey_column_list[:14]\n",
    "dependent_list = ['CarbAg','Interest_1','CarbDecide']\n",
    "full_variable_list = network_list + dependent_list + control_list"
   ]
  },
  {
   "cell_type": "code",
   "execution_count": 481,
   "metadata": {},
   "outputs": [],
   "source": [
    "#subset df \n",
    "\n",
    "survey_df_analysis = survey_merge_large_cam.loc[:,full_variable_list]"
   ]
  },
  {
   "cell_type": "markdown",
   "metadata": {},
   "source": [
    "### Descriptives"
   ]
  },
  {
   "cell_type": "code",
   "execution_count": 363,
   "metadata": {},
   "outputs": [],
   "source": [
    "variable_list = list(survey_df_analysis.columns)"
   ]
  },
  {
   "cell_type": "code",
   "execution_count": 364,
   "metadata": {},
   "outputs": [
    {
     "data": {
      "text/html": [
       "<div>\n",
       "<style scoped>\n",
       "    .dataframe tbody tr th:only-of-type {\n",
       "        vertical-align: middle;\n",
       "    }\n",
       "\n",
       "    .dataframe tbody tr th {\n",
       "        vertical-align: top;\n",
       "    }\n",
       "\n",
       "    .dataframe thead th {\n",
       "        text-align: right;\n",
       "    }\n",
       "</style>\n",
       "<table border=\"1\" class=\"dataframe\">\n",
       "  <thead>\n",
       "    <tr style=\"text-align: right;\">\n",
       "      <th></th>\n",
       "      <th>count</th>\n",
       "      <th>mean</th>\n",
       "      <th>std</th>\n",
       "      <th>min</th>\n",
       "      <th>25%</th>\n",
       "      <th>50%</th>\n",
       "      <th>75%</th>\n",
       "      <th>max</th>\n",
       "    </tr>\n",
       "  </thead>\n",
       "  <tbody>\n",
       "    <tr>\n",
       "      <th>node_count</th>\n",
       "      <td>113.0</td>\n",
       "      <td>9.778761</td>\n",
       "      <td>4.451594</td>\n",
       "      <td>4.0</td>\n",
       "      <td>7.0</td>\n",
       "      <td>9.0</td>\n",
       "      <td>12.0</td>\n",
       "      <td>27.0</td>\n",
       "    </tr>\n",
       "    <tr>\n",
       "      <th>positive_nodes</th>\n",
       "      <td>113.0</td>\n",
       "      <td>4.079646</td>\n",
       "      <td>2.431716</td>\n",
       "      <td>0.0</td>\n",
       "      <td>3.0</td>\n",
       "      <td>4.0</td>\n",
       "      <td>5.0</td>\n",
       "      <td>17.0</td>\n",
       "    </tr>\n",
       "    <tr>\n",
       "      <th>negative_nodes</th>\n",
       "      <td>113.0</td>\n",
       "      <td>3.398230</td>\n",
       "      <td>2.250158</td>\n",
       "      <td>0.0</td>\n",
       "      <td>2.0</td>\n",
       "      <td>3.0</td>\n",
       "      <td>5.0</td>\n",
       "      <td>11.0</td>\n",
       "    </tr>\n",
       "    <tr>\n",
       "      <th>neutral_nodes</th>\n",
       "      <td>113.0</td>\n",
       "      <td>2.176991</td>\n",
       "      <td>1.696794</td>\n",
       "      <td>0.0</td>\n",
       "      <td>1.0</td>\n",
       "      <td>2.0</td>\n",
       "      <td>3.0</td>\n",
       "      <td>11.0</td>\n",
       "    </tr>\n",
       "    <tr>\n",
       "      <th>edge_count</th>\n",
       "      <td>113.0</td>\n",
       "      <td>13.469027</td>\n",
       "      <td>8.585776</td>\n",
       "      <td>3.0</td>\n",
       "      <td>8.0</td>\n",
       "      <td>12.0</td>\n",
       "      <td>16.0</td>\n",
       "      <td>63.0</td>\n",
       "    </tr>\n",
       "    <tr>\n",
       "      <th>...</th>\n",
       "      <td>...</td>\n",
       "      <td>...</td>\n",
       "      <td>...</td>\n",
       "      <td>...</td>\n",
       "      <td>...</td>\n",
       "      <td>...</td>\n",
       "      <td>...</td>\n",
       "      <td>...</td>\n",
       "    </tr>\n",
       "    <tr>\n",
       "      <th>KNPrice</th>\n",
       "      <td>113.0</td>\n",
       "      <td>2.150442</td>\n",
       "      <td>0.585864</td>\n",
       "      <td>1.0</td>\n",
       "      <td>2.0</td>\n",
       "      <td>2.0</td>\n",
       "      <td>3.0</td>\n",
       "      <td>3.0</td>\n",
       "    </tr>\n",
       "    <tr>\n",
       "      <th>KNTimes</th>\n",
       "      <td>113.0</td>\n",
       "      <td>1.831858</td>\n",
       "      <td>0.461029</td>\n",
       "      <td>1.0</td>\n",
       "      <td>2.0</td>\n",
       "      <td>2.0</td>\n",
       "      <td>2.0</td>\n",
       "      <td>3.0</td>\n",
       "    </tr>\n",
       "    <tr>\n",
       "      <th>KNBC</th>\n",
       "      <td>113.0</td>\n",
       "      <td>2.292035</td>\n",
       "      <td>0.561907</td>\n",
       "      <td>1.0</td>\n",
       "      <td>2.0</td>\n",
       "      <td>2.0</td>\n",
       "      <td>3.0</td>\n",
       "      <td>3.0</td>\n",
       "    </tr>\n",
       "    <tr>\n",
       "      <th>KNPerc</th>\n",
       "      <td>113.0</td>\n",
       "      <td>1.964602</td>\n",
       "      <td>0.325390</td>\n",
       "      <td>1.0</td>\n",
       "      <td>2.0</td>\n",
       "      <td>2.0</td>\n",
       "      <td>2.0</td>\n",
       "      <td>3.0</td>\n",
       "    </tr>\n",
       "    <tr>\n",
       "      <th>KNRef</th>\n",
       "      <td>113.0</td>\n",
       "      <td>1.823009</td>\n",
       "      <td>0.486057</td>\n",
       "      <td>1.0</td>\n",
       "      <td>2.0</td>\n",
       "      <td>2.0</td>\n",
       "      <td>2.0</td>\n",
       "      <td>3.0</td>\n",
       "    </tr>\n",
       "  </tbody>\n",
       "</table>\n",
       "<p>73 rows × 8 columns</p>\n",
       "</div>"
      ],
      "text/plain": [
       "                count       mean       std  min  25%   50%   75%   max\n",
       "node_count      113.0   9.778761  4.451594  4.0  7.0   9.0  12.0  27.0\n",
       "positive_nodes  113.0   4.079646  2.431716  0.0  3.0   4.0   5.0  17.0\n",
       "negative_nodes  113.0   3.398230  2.250158  0.0  2.0   3.0   5.0  11.0\n",
       "neutral_nodes   113.0   2.176991  1.696794  0.0  1.0   2.0   3.0  11.0\n",
       "edge_count      113.0  13.469027  8.585776  3.0  8.0  12.0  16.0  63.0\n",
       "...               ...        ...       ...  ...  ...   ...   ...   ...\n",
       "KNPrice         113.0   2.150442  0.585864  1.0  2.0   2.0   3.0   3.0\n",
       "KNTimes         113.0   1.831858  0.461029  1.0  2.0   2.0   2.0   3.0\n",
       "KNBC            113.0   2.292035  0.561907  1.0  2.0   2.0   3.0   3.0\n",
       "KNPerc          113.0   1.964602  0.325390  1.0  2.0   2.0   2.0   3.0\n",
       "KNRef           113.0   1.823009  0.486057  1.0  2.0   2.0   2.0   3.0\n",
       "\n",
       "[73 rows x 8 columns]"
      ]
     },
     "execution_count": 364,
     "metadata": {},
     "output_type": "execute_result"
    }
   ],
   "source": [
    "summary_df = pd.DataFrame(survey_df_analysis[variable_list].describe()).transpose()\n",
    "summary_df"
   ]
  },
  {
   "cell_type": "markdown",
   "metadata": {},
   "source": [
    "#### Look at correlations & assumption"
   ]
  },
  {
   "cell_type": "code",
   "execution_count": 334,
   "metadata": {},
   "outputs": [],
   "source": [
    "#Clean up column order\n",
    "#column_order = list(np.arange(0,21))+list(np.arange(47,50))+list(np.arange(65,68))+list(np.arange(24,47))+list(np.arange(50,65))+list(np.arange(21,24))+list(np.arange(68,72))\n",
    "#survey_df_arrange = survey_df_analysis.iloc[:,column_order]\n",
    "#survey_df_arrange.head()"
   ]
  },
  {
   "cell_type": "code",
   "execution_count": 505,
   "metadata": {},
   "outputs": [],
   "source": [
    "correlation_matrix = survey_df_analysis.corr()"
   ]
  },
  {
   "cell_type": "code",
   "execution_count": 507,
   "metadata": {},
   "outputs": [
    {
     "data": {
      "text/plain": [
       "0.6966242068223083"
      ]
     },
     "execution_count": 507,
     "metadata": {},
     "output_type": "execute_result"
    }
   ],
   "source": [
    "correlation_matrix.iloc[7,5]"
   ]
  },
  {
   "cell_type": "code",
   "execution_count": 513,
   "metadata": {},
   "outputs": [],
   "source": [
    "corr_df = pd.DataFrame(columns = ['row','column','corr'])\n",
    "for i in range(len(correlation_matrix.columns)):\n",
    "    for j in range(len(correlation_matrix)):\n",
    "        if (correlation_matrix.iloc[i,j]>.6) & (correlation_matrix.iloc[i,j]!=1):\n",
    "            newrow = {'row':correlation_matrix.columns[i],'column':correlation_matrix.columns[j],'corr':correlation_matrix.iloc[i,j]}\n",
    "            corr_df = corr_df.append(newrow, ignore_index=True)\n",
    "            "
   ]
  },
  {
   "cell_type": "code",
   "execution_count": 514,
   "metadata": {},
   "outputs": [
    {
     "data": {
      "text/html": [
       "<div>\n",
       "<style scoped>\n",
       "    .dataframe tbody tr th:only-of-type {\n",
       "        vertical-align: middle;\n",
       "    }\n",
       "\n",
       "    .dataframe tbody tr th {\n",
       "        vertical-align: top;\n",
       "    }\n",
       "\n",
       "    .dataframe thead th {\n",
       "        text-align: right;\n",
       "    }\n",
       "</style>\n",
       "<table border=\"1\" class=\"dataframe\">\n",
       "  <thead>\n",
       "    <tr style=\"text-align: right;\">\n",
       "      <th></th>\n",
       "      <th>row</th>\n",
       "      <th>column</th>\n",
       "      <th>corr</th>\n",
       "    </tr>\n",
       "  </thead>\n",
       "  <tbody>\n",
       "    <tr>\n",
       "      <th>0</th>\n",
       "      <td>node_count</td>\n",
       "      <td>positive_nodes</td>\n",
       "      <td>0.759642</td>\n",
       "    </tr>\n",
       "    <tr>\n",
       "      <th>1</th>\n",
       "      <td>node_count</td>\n",
       "      <td>negative_nodes</td>\n",
       "      <td>0.738007</td>\n",
       "    </tr>\n",
       "    <tr>\n",
       "      <th>2</th>\n",
       "      <td>node_count</td>\n",
       "      <td>edge_count</td>\n",
       "      <td>0.842091</td>\n",
       "    </tr>\n",
       "    <tr>\n",
       "      <th>3</th>\n",
       "      <td>positive_nodes</td>\n",
       "      <td>node_count</td>\n",
       "      <td>0.759642</td>\n",
       "    </tr>\n",
       "    <tr>\n",
       "      <th>4</th>\n",
       "      <td>positive_nodes</td>\n",
       "      <td>edge_count</td>\n",
       "      <td>0.692700</td>\n",
       "    </tr>\n",
       "    <tr>\n",
       "      <th>5</th>\n",
       "      <td>negative_nodes</td>\n",
       "      <td>node_count</td>\n",
       "      <td>0.738007</td>\n",
       "    </tr>\n",
       "    <tr>\n",
       "      <th>6</th>\n",
       "      <td>negative_nodes</td>\n",
       "      <td>edge_count</td>\n",
       "      <td>0.607225</td>\n",
       "    </tr>\n",
       "    <tr>\n",
       "      <th>7</th>\n",
       "      <td>edge_count</td>\n",
       "      <td>node_count</td>\n",
       "      <td>0.842091</td>\n",
       "    </tr>\n",
       "    <tr>\n",
       "      <th>8</th>\n",
       "      <td>edge_count</td>\n",
       "      <td>positive_nodes</td>\n",
       "      <td>0.692700</td>\n",
       "    </tr>\n",
       "    <tr>\n",
       "      <th>9</th>\n",
       "      <td>edge_count</td>\n",
       "      <td>negative_nodes</td>\n",
       "      <td>0.607225</td>\n",
       "    </tr>\n",
       "    <tr>\n",
       "      <th>10</th>\n",
       "      <td>density</td>\n",
       "      <td>triadic_closure</td>\n",
       "      <td>0.696624</td>\n",
       "    </tr>\n",
       "    <tr>\n",
       "      <th>11</th>\n",
       "      <td>density</td>\n",
       "      <td>central_node_val</td>\n",
       "      <td>0.647375</td>\n",
       "    </tr>\n",
       "    <tr>\n",
       "      <th>12</th>\n",
       "      <td>triadic_closure</td>\n",
       "      <td>density</td>\n",
       "      <td>0.696624</td>\n",
       "    </tr>\n",
       "    <tr>\n",
       "      <th>13</th>\n",
       "      <td>central_node_val</td>\n",
       "      <td>density</td>\n",
       "      <td>0.647375</td>\n",
       "    </tr>\n",
       "    <tr>\n",
       "      <th>14</th>\n",
       "      <td>central_node_val_eig</td>\n",
       "      <td>central_node_val_bet</td>\n",
       "      <td>0.715800</td>\n",
       "    </tr>\n",
       "    <tr>\n",
       "      <th>15</th>\n",
       "      <td>central_node_val_bet</td>\n",
       "      <td>central_node_val_eig</td>\n",
       "      <td>0.715800</td>\n",
       "    </tr>\n",
       "    <tr>\n",
       "      <th>16</th>\n",
       "      <td>Aff5</td>\n",
       "      <td>Aff24</td>\n",
       "      <td>0.653327</td>\n",
       "    </tr>\n",
       "    <tr>\n",
       "      <th>17</th>\n",
       "      <td>Aff6</td>\n",
       "      <td>Aff18</td>\n",
       "      <td>0.740150</td>\n",
       "    </tr>\n",
       "    <tr>\n",
       "      <th>18</th>\n",
       "      <td>Aff18</td>\n",
       "      <td>Aff6</td>\n",
       "      <td>0.740150</td>\n",
       "    </tr>\n",
       "    <tr>\n",
       "      <th>19</th>\n",
       "      <td>Aff24</td>\n",
       "      <td>Aff5</td>\n",
       "      <td>0.653327</td>\n",
       "    </tr>\n",
       "  </tbody>\n",
       "</table>\n",
       "</div>"
      ],
      "text/plain": [
       "                     row                column      corr\n",
       "0             node_count        positive_nodes  0.759642\n",
       "1             node_count        negative_nodes  0.738007\n",
       "2             node_count            edge_count  0.842091\n",
       "3         positive_nodes            node_count  0.759642\n",
       "4         positive_nodes            edge_count  0.692700\n",
       "5         negative_nodes            node_count  0.738007\n",
       "6         negative_nodes            edge_count  0.607225\n",
       "7             edge_count            node_count  0.842091\n",
       "8             edge_count        positive_nodes  0.692700\n",
       "9             edge_count        negative_nodes  0.607225\n",
       "10               density       triadic_closure  0.696624\n",
       "11               density      central_node_val  0.647375\n",
       "12       triadic_closure               density  0.696624\n",
       "13      central_node_val               density  0.647375\n",
       "14  central_node_val_eig  central_node_val_bet  0.715800\n",
       "15  central_node_val_bet  central_node_val_eig  0.715800\n",
       "16                  Aff5                 Aff24  0.653327\n",
       "17                  Aff6                 Aff18  0.740150\n",
       "18                 Aff18                  Aff6  0.740150\n",
       "19                 Aff24                  Aff5  0.653327"
      ]
     },
     "execution_count": 514,
     "metadata": {},
     "output_type": "execute_result"
    }
   ],
   "source": [
    "corr_df"
   ]
  },
  {
   "cell_type": "code",
   "execution_count": 365,
   "metadata": {},
   "outputs": [
    {
     "data": {
      "text/plain": [
       "<matplotlib.axes._subplots.AxesSubplot at 0x7fbeb69a28d0>"
      ]
     },
     "execution_count": 365,
     "metadata": {},
     "output_type": "execute_result"
    },
    {
     "data": {
      "image/png": "[encoded data removed]",
      "text/plain": [
       "<Figure size 1800x1080 with 2 Axes>"
      ]
     },
     "metadata": {
      "needs_background": "light"
     },
     "output_type": "display_data"
    }
   ],
   "source": [
    "import seaborn as sns\n",
    "plt.subplots(figsize=(25,15))\n",
    "sns.heatmap(correlation_matrix)"
   ]
  },
  {
   "cell_type": "code",
   "execution_count": 372,
   "metadata": {},
   "outputs": [
    {
     "data": {
      "text/plain": [
       "24"
      ]
     },
     "execution_count": 372,
     "metadata": {},
     "output_type": "execute_result"
    }
   ],
   "source": [
    "list(survey_df_analysis.columns).index('Aff1R')"
   ]
  },
  {
   "cell_type": "code",
   "execution_count": 373,
   "metadata": {},
   "outputs": [
    {
     "data": {
      "text/html": [
       "<div>\n",
       "<style scoped>\n",
       "    .dataframe tbody tr th:only-of-type {\n",
       "        vertical-align: middle;\n",
       "    }\n",
       "\n",
       "    .dataframe tbody tr th {\n",
       "        vertical-align: top;\n",
       "    }\n",
       "\n",
       "    .dataframe thead th {\n",
       "        text-align: right;\n",
       "    }\n",
       "</style>\n",
       "<table border=\"1\" class=\"dataframe\">\n",
       "  <thead>\n",
       "    <tr style=\"text-align: right;\">\n",
       "      <th></th>\n",
       "      <th>Aff1R</th>\n",
       "      <th>Aff2R</th>\n",
       "      <th>Aff3</th>\n",
       "      <th>Aff4</th>\n",
       "      <th>Aff5</th>\n",
       "      <th>Aff6</th>\n",
       "      <th>Aff7</th>\n",
       "      <th>Aff8R</th>\n",
       "      <th>Aff9R</th>\n",
       "      <th>Aff10R</th>\n",
       "      <th>...</th>\n",
       "      <th>Aff17</th>\n",
       "      <th>Aff18</th>\n",
       "      <th>Aff19</th>\n",
       "      <th>Aff20</th>\n",
       "      <th>Aff21R</th>\n",
       "      <th>Aff22R</th>\n",
       "      <th>Aff23R</th>\n",
       "      <th>Aff24</th>\n",
       "      <th>Aff25R</th>\n",
       "      <th>Aff26</th>\n",
       "    </tr>\n",
       "  </thead>\n",
       "  <tbody>\n",
       "    <tr>\n",
       "      <th>0</th>\n",
       "      <td>3.0</td>\n",
       "      <td>2.0</td>\n",
       "      <td>2.0</td>\n",
       "      <td>4.0</td>\n",
       "      <td>1.0</td>\n",
       "      <td>4.0</td>\n",
       "      <td>2.0</td>\n",
       "      <td>4.0</td>\n",
       "      <td>2.0</td>\n",
       "      <td>5.0</td>\n",
       "      <td>...</td>\n",
       "      <td>2.0</td>\n",
       "      <td>4.0</td>\n",
       "      <td>4.0</td>\n",
       "      <td>3.0</td>\n",
       "      <td>4.0</td>\n",
       "      <td>4.0</td>\n",
       "      <td>4.0</td>\n",
       "      <td>1.0</td>\n",
       "      <td>3.0</td>\n",
       "      <td>2.0</td>\n",
       "    </tr>\n",
       "    <tr>\n",
       "      <th>1</th>\n",
       "      <td>5.0</td>\n",
       "      <td>5.0</td>\n",
       "      <td>4.0</td>\n",
       "      <td>4.0</td>\n",
       "      <td>5.0</td>\n",
       "      <td>5.0</td>\n",
       "      <td>4.0</td>\n",
       "      <td>5.0</td>\n",
       "      <td>5.0</td>\n",
       "      <td>5.0</td>\n",
       "      <td>...</td>\n",
       "      <td>4.0</td>\n",
       "      <td>5.0</td>\n",
       "      <td>4.0</td>\n",
       "      <td>3.0</td>\n",
       "      <td>5.0</td>\n",
       "      <td>5.0</td>\n",
       "      <td>5.0</td>\n",
       "      <td>5.0</td>\n",
       "      <td>5.0</td>\n",
       "      <td>1.0</td>\n",
       "    </tr>\n",
       "    <tr>\n",
       "      <th>2</th>\n",
       "      <td>4.0</td>\n",
       "      <td>5.0</td>\n",
       "      <td>4.0</td>\n",
       "      <td>4.0</td>\n",
       "      <td>4.0</td>\n",
       "      <td>4.0</td>\n",
       "      <td>4.0</td>\n",
       "      <td>2.0</td>\n",
       "      <td>4.0</td>\n",
       "      <td>4.0</td>\n",
       "      <td>...</td>\n",
       "      <td>5.0</td>\n",
       "      <td>4.0</td>\n",
       "      <td>4.0</td>\n",
       "      <td>3.0</td>\n",
       "      <td>4.0</td>\n",
       "      <td>3.0</td>\n",
       "      <td>3.0</td>\n",
       "      <td>4.0</td>\n",
       "      <td>3.0</td>\n",
       "      <td>3.0</td>\n",
       "    </tr>\n",
       "    <tr>\n",
       "      <th>3</th>\n",
       "      <td>2.0</td>\n",
       "      <td>2.0</td>\n",
       "      <td>2.0</td>\n",
       "      <td>4.0</td>\n",
       "      <td>2.0</td>\n",
       "      <td>5.0</td>\n",
       "      <td>3.0</td>\n",
       "      <td>2.0</td>\n",
       "      <td>2.0</td>\n",
       "      <td>2.0</td>\n",
       "      <td>...</td>\n",
       "      <td>3.0</td>\n",
       "      <td>5.0</td>\n",
       "      <td>4.0</td>\n",
       "      <td>2.0</td>\n",
       "      <td>3.0</td>\n",
       "      <td>2.0</td>\n",
       "      <td>2.0</td>\n",
       "      <td>4.0</td>\n",
       "      <td>2.0</td>\n",
       "      <td>3.0</td>\n",
       "    </tr>\n",
       "    <tr>\n",
       "      <th>4</th>\n",
       "      <td>4.0</td>\n",
       "      <td>3.0</td>\n",
       "      <td>4.0</td>\n",
       "      <td>4.0</td>\n",
       "      <td>4.0</td>\n",
       "      <td>5.0</td>\n",
       "      <td>2.0</td>\n",
       "      <td>4.0</td>\n",
       "      <td>4.0</td>\n",
       "      <td>4.0</td>\n",
       "      <td>...</td>\n",
       "      <td>5.0</td>\n",
       "      <td>4.0</td>\n",
       "      <td>5.0</td>\n",
       "      <td>2.0</td>\n",
       "      <td>4.0</td>\n",
       "      <td>2.0</td>\n",
       "      <td>4.0</td>\n",
       "      <td>5.0</td>\n",
       "      <td>4.0</td>\n",
       "      <td>1.0</td>\n",
       "    </tr>\n",
       "  </tbody>\n",
       "</table>\n",
       "<p>5 rows × 26 columns</p>\n",
       "</div>"
      ],
      "text/plain": [
       "   Aff1R  Aff2R  Aff3  Aff4  Aff5  Aff6  Aff7  Aff8R  Aff9R  Aff10R  ...  \\\n",
       "0    3.0    2.0   2.0   4.0   1.0   4.0   2.0    4.0    2.0     5.0  ...   \n",
       "1    5.0    5.0   4.0   4.0   5.0   5.0   4.0    5.0    5.0     5.0  ...   \n",
       "2    4.0    5.0   4.0   4.0   4.0   4.0   4.0    2.0    4.0     4.0  ...   \n",
       "3    2.0    2.0   2.0   4.0   2.0   5.0   3.0    2.0    2.0     2.0  ...   \n",
       "4    4.0    3.0   4.0   4.0   4.0   5.0   2.0    4.0    4.0     4.0  ...   \n",
       "\n",
       "   Aff17  Aff18  Aff19  Aff20  Aff21R  Aff22R  Aff23R  Aff24  Aff25R  Aff26  \n",
       "0    2.0    4.0    4.0    3.0     4.0     4.0     4.0    1.0     3.0    2.0  \n",
       "1    4.0    5.0    4.0    3.0     5.0     5.0     5.0    5.0     5.0    1.0  \n",
       "2    5.0    4.0    4.0    3.0     4.0     3.0     3.0    4.0     3.0    3.0  \n",
       "3    3.0    5.0    4.0    2.0     3.0     2.0     2.0    4.0     2.0    3.0  \n",
       "4    5.0    4.0    5.0    2.0     4.0     2.0     4.0    5.0     4.0    1.0  \n",
       "\n",
       "[5 rows x 26 columns]"
      ]
     },
     "execution_count": 373,
     "metadata": {},
     "output_type": "execute_result"
    }
   ],
   "source": [
    "Cog_index = list(np.arange(list(survey_df_analysis.columns).index('Cog1'),list(survey_df_analysis.columns).index('Cog18')+1))\n",
    "Aff_index = list(np.arange(list(survey_df_analysis.columns).index('Aff1R'),list(survey_df_analysis.columns).index('Aff26')+1))\n",
    "Cog_df = survey_df_analysis.iloc[:,Cog_index]\n",
    "Aff_df = survey_df_analysis.iloc[:,Aff_index]\n",
    "Aff_df.head()"
   ]
  },
  {
   "cell_type": "code",
   "execution_count": 374,
   "metadata": {},
   "outputs": [
    {
     "data": {
      "image/png": "[encoded data removed]",
      "text/plain": [
       "<Figure size 1080x360 with 4 Axes>"
      ]
     },
     "metadata": {
      "needs_background": "light"
     },
     "output_type": "display_data"
    }
   ],
   "source": [
    "fig, (ax1, ax2) = plt.subplots(1,2,figsize=(15,5))\n",
    "\n",
    "sns.heatmap(Cog_df.corr(), ax=ax1)\n",
    "sns.heatmap(Aff_df.corr(), ax=ax2)\n",
    "\n",
    "plt.show()"
   ]
  },
  {
   "cell_type": "code",
   "execution_count": 337,
   "metadata": {},
   "outputs": [
    {
     "data": {
      "text/html": [
       "<div>\n",
       "<style scoped>\n",
       "    .dataframe tbody tr th:only-of-type {\n",
       "        vertical-align: middle;\n",
       "    }\n",
       "\n",
       "    .dataframe tbody tr th {\n",
       "        vertical-align: top;\n",
       "    }\n",
       "\n",
       "    .dataframe thead th {\n",
       "        text-align: right;\n",
       "    }\n",
       "</style>\n",
       "<table border=\"1\" class=\"dataframe\">\n",
       "  <thead>\n",
       "    <tr style=\"text-align: right;\">\n",
       "      <th></th>\n",
       "      <th>0</th>\n",
       "      <th>1</th>\n",
       "      <th>2</th>\n",
       "      <th>3</th>\n",
       "      <th>4</th>\n",
       "      <th>5</th>\n",
       "      <th>6</th>\n",
       "      <th>7</th>\n",
       "      <th>8</th>\n",
       "      <th>9</th>\n",
       "      <th>...</th>\n",
       "      <th>13</th>\n",
       "      <th>14</th>\n",
       "      <th>15</th>\n",
       "      <th>16</th>\n",
       "      <th>17</th>\n",
       "      <th>18</th>\n",
       "      <th>19</th>\n",
       "      <th>20</th>\n",
       "      <th>21</th>\n",
       "      <th>22</th>\n",
       "    </tr>\n",
       "  </thead>\n",
       "  <tbody>\n",
       "    <tr>\n",
       "      <th>0</th>\n",
       "      <td>-0.998527</td>\n",
       "      <td>-2.099164</td>\n",
       "      <td>0.247484</td>\n",
       "      <td>0.786881</td>\n",
       "      <td>0.848016</td>\n",
       "      <td>0.356276</td>\n",
       "      <td>-0.374319</td>\n",
       "      <td>1.782974</td>\n",
       "      <td>2.322172</td>\n",
       "      <td>-1.879677</td>\n",
       "      <td>...</td>\n",
       "      <td>0.203792</td>\n",
       "      <td>-1.404832</td>\n",
       "      <td>1.263023</td>\n",
       "      <td>0.342479</td>\n",
       "      <td>0.168863</td>\n",
       "      <td>-0.482312</td>\n",
       "      <td>-0.178369</td>\n",
       "      <td>0.698179</td>\n",
       "      <td>-0.448622</td>\n",
       "      <td>-0.134951</td>\n",
       "    </tr>\n",
       "    <tr>\n",
       "      <th>1</th>\n",
       "      <td>6.070432</td>\n",
       "      <td>0.417127</td>\n",
       "      <td>-0.106831</td>\n",
       "      <td>-0.324235</td>\n",
       "      <td>0.805281</td>\n",
       "      <td>0.696166</td>\n",
       "      <td>-0.204888</td>\n",
       "      <td>0.112795</td>\n",
       "      <td>-0.259254</td>\n",
       "      <td>-1.541977</td>\n",
       "      <td>...</td>\n",
       "      <td>-0.902872</td>\n",
       "      <td>-1.270235</td>\n",
       "      <td>-0.394322</td>\n",
       "      <td>0.073803</td>\n",
       "      <td>0.546282</td>\n",
       "      <td>0.182709</td>\n",
       "      <td>-0.356392</td>\n",
       "      <td>0.166078</td>\n",
       "      <td>0.770530</td>\n",
       "      <td>0.064290</td>\n",
       "    </tr>\n",
       "    <tr>\n",
       "      <th>2</th>\n",
       "      <td>1.706088</td>\n",
       "      <td>0.592268</td>\n",
       "      <td>-0.322640</td>\n",
       "      <td>-1.138385</td>\n",
       "      <td>-0.196408</td>\n",
       "      <td>0.245019</td>\n",
       "      <td>-0.233954</td>\n",
       "      <td>-1.196561</td>\n",
       "      <td>-1.651834</td>\n",
       "      <td>1.000101</td>\n",
       "      <td>...</td>\n",
       "      <td>-1.061330</td>\n",
       "      <td>0.414690</td>\n",
       "      <td>0.633683</td>\n",
       "      <td>-0.374603</td>\n",
       "      <td>0.054687</td>\n",
       "      <td>0.171718</td>\n",
       "      <td>-0.201032</td>\n",
       "      <td>-0.637646</td>\n",
       "      <td>-0.290762</td>\n",
       "      <td>0.165876</td>\n",
       "    </tr>\n",
       "    <tr>\n",
       "      <th>3</th>\n",
       "      <td>-2.994398</td>\n",
       "      <td>0.029999</td>\n",
       "      <td>1.024141</td>\n",
       "      <td>0.637279</td>\n",
       "      <td>-0.884660</td>\n",
       "      <td>0.728505</td>\n",
       "      <td>-0.273864</td>\n",
       "      <td>0.607414</td>\n",
       "      <td>0.368867</td>\n",
       "      <td>-1.496050</td>\n",
       "      <td>...</td>\n",
       "      <td>0.235591</td>\n",
       "      <td>0.553971</td>\n",
       "      <td>-1.199971</td>\n",
       "      <td>-0.450475</td>\n",
       "      <td>0.306674</td>\n",
       "      <td>-0.853064</td>\n",
       "      <td>0.762599</td>\n",
       "      <td>-0.363496</td>\n",
       "      <td>0.315257</td>\n",
       "      <td>-0.287124</td>\n",
       "    </tr>\n",
       "    <tr>\n",
       "      <th>4</th>\n",
       "      <td>2.033459</td>\n",
       "      <td>0.162755</td>\n",
       "      <td>0.675930</td>\n",
       "      <td>1.038966</td>\n",
       "      <td>-0.633405</td>\n",
       "      <td>0.468454</td>\n",
       "      <td>1.627070</td>\n",
       "      <td>-1.058740</td>\n",
       "      <td>-0.447183</td>\n",
       "      <td>-0.339838</td>\n",
       "      <td>...</td>\n",
       "      <td>-0.760516</td>\n",
       "      <td>0.004992</td>\n",
       "      <td>-0.568882</td>\n",
       "      <td>0.872919</td>\n",
       "      <td>-0.059393</td>\n",
       "      <td>0.359210</td>\n",
       "      <td>0.049196</td>\n",
       "      <td>0.092335</td>\n",
       "      <td>0.081522</td>\n",
       "      <td>0.190369</td>\n",
       "    </tr>\n",
       "    <tr>\n",
       "      <th>5</th>\n",
       "      <td>-1.588489</td>\n",
       "      <td>-0.118711</td>\n",
       "      <td>-0.564599</td>\n",
       "      <td>0.120610</td>\n",
       "      <td>1.568071</td>\n",
       "      <td>1.117640</td>\n",
       "      <td>0.758239</td>\n",
       "      <td>1.591199</td>\n",
       "      <td>-0.816737</td>\n",
       "      <td>1.024194</td>\n",
       "      <td>...</td>\n",
       "      <td>0.662364</td>\n",
       "      <td>1.024209</td>\n",
       "      <td>0.326302</td>\n",
       "      <td>0.855123</td>\n",
       "      <td>0.105558</td>\n",
       "      <td>0.375715</td>\n",
       "      <td>-0.135418</td>\n",
       "      <td>-0.228467</td>\n",
       "      <td>0.394548</td>\n",
       "      <td>-0.220199</td>\n",
       "    </tr>\n",
       "    <tr>\n",
       "      <th>6</th>\n",
       "      <td>2.340773</td>\n",
       "      <td>-0.594462</td>\n",
       "      <td>0.352301</td>\n",
       "      <td>-0.380609</td>\n",
       "      <td>0.328942</td>\n",
       "      <td>-0.154522</td>\n",
       "      <td>0.040636</td>\n",
       "      <td>-0.576545</td>\n",
       "      <td>-0.715439</td>\n",
       "      <td>0.244808</td>\n",
       "      <td>...</td>\n",
       "      <td>0.250212</td>\n",
       "      <td>-0.214502</td>\n",
       "      <td>0.618267</td>\n",
       "      <td>0.237743</td>\n",
       "      <td>0.410267</td>\n",
       "      <td>-0.068793</td>\n",
       "      <td>0.500501</td>\n",
       "      <td>0.976038</td>\n",
       "      <td>0.592110</td>\n",
       "      <td>0.759928</td>\n",
       "    </tr>\n",
       "    <tr>\n",
       "      <th>7</th>\n",
       "      <td>-1.745153</td>\n",
       "      <td>0.739598</td>\n",
       "      <td>0.978832</td>\n",
       "      <td>-2.862532</td>\n",
       "      <td>-0.282312</td>\n",
       "      <td>0.064492</td>\n",
       "      <td>-1.699008</td>\n",
       "      <td>-0.274415</td>\n",
       "      <td>0.564842</td>\n",
       "      <td>0.441156</td>\n",
       "      <td>...</td>\n",
       "      <td>-0.800259</td>\n",
       "      <td>-0.784379</td>\n",
       "      <td>0.110064</td>\n",
       "      <td>0.962301</td>\n",
       "      <td>-0.882633</td>\n",
       "      <td>0.332057</td>\n",
       "      <td>0.775299</td>\n",
       "      <td>0.030450</td>\n",
       "      <td>0.044649</td>\n",
       "      <td>-0.512980</td>\n",
       "    </tr>\n",
       "    <tr>\n",
       "      <th>8</th>\n",
       "      <td>-3.378809</td>\n",
       "      <td>-1.300982</td>\n",
       "      <td>-1.208913</td>\n",
       "      <td>-0.461198</td>\n",
       "      <td>0.228518</td>\n",
       "      <td>0.724174</td>\n",
       "      <td>-0.681514</td>\n",
       "      <td>-0.644247</td>\n",
       "      <td>-0.733562</td>\n",
       "      <td>0.163602</td>\n",
       "      <td>...</td>\n",
       "      <td>0.442889</td>\n",
       "      <td>0.063182</td>\n",
       "      <td>0.172041</td>\n",
       "      <td>-0.810914</td>\n",
       "      <td>0.221875</td>\n",
       "      <td>0.117530</td>\n",
       "      <td>-1.422442</td>\n",
       "      <td>-0.156117</td>\n",
       "      <td>-0.573611</td>\n",
       "      <td>-0.554361</td>\n",
       "    </tr>\n",
       "    <tr>\n",
       "      <th>9</th>\n",
       "      <td>1.799582</td>\n",
       "      <td>-1.466474</td>\n",
       "      <td>-1.093687</td>\n",
       "      <td>-0.698639</td>\n",
       "      <td>-0.717824</td>\n",
       "      <td>-0.050360</td>\n",
       "      <td>-0.313032</td>\n",
       "      <td>0.536436</td>\n",
       "      <td>-0.913137</td>\n",
       "      <td>0.631786</td>\n",
       "      <td>...</td>\n",
       "      <td>0.281192</td>\n",
       "      <td>-0.081150</td>\n",
       "      <td>-0.438071</td>\n",
       "      <td>-1.006090</td>\n",
       "      <td>-0.457765</td>\n",
       "      <td>0.493354</td>\n",
       "      <td>0.810462</td>\n",
       "      <td>0.127524</td>\n",
       "      <td>0.588429</td>\n",
       "      <td>0.812431</td>\n",
       "    </tr>\n",
       "  </tbody>\n",
       "</table>\n",
       "<p>10 rows × 23 columns</p>\n",
       "</div>"
      ],
      "text/plain": [
       "         0         1         2         3         4         5         6   \\\n",
       "0 -0.998527 -2.099164  0.247484  0.786881  0.848016  0.356276 -0.374319   \n",
       "1  6.070432  0.417127 -0.106831 -0.324235  0.805281  0.696166 -0.204888   \n",
       "2  1.706088  0.592268 -0.322640 -1.138385 -0.196408  0.245019 -0.233954   \n",
       "3 -2.994398  0.029999  1.024141  0.637279 -0.884660  0.728505 -0.273864   \n",
       "4  2.033459  0.162755  0.675930  1.038966 -0.633405  0.468454  1.627070   \n",
       "5 -1.588489 -0.118711 -0.564599  0.120610  1.568071  1.117640  0.758239   \n",
       "6  2.340773 -0.594462  0.352301 -0.380609  0.328942 -0.154522  0.040636   \n",
       "7 -1.745153  0.739598  0.978832 -2.862532 -0.282312  0.064492 -1.699008   \n",
       "8 -3.378809 -1.300982 -1.208913 -0.461198  0.228518  0.724174 -0.681514   \n",
       "9  1.799582 -1.466474 -1.093687 -0.698639 -0.717824 -0.050360 -0.313032   \n",
       "\n",
       "         7         8         9   ...        13        14        15        16  \\\n",
       "0  1.782974  2.322172 -1.879677  ...  0.203792 -1.404832  1.263023  0.342479   \n",
       "1  0.112795 -0.259254 -1.541977  ... -0.902872 -1.270235 -0.394322  0.073803   \n",
       "2 -1.196561 -1.651834  1.000101  ... -1.061330  0.414690  0.633683 -0.374603   \n",
       "3  0.607414  0.368867 -1.496050  ...  0.235591  0.553971 -1.199971 -0.450475   \n",
       "4 -1.058740 -0.447183 -0.339838  ... -0.760516  0.004992 -0.568882  0.872919   \n",
       "5  1.591199 -0.816737  1.024194  ...  0.662364  1.024209  0.326302  0.855123   \n",
       "6 -0.576545 -0.715439  0.244808  ...  0.250212 -0.214502  0.618267  0.237743   \n",
       "7 -0.274415  0.564842  0.441156  ... -0.800259 -0.784379  0.110064  0.962301   \n",
       "8 -0.644247 -0.733562  0.163602  ...  0.442889  0.063182  0.172041 -0.810914   \n",
       "9  0.536436 -0.913137  0.631786  ...  0.281192 -0.081150 -0.438071 -1.006090   \n",
       "\n",
       "         17        18        19        20        21        22  \n",
       "0  0.168863 -0.482312 -0.178369  0.698179 -0.448622 -0.134951  \n",
       "1  0.546282  0.182709 -0.356392  0.166078  0.770530  0.064290  \n",
       "2  0.054687  0.171718 -0.201032 -0.637646 -0.290762  0.165876  \n",
       "3  0.306674 -0.853064  0.762599 -0.363496  0.315257 -0.287124  \n",
       "4 -0.059393  0.359210  0.049196  0.092335  0.081522  0.190369  \n",
       "5  0.105558  0.375715 -0.135418 -0.228467  0.394548 -0.220199  \n",
       "6  0.410267 -0.068793  0.500501  0.976038  0.592110  0.759928  \n",
       "7 -0.882633  0.332057  0.775299  0.030450  0.044649 -0.512980  \n",
       "8  0.221875  0.117530 -1.422442 -0.156117 -0.573611 -0.554361  \n",
       "9 -0.457765  0.493354  0.810462  0.127524  0.588429  0.812431  \n",
       "\n",
       "[10 rows x 23 columns]"
      ]
     },
     "execution_count": 337,
     "metadata": {},
     "output_type": "execute_result"
    }
   ],
   "source": [
    "from sklearn.decomposition import PCA\n",
    "pca = PCA()\n",
    "x_pca = pca.fit_transform(Aff_df)\n",
    "x_pca = pd.DataFrame(x_pca)\n",
    "x_pca.head(10)"
   ]
  },
  {
   "cell_type": "code",
   "execution_count": 341,
   "metadata": {},
   "outputs": [
    {
     "data": {
      "text/plain": [
       "array([0.28625624, 0.12192773, 0.07518835, 0.06324138, 0.05467244,\n",
       "       0.04252637, 0.0376069 , 0.03503231, 0.03366536, 0.03040743,\n",
       "       0.02945067, 0.02613431, 0.0236135 , 0.02054815, 0.01946778,\n",
       "       0.01924421, 0.01736535, 0.01480754, 0.01344211, 0.01130213,\n",
       "       0.00936979, 0.00891189, 0.00581805])"
      ]
     },
     "execution_count": 341,
     "metadata": {},
     "output_type": "execute_result"
    }
   ],
   "source": [
    "explained_variance = pca.explained_variance_ratio_\n",
    "explained_variance"
   ]
  },
  {
   "cell_type": "code",
   "execution_count": 342,
   "metadata": {},
   "outputs": [
    {
     "data": {
      "image/png": "[encoded data removed]",
      "text/plain": [
       "<Figure size 576x432 with 1 Axes>"
      ]
     },
     "metadata": {
      "needs_background": "light"
     },
     "output_type": "display_data"
    }
   ],
   "source": [
    "plt.figure(figsize=(8, 6))\n",
    "plt.bar(range(len(x_pca.columns)), explained_variance, alpha=0.5, align='center', label='individual variance')\n",
    "plt.legend()\n",
    "plt.ylabel('Variance ratio')\n",
    "plt.xlabel('Principal components')\n",
    "plt.show()"
   ]
  },
  {
   "cell_type": "markdown",
   "metadata": {},
   "source": [
    "### Check linear regression plots"
   ]
  },
  {
   "cell_type": "code",
   "execution_count": 224,
   "metadata": {},
   "outputs": [
    {
     "data": {
      "text/plain": [
       "Text(0.5, 1.0, 'KNPrice')"
      ]
     },
     "execution_count": 224,
     "metadata": {},
     "output_type": "execute_result"
    },
    {
     "data": {
      "image/png": "[encoded data removed]",
      "text/plain": [
       "<Figure size 360x360 with 1 Axes>"
      ]
     },
     "metadata": {
      "needs_background": "light"
     },
     "output_type": "display_data"
    }
   ],
   "source": [
    "variable_index = variable_list.index('KNPrice') #Just enter the variable name you want an output for \n",
    "\n",
    "variable_name = variable_list[variable_index]\n",
    "\n",
    "fig, axs = plt.subplots(figsize=(5,5),sharey=True, tight_layout=True)\n",
    "\n",
    "# We can set the number of bins with the `bins` kwarg\n",
    "axs.hist(survey_cam_merge[variable_name])\n",
    "axs.set_title(f'{variable_name}')"
   ]
  },
  {
   "cell_type": "markdown",
   "metadata": {},
   "source": [
    "Create output of assumption test\n",
    "peirce test of normality for indep variable\n",
    "ind:\n",
    "dv:"
   ]
  },
  {
   "cell_type": "code",
   "execution_count": 482,
   "metadata": {},
   "outputs": [],
   "source": [
    "#Are these switched?\n",
    "survey_dependent = survey_df_analysis[dependent_list]\n",
    "survey_network = survey_df_analysis[network_list]\n",
    "survey_c1 = survey_df_analysis[control_list_1]\n",
    "survey_cent = survey_network.iloc[:,11:14]"
   ]
  },
  {
   "cell_type": "code",
   "execution_count": 501,
   "metadata": {},
   "outputs": [],
   "source": [
    "#For all the below graphs:\n",
    "y = survey_cent\n",
    "X = survey_c1"
   ]
  },
  {
   "cell_type": "code",
   "execution_count": 484,
   "metadata": {},
   "outputs": [
    {
     "data": {
      "image/png": "[encoded data removed]",
      "text/plain": [
       "<Figure size 1080x720 with 21 Axes>"
      ]
     },
     "metadata": {},
     "output_type": "display_data"
    }
   ],
   "source": [
    "import scipy.stats as st\n",
    "fig, axes = plt.subplots(nrows=len(y.columns), ncols=len(X.columns), figsize=(15, 10))\n",
    "                                   \n",
    "for i in range(len(y.columns)):\n",
    "    for j in range(len(X.columns)):\n",
    "        axes[i, j].scatter(X.iloc[:,j],y.iloc[:,i])\n",
    "        axes[i,j].set_xlabel(f'{X.columns[j]}',fontsize=10)\n",
    "        \n",
    "        \n",
    "        slope, inter, r, p, std_err = st.linregress(X.iloc[:,j],y.iloc[:,i])\n",
    "        plot_fit = slope * (X.iloc[:,j]) + inter\n",
    "        axes[i,j].plot((X.iloc[:,j]),plot_fit,linestyle='solid',color=\"red\",lw=.3)\n",
    "        \n",
    "        if j ==0:\n",
    "            axes[i,j].set_ylabel(f'{y.columns[i]}',fontsize=10)\n",
    "            \n",
    "fig.tight_layout()\n"
   ]
  },
  {
   "cell_type": "markdown",
   "metadata": {},
   "source": [
    "#### Data transformations?"
   ]
  },
  {
   "cell_type": "markdown",
   "metadata": {},
   "source": [
    "boxcox shorthand:\n",
    "lambda = -1. is a reciprocal transform.\n",
    "lambda = -0.5 is a reciprocal square root transform.\n",
    "lambda = 0.0 is a log transform.\n",
    "lambda = 0.5 is a square root transform.\n",
    "lambda = 1.0 is no transform."
   ]
  },
  {
   "cell_type": "code",
   "execution_count": 504,
   "metadata": {},
   "outputs": [
    {
     "data": {
      "text/plain": [
       "array([-0.51919387, -0.47320876, -0.5691612 , -0.75289718, -0.75502258,\n",
       "       -0.34672461, -0.73605468, -0.75077629, -0.50583808, -0.63487827,\n",
       "       -0.56036607, -0.77002822, -0.68121861, -0.82098055, -0.66358838,\n",
       "       -0.63487827, -0.614336  , -0.491023  , -0.4975804 , -0.77435724,\n",
       "       -0.73396918, -0.73396918, -0.73396918, -0.50418108, -0.5464528 ,\n",
       "       -0.34672461, -0.70319752, -0.72567037, -0.50916034, -0.80519668,\n",
       "       -0.45255672, -0.44472582, -0.50418108, -0.69314718, -0.7072461 ,\n",
       "       -0.48613301, -0.5464528 , -0.46840491, -0.36528332, -0.70927656,\n",
       "       -0.60880603, -0.74023879, -0.51751461, -0.7985077 , -0.84397007,\n",
       "       -0.46521511, -0.34672461, -0.54300452, -0.73188801, -0.61803971,\n",
       "       -0.74654796, -0.74023879, -0.37396644, -0.73396918, -0.75928698,\n",
       "       -0.54991301, -0.78088609, -0.62362112, -0.67138569, -0.69916525,\n",
       "       -0.68517901, -0.43540898, -0.48450832, -0.53956809, -0.55861629,\n",
       "       -0.61618614, -0.77219039, -0.67334455, -0.77219039, -0.34672461,\n",
       "       -0.64626359, -0.4780358 , -0.63676685, -0.42617815, -0.4462871 ,\n",
       "       -0.61989672, -0.61248928, -0.63299326, -0.60880603, -0.67138569,\n",
       "       -0.74865989, -0.45255672, -1.1776555 , -0.58519004, -0.58160581,\n",
       "       -0.34672461, -0.76356964, -0.7072461 , -0.43850496, -0.50749783,\n",
       "       -0.42617815, -0.70117935, -0.82553637, -0.50749783, -0.56387484,\n",
       "       -0.61064596, -0.73188801, -0.43850496, -0.45886588, -0.59602047,\n",
       "       -0.59965684, -0.73605468, -0.61989672, -0.42617815, -0.50916034,\n",
       "       -0.72773863, -0.72154666, -0.82098055, -0.69314718, -0.76142602,\n",
       "       -0.75502258, -0.59420723, -0.53102833])"
      ]
     },
     "execution_count": 504,
     "metadata": {},
     "output_type": "execute_result"
    }
   ],
   "source": [
    "from scipy.stats import boxcox\n",
    "data = boxcox(y.iloc[:,1], 0)\n",
    "data"
   ]
  },
  {
   "cell_type": "markdown",
   "metadata": {},
   "source": [
    "#### Assumption Testing for OLS"
   ]
  },
  {
   "cell_type": "code",
   "execution_count": 433,
   "metadata": {},
   "outputs": [],
   "source": [
    "from statsmodels.graphics.gofplots import ProbPlot\n",
    "plt.style.use('seaborn') # pretty matplotlib plots\n",
    "plt.rc('font', size=14)\n",
    "plt.rc('figure', titlesize=18)\n",
    "plt.rc('axes', labelsize=15)\n",
    "plt.rc('axes', titlesize=18)"
   ]
  },
  {
   "cell_type": "code",
   "execution_count": 497,
   "metadata": {},
   "outputs": [
    {
     "data": {
      "text/plain": [
       "array([6., 2., 3., 1., 7., 5., 4.])"
      ]
     },
     "execution_count": 497,
     "metadata": {},
     "output_type": "execute_result"
    }
   ],
   "source": [
    "unique_values = survey_dependent.iloc[:,0].unique()\n",
    "unique_values"
   ]
  },
  {
   "cell_type": "code",
   "execution_count": 488,
   "metadata": {},
   "outputs": [],
   "source": [
    "X = survey_c1\n",
    "X = sm.add_constant(X)\n",
    "y = pd.DataFrame(survey_dependent.iloc[:,0])\n",
    "\n",
    "# generate OLS model\n",
    "model = sm.OLS(y, X)\n",
    "model_fit = model.fit()\n",
    "# create dataframe from X, y for easier plot handling\n",
    "dataframe = pd.concat([X, y], axis=1)"
   ]
  },
  {
   "cell_type": "code",
   "execution_count": 489,
   "metadata": {},
   "outputs": [
    {
     "data": {
      "text/html": [
       "<div>\n",
       "<style scoped>\n",
       "    .dataframe tbody tr th:only-of-type {\n",
       "        vertical-align: middle;\n",
       "    }\n",
       "\n",
       "    .dataframe tbody tr th {\n",
       "        vertical-align: top;\n",
       "    }\n",
       "\n",
       "    .dataframe thead th {\n",
       "        text-align: right;\n",
       "    }\n",
       "</style>\n",
       "<table border=\"1\" class=\"dataframe\">\n",
       "  <thead>\n",
       "    <tr style=\"text-align: right;\">\n",
       "      <th></th>\n",
       "      <th>const</th>\n",
       "      <th>Age</th>\n",
       "      <th>Education</th>\n",
       "      <th>Income</th>\n",
       "      <th>English</th>\n",
       "      <th>Gender</th>\n",
       "      <th>CarbFam</th>\n",
       "      <th>CarbSFam</th>\n",
       "    </tr>\n",
       "  </thead>\n",
       "  <tbody>\n",
       "    <tr>\n",
       "      <th>0</th>\n",
       "      <td>1.0</td>\n",
       "      <td>40.0</td>\n",
       "      <td>6.0</td>\n",
       "      <td>9.0</td>\n",
       "      <td>1.0</td>\n",
       "      <td>1.0</td>\n",
       "      <td>1.0</td>\n",
       "      <td>3.0</td>\n",
       "    </tr>\n",
       "    <tr>\n",
       "      <th>1</th>\n",
       "      <td>1.0</td>\n",
       "      <td>25.0</td>\n",
       "      <td>6.0</td>\n",
       "      <td>6.0</td>\n",
       "      <td>1.0</td>\n",
       "      <td>2.0</td>\n",
       "      <td>3.0</td>\n",
       "      <td>4.0</td>\n",
       "    </tr>\n",
       "    <tr>\n",
       "      <th>2</th>\n",
       "      <td>1.0</td>\n",
       "      <td>28.0</td>\n",
       "      <td>6.0</td>\n",
       "      <td>4.0</td>\n",
       "      <td>1.0</td>\n",
       "      <td>2.0</td>\n",
       "      <td>1.0</td>\n",
       "      <td>4.0</td>\n",
       "    </tr>\n",
       "    <tr>\n",
       "      <th>3</th>\n",
       "      <td>1.0</td>\n",
       "      <td>22.0</td>\n",
       "      <td>6.0</td>\n",
       "      <td>2.0</td>\n",
       "      <td>1.0</td>\n",
       "      <td>1.0</td>\n",
       "      <td>1.0</td>\n",
       "      <td>2.0</td>\n",
       "    </tr>\n",
       "    <tr>\n",
       "      <th>4</th>\n",
       "      <td>1.0</td>\n",
       "      <td>36.0</td>\n",
       "      <td>7.0</td>\n",
       "      <td>7.0</td>\n",
       "      <td>1.0</td>\n",
       "      <td>2.0</td>\n",
       "      <td>1.0</td>\n",
       "      <td>3.0</td>\n",
       "    </tr>\n",
       "  </tbody>\n",
       "</table>\n",
       "</div>"
      ],
      "text/plain": [
       "   const   Age  Education  Income  English  Gender  CarbFam  CarbSFam\n",
       "0    1.0  40.0        6.0     9.0      1.0     1.0      1.0       3.0\n",
       "1    1.0  25.0        6.0     6.0      1.0     2.0      3.0       4.0\n",
       "2    1.0  28.0        6.0     4.0      1.0     2.0      1.0       4.0\n",
       "3    1.0  22.0        6.0     2.0      1.0     1.0      1.0       2.0\n",
       "4    1.0  36.0        7.0     7.0      1.0     2.0      1.0       3.0"
      ]
     },
     "execution_count": 489,
     "metadata": {},
     "output_type": "execute_result"
    }
   ],
   "source": [
    "X.head()"
   ]
  },
  {
   "cell_type": "code",
   "execution_count": 490,
   "metadata": {},
   "outputs": [
    {
     "name": "stdout",
     "output_type": "stream",
     "text": [
      "                            OLS Regression Results                            \n",
      "==============================================================================\n",
      "Dep. Variable:                 CarbAg   R-squared:                       0.117\n",
      "Model:                            OLS   Adj. R-squared:                  0.058\n",
      "Method:                 Least Squares   F-statistic:                     1.981\n",
      "Date:                Fri, 19 Feb 2021   Prob (F-statistic):             0.0645\n",
      "Time:                        08:35:43   Log-Likelihood:                -212.32\n",
      "No. Observations:                 113   AIC:                             440.6\n",
      "Df Residuals:                     105   BIC:                             462.5\n",
      "Df Model:                           7                                         \n",
      "Covariance Type:            nonrobust                                         \n",
      "==============================================================================\n",
      "                 coef    std err          t      P>|t|      [0.025      0.975]\n",
      "------------------------------------------------------------------------------\n",
      "const          3.3136      1.431      2.316      0.023       0.477       6.151\n",
      "Age           -0.0219      0.016     -1.401      0.164      -0.053       0.009\n",
      "Education      0.1147      0.155      0.741      0.460      -0.192       0.422\n",
      "Income         0.0638      0.057      1.119      0.266      -0.049       0.177\n",
      "English       -0.1064      0.542     -0.196      0.845      -1.181       0.968\n",
      "Gender         0.8572      0.331      2.592      0.011       0.202       1.513\n",
      "CarbFam       -0.3110      0.373     -0.833      0.407      -1.052       0.430\n",
      "CarbSFam       0.1824      0.227      0.805      0.423      -0.267       0.632\n",
      "==============================================================================\n",
      "Omnibus:                        8.036   Durbin-Watson:                   1.792\n",
      "Prob(Omnibus):                  0.018   Jarque-Bera (JB):                8.483\n",
      "Skew:                          -0.667   Prob(JB):                       0.0144\n",
      "Kurtosis:                       2.858   Cond. No.                         340.\n",
      "==============================================================================\n",
      "\n",
      "Warnings:\n",
      "[1] Standard Errors assume that the covariance matrix of the errors is correctly specified.\n"
     ]
    }
   ],
   "source": [
    "print(model_fit.summary())"
   ]
  },
  {
   "cell_type": "code",
   "execution_count": 440,
   "metadata": {},
   "outputs": [
    {
     "data": {
      "image/png": "[encoded data removed]",
      "text/plain": [
       "<Figure size 576x396 with 1 Axes>"
      ]
     },
     "metadata": {},
     "output_type": "display_data"
    }
   ],
   "source": [
    "# model values\n",
    "model_fitted_y = model_fit.fittedvalues\n",
    "# model residuals\n",
    "model_residuals = model_fit.resid\n",
    "# normalized residuals\n",
    "model_norm_residuals = model_fit.get_influence().resid_studentized_internal\n",
    "# absolute squared normalized residuals\n",
    "model_norm_residuals_abs_sqrt = np.sqrt(np.abs(model_norm_residuals))\n",
    "# absolute residuals\n",
    "model_abs_resid = np.abs(model_residuals)\n",
    "# leverage, from statsmodels internals\n",
    "model_leverage = model_fit.get_influence().hat_matrix_diag\n",
    "# cook's distance, from statsmodels internals\n",
    "model_cooks = model_fit.get_influence().cooks_distance[0]\n",
    "\n",
    "plot_lm_1 = plt.figure()\n",
    "plot_lm_1.axes[0] = sns.residplot(model_fitted_y, dataframe.columns[-1], data=dataframe,\n",
    "                          lowess=True,\n",
    "                          scatter_kws={'alpha': 0.5},\n",
    "                          line_kws={'color': 'red', 'lw': 1, 'alpha': 0.8})\n",
    "\n",
    "plot_lm_1.axes[0].set_title('Residuals vs Fitted')\n",
    "plot_lm_1.axes[0].set_xlabel('Fitted values')\n",
    "plot_lm_1.axes[0].set_ylabel('Residuals');"
   ]
  },
  {
   "cell_type": "code",
   "execution_count": 448,
   "metadata": {},
   "outputs": [
    {
     "data": {
      "image/png": "[encoded data removed]",
      "text/plain": [
       "<Figure size 576x396 with 1 Axes>"
      ]
     },
     "metadata": {},
     "output_type": "display_data"
    }
   ],
   "source": [
    "#further from line = errors not being normally distributed\n",
    "QQ = ProbPlot(model_norm_residuals)\n",
    "plot_lm_2 = QQ.qqplot(line='45', alpha=0.5, color='#4C72B0', lw=1)\n",
    "plot_lm_2.axes[0].set_title('Normal Q-Q')\n",
    "plot_lm_2.axes[0].set_xlabel('Theoretical Quantiles')\n",
    "plot_lm_2.axes[0].set_ylabel('Standardized Residuals');\n",
    "\n",
    "\n"
   ]
  },
  {
   "cell_type": "code",
   "execution_count": 449,
   "metadata": {},
   "outputs": [
    {
     "data": {
      "image/png": "[encoded data removed]",
      "text/plain": [
       "<Figure size 576x396 with 1 Axes>"
      ]
     },
     "metadata": {},
     "output_type": "display_data"
    }
   ],
   "source": [
    "#The more horizontal the red line is, the more likely the data is homoscedastic\n",
    "plot_lm_3 = plt.figure()\n",
    "plt.scatter(model_fitted_y, model_norm_residuals_abs_sqrt, alpha=0.5);\n",
    "sns.regplot(model_fitted_y, model_norm_residuals_abs_sqrt,\n",
    "          scatter=False,\n",
    "          ci=False,\n",
    "          lowess=True,\n",
    "          line_kws={'color': 'red', 'lw': 1, 'alpha': 0.8});\n",
    "plot_lm_3.axes[0].set_title('Scale-Location')\n",
    "plot_lm_3.axes[0].set_xlabel('Fitted values')\n",
    "plot_lm_3.axes[0].set_ylabel('$\\sqrt{|Standardized Residuals|}$');\n",
    "\n"
   ]
  },
  {
   "cell_type": "code",
   "execution_count": 462,
   "metadata": {},
   "outputs": [
    {
     "data": {
      "image/png": "[encoded data removed]",
      "text/plain": [
       "<Figure size 576x396 with 1 Axes>"
      ]
     },
     "metadata": {},
     "output_type": "display_data"
    }
   ],
   "source": [
    "#Cook’s Distance, we only need to find leverage points that have a distance greater than 0.5 (above dotted red line). \n",
    "\n",
    "plot_lm_4 = plt.figure();\n",
    "plt.scatter(model_leverage, model_norm_residuals, alpha=0.5);\n",
    "sns.regplot(model_leverage, model_norm_residuals,\n",
    "          scatter=False,\n",
    "          ci=False,\n",
    "          lowess=True,\n",
    "          line_kws={'color': 'red', 'lw': 1, 'alpha': 0.8});\n",
    "plot_lm_4.axes[0].set_xlim(0, max(model_leverage)+0.01)\n",
    "plot_lm_4.axes[0].set_ylim(-3, 5)\n",
    "plot_lm_4.axes[0].set_title('Residuals vs Leverage')\n",
    "plot_lm_4.axes[0].set_xlabel('Leverage')\n",
    "plot_lm_4.axes[0].set_ylabel('Standardized Residuals');\n",
    "\n",
    "# shenanigans for cook's distance....not sure this is right \n",
    "def graph(formula, x_range, label=None):\n",
    "    x = x_range\n",
    "    y = formula(x)\n",
    "    plt.plot(x, y, label=label, lw=1, ls='--', color='red')\n",
    "\n",
    "# annotations\n",
    "\n",
    "\n",
    "p = len(model_fit.params) # number of model parameters\n",
    "graph(lambda x: np.sqrt((0.5 * p * (1 - x)) / x),\n",
    "    np.linspace(0.001, max(model_leverage), 50),\n",
    "    'Cook\\'s distance') # 0.5 line\n",
    "\n",
    "#graph(lambda x: np.sqrt((1 * p * (1 - x)) / x),\n",
    "    #np.linspace(0.001, max(model_leverage), 50)) # 1 line\n",
    "\n",
    "plot_lm_4.legend(loc='upper right');"
   ]
  },
  {
   "cell_type": "markdown",
   "metadata": {},
   "source": [
    "## GLM"
   ]
  },
  {
   "cell_type": "code",
   "execution_count": null,
   "metadata": {},
   "outputs": [],
   "source": [
    "from patsy import dmatrices\n",
    "import statsmodels.api as sm\n",
    "\n",
    "formula = \"\"\"dep ~ ind1 + C(ind2_catagorical) )\"\"\"\n",
    "\n",
    "response, predictors = dmatrices(formula, data, return_type='dataframe')\n",
    "po_results = sm.GLM(response, predictors, family=sm.families.Poisson()).fit()\n",
    "print(po_results.summary())"
   ]
  },
  {
   "cell_type": "code",
   "execution_count": null,
   "metadata": {},
   "outputs": [],
   "source": [
    "# Poisson regression code\n",
    "import statsmodels.api as sm\n",
    "\n",
    "exog, endog = sm.add_constant(x), y\n",
    "\n",
    "mod = sm.GLM(endog, exog, family=sm.families.Poisson(link=sm.families.links.log))\n",
    "\n",
    "res = mod.fit()"
   ]
  },
  {
   "cell_type": "markdown",
   "metadata": {},
   "source": [
    "# Coor Analysis\n",
    "\n",
    "create a clustering coef.\n",
    "net measure predicts feelings about carbon tax\n",
    "show optimal binning variable"
   ]
  },
  {
   "cell_type": "code",
   "execution_count": null,
   "metadata": {},
   "outputs": [],
   "source": []
  }
 ],
 "metadata": {
  "kernelspec": {
   "display_name": "Python 3",
   "language": "python",
   "name": "python3"
  },
  "language_info": {
   "codemirror_mode": {
    "name": "ipython",
    "version": 3
   },
   "file_extension": ".py",
   "mimetype": "text/x-python",
   "name": "python",
   "nbconvert_exporter": "python",
   "pygments_lexer": "ipython3",
   "version": "3.7.7"
  }
 },
 "nbformat": 4,
 "nbformat_minor": 2
}
